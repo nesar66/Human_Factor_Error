{
  "nbformat": 4,
  "nbformat_minor": 0,
  "metadata": {
    "colab": {
      "provenance": []
    },
    "kernelspec": {
      "display_name": "Python 3",
      "language": "python",
      "name": "python3"
    },
    "language_info": {
      "codemirror_mode": {
        "name": "ipython",
        "version": 3
      },
      "file_extension": ".py",
      "mimetype": "text/x-python",
      "name": "python",
      "nbconvert_exporter": "python",
      "pygments_lexer": "ipython3",
      "version": "3.7.3"
    }
  },
  "cells": [
    {
      "cell_type": "code",
      "metadata": {
        "id": "v68urhTS0N9a"
      },
      "source": [
        "import matplotlib.pyplot as plt\n",
        "import matplotlib.ticker as ticker\n",
        "import numpy as np\n",
        "import pandas as pd\n",
        "import scipy as sp\n",
        "from scipy import stats\n",
        "import seaborn as sns\n",
        "import matplotlib.pyplot as plt\n",
        "import numpy as np\n",
        "np.set_printoptions(suppress=True)\n",
        "from numpy import exp\n",
        "from numpy.random import seed\n",
        "seed(1)\n",
        "from math import sqrt\n",
        "import pandas as pd\n",
        "np.set_printoptions(suppress=True)\n",
        "import keras\n",
        "import scipy as sp\n",
        "from scipy import stats\n",
        "import seaborn as sns\n",
        "from sklearn.model_selection import train_test_split\n",
        "from sklearn.linear_model import LinearRegression\n",
        "from sklearn.model_selection import cross_val_score\n",
        "from sklearn.model_selection import KFold\n",
        "from sklearn.pipeline import Pipeline\n",
        "from sklearn.metrics import r2_score\n",
        "from sklearn.preprocessing import MinMaxScaler\n",
        "from tensorflow.python.keras.models import Sequential\n",
        "from tensorflow.python.keras.layers import Dense\n",
        "from tensorflow.python.keras.layers import InputLayer\n",
        "from keras import initializers\n",
        "from keras.callbacks import ModelCheckpoint, EarlyStopping"
      ],
      "execution_count": null,
      "outputs": []
    },
    {
      "cell_type": "code",
      "metadata": {
        "id": "8jUCG-dwAbkY"
      },
      "source": [
        "#from google.colab import drive\n",
        "#drive.mount('/content/gdrive')"
      ],
      "execution_count": null,
      "outputs": []
    },
    {
      "cell_type": "code",
      "metadata": {
        "id": "Ojwm5y7hAbwz"
      },
      "source": [
        "#cd /content/gdrive/My Drive"
      ],
      "execution_count": null,
      "outputs": []
    },
    {
      "cell_type": "code",
      "metadata": {
        "id": "megRTNGgAb6Z"
      },
      "source": [
        "df_temp_2016 = pd.read_csv('2016_Temp.csv')\n",
        "df_temp_2016.columns = ['time','2T4048A','2T4047A','2T4046A','2T4143A','2T4141A','2T2573A','2T4145A','2T2574A','2T4137A','2T4139A']\n",
        "df_temp_2016['time'] =df_temp_2016['time'].str.replace('EST', '')\n",
        "df_temp_2016['Dates'] = pd.to_datetime(df_temp_2016['time']).dt.date\n",
        "df_temp_2016['Time'] = pd.to_datetime(df_temp_2016['time']).dt.time       #df_temp_2016\n",
        "df_temp_2016.drop('time', axis=1, inplace=True)\n",
        "cols = df_temp_2016.columns.tolist()\n",
        "cols =['Dates', 'Time', '2T4048A', '2T4047A', '2T4046A', '2T4143A', '2T4141A', '2T2573A', '2T4145A', '2T2574A', '2T4137A','2T4139A']\n",
        "df_temp_2016=df_temp_2016[cols]\n",
        "#df_temp_2016\n",
        "#df_vib1=df_vib.drop(['first'], axis=1)\n",
        "#df_vib1.head()"
      ],
      "execution_count": null,
      "outputs": []
    },
    {
      "cell_type": "code",
      "metadata": {
        "id": "ntKVMe8QBSjz",
        "colab": {
          "base_uri": "https://localhost:8080/",
          "height": 297
        },
        "outputId": "b41b4c8f-5282-4158-abaa-3d15018bc49e"
      },
      "source": [
        "df_temp_2016.describe()"
      ],
      "execution_count": null,
      "outputs": [
        {
          "output_type": "execute_result",
          "data": {
            "text/html": [
              "<div>\n",
              "<style scoped>\n",
              "    .dataframe tbody tr th:only-of-type {\n",
              "        vertical-align: middle;\n",
              "    }\n",
              "\n",
              "    .dataframe tbody tr th {\n",
              "        vertical-align: top;\n",
              "    }\n",
              "\n",
              "    .dataframe thead th {\n",
              "        text-align: right;\n",
              "    }\n",
              "</style>\n",
              "<table border=\"1\" class=\"dataframe\">\n",
              "  <thead>\n",
              "    <tr style=\"text-align: right;\">\n",
              "      <th></th>\n",
              "      <th>2T4048A</th>\n",
              "      <th>2T4047A</th>\n",
              "      <th>2T4046A</th>\n",
              "      <th>2T4143A</th>\n",
              "      <th>2T4141A</th>\n",
              "      <th>2T2573A</th>\n",
              "      <th>2T4145A</th>\n",
              "      <th>2T2574A</th>\n",
              "      <th>2T4137A</th>\n",
              "      <th>2T4139A</th>\n",
              "    </tr>\n",
              "  </thead>\n",
              "  <tbody>\n",
              "    <tr>\n",
              "      <th>count</th>\n",
              "      <td>527041.000000</td>\n",
              "      <td>527041.000000</td>\n",
              "      <td>527041.000000</td>\n",
              "      <td>527041.000000</td>\n",
              "      <td>527041.000000</td>\n",
              "      <td>527041.0</td>\n",
              "      <td>527041.000000</td>\n",
              "      <td>527041.000000</td>\n",
              "      <td>527041.000000</td>\n",
              "      <td>527041.000000</td>\n",
              "    </tr>\n",
              "    <tr>\n",
              "      <th>mean</th>\n",
              "      <td>162.364144</td>\n",
              "      <td>157.550751</td>\n",
              "      <td>139.183845</td>\n",
              "      <td>131.006717</td>\n",
              "      <td>138.691059</td>\n",
              "      <td>0.0</td>\n",
              "      <td>297.459075</td>\n",
              "      <td>149.137493</td>\n",
              "      <td>138.641308</td>\n",
              "      <td>131.855704</td>\n",
              "    </tr>\n",
              "    <tr>\n",
              "      <th>std</th>\n",
              "      <td>9.927305</td>\n",
              "      <td>8.963991</td>\n",
              "      <td>5.910989</td>\n",
              "      <td>4.209212</td>\n",
              "      <td>5.412042</td>\n",
              "      <td>0.0</td>\n",
              "      <td>23.535647</td>\n",
              "      <td>7.448132</td>\n",
              "      <td>5.429313</td>\n",
              "      <td>4.832766</td>\n",
              "    </tr>\n",
              "    <tr>\n",
              "      <th>min</th>\n",
              "      <td>105.300000</td>\n",
              "      <td>105.800000</td>\n",
              "      <td>105.500000</td>\n",
              "      <td>108.400000</td>\n",
              "      <td>107.600000</td>\n",
              "      <td>0.0</td>\n",
              "      <td>85.600000</td>\n",
              "      <td>106.500000</td>\n",
              "      <td>107.600000</td>\n",
              "      <td>105.600000</td>\n",
              "    </tr>\n",
              "    <tr>\n",
              "      <th>25%</th>\n",
              "      <td>162.800000</td>\n",
              "      <td>157.900000</td>\n",
              "      <td>138.200000</td>\n",
              "      <td>129.500000</td>\n",
              "      <td>137.900000</td>\n",
              "      <td>0.0</td>\n",
              "      <td>295.800000</td>\n",
              "      <td>149.700000</td>\n",
              "      <td>137.900000</td>\n",
              "      <td>130.700000</td>\n",
              "    </tr>\n",
              "    <tr>\n",
              "      <th>50%</th>\n",
              "      <td>164.800000</td>\n",
              "      <td>159.600000</td>\n",
              "      <td>140.600000</td>\n",
              "      <td>131.900000</td>\n",
              "      <td>140.200000</td>\n",
              "      <td>0.0</td>\n",
              "      <td>298.800000</td>\n",
              "      <td>150.400000</td>\n",
              "      <td>140.100000</td>\n",
              "      <td>132.300000</td>\n",
              "    </tr>\n",
              "    <tr>\n",
              "      <th>75%</th>\n",
              "      <td>165.600000</td>\n",
              "      <td>160.300000</td>\n",
              "      <td>141.500000</td>\n",
              "      <td>133.500000</td>\n",
              "      <td>140.700000</td>\n",
              "      <td>0.0</td>\n",
              "      <td>305.200000</td>\n",
              "      <td>151.400000</td>\n",
              "      <td>140.700000</td>\n",
              "      <td>134.900000</td>\n",
              "    </tr>\n",
              "    <tr>\n",
              "      <th>max</th>\n",
              "      <td>169.700000</td>\n",
              "      <td>163.800000</td>\n",
              "      <td>145.000000</td>\n",
              "      <td>136.600000</td>\n",
              "      <td>143.600000</td>\n",
              "      <td>0.0</td>\n",
              "      <td>356.800000</td>\n",
              "      <td>172.200000</td>\n",
              "      <td>143.800000</td>\n",
              "      <td>137.900000</td>\n",
              "    </tr>\n",
              "  </tbody>\n",
              "</table>\n",
              "</div>"
            ],
            "text/plain": [
              "             2T4048A        2T4047A  ...        2T4137A        2T4139A\n",
              "count  527041.000000  527041.000000  ...  527041.000000  527041.000000\n",
              "mean      162.364144     157.550751  ...     138.641308     131.855704\n",
              "std         9.927305       8.963991  ...       5.429313       4.832766\n",
              "min       105.300000     105.800000  ...     107.600000     105.600000\n",
              "25%       162.800000     157.900000  ...     137.900000     130.700000\n",
              "50%       164.800000     159.600000  ...     140.100000     132.300000\n",
              "75%       165.600000     160.300000  ...     140.700000     134.900000\n",
              "max       169.700000     163.800000  ...     143.800000     137.900000\n",
              "\n",
              "[8 rows x 10 columns]"
            ]
          },
          "metadata": {
            "tags": []
          },
          "execution_count": 6
        }
      ]
    },
    {
      "cell_type": "code",
      "metadata": {
        "colab": {
          "base_uri": "https://localhost:8080/"
        },
        "id": "pky-iiesUkgb",
        "outputId": "93ab4d9a-7b27-40c4-eaa4-fd22a3c1a442"
      },
      "source": [],
      "execution_count": null,
      "outputs": [
        {
          "output_type": "stream",
          "text": [
            "Collecting tsmoothie\n",
            "  Downloading https://files.pythonhosted.org/packages/55/de/f50cea5e7cd163783476aaf6f245c2720c4459dfad0894b654f16c6a4122/tsmoothie-1.0.2-py3-none-any.whl\n",
            "Requirement already satisfied: scipy in /usr/local/lib/python3.7/dist-packages (from tsmoothie) (1.4.1)\n",
            "Requirement already satisfied: numpy in /usr/local/lib/python3.7/dist-packages (from tsmoothie) (1.19.5)\n",
            "Collecting simdkalman\n",
            "  Downloading https://files.pythonhosted.org/packages/d9/8a/6a4508231837fa2e5af4c6f0d6fa3d987a27f7aeb287b4e990c29b4e1815/simdkalman-1.0.1-py2.py3-none-any.whl\n",
            "Installing collected packages: simdkalman, tsmoothie\n",
            "Successfully installed simdkalman-1.0.1 tsmoothie-1.0.2\n"
          ],
          "name": "stdout"
        }
      ]
    },
    {
      "cell_type": "code",
      "metadata": {
        "colab": {
          "base_uri": "https://localhost:8080/",
          "height": 297
        },
        "id": "Rspw3H-BUkmj",
        "outputId": "9e55a252-56a1-4903-f2d1-6efb30f83d00"
      },
      "source": [],
      "execution_count": null,
      "outputs": [
        {
          "output_type": "execute_result",
          "data": {
            "text/html": [
              "<div>\n",
              "<style scoped>\n",
              "    .dataframe tbody tr th:only-of-type {\n",
              "        vertical-align: middle;\n",
              "    }\n",
              "\n",
              "    .dataframe tbody tr th {\n",
              "        vertical-align: top;\n",
              "    }\n",
              "\n",
              "    .dataframe thead th {\n",
              "        text-align: right;\n",
              "    }\n",
              "</style>\n",
              "<table border=\"1\" class=\"dataframe\">\n",
              "  <thead>\n",
              "    <tr style=\"text-align: right;\">\n",
              "      <th></th>\n",
              "      <th>2T4048A</th>\n",
              "      <th>2T4047A</th>\n",
              "      <th>2T4046A</th>\n",
              "      <th>2T4143A</th>\n",
              "      <th>2T4141A</th>\n",
              "      <th>2T2573A</th>\n",
              "      <th>2T4145A</th>\n",
              "      <th>2T2574A</th>\n",
              "      <th>2T4137A</th>\n",
              "      <th>2T4139A</th>\n",
              "    </tr>\n",
              "  </thead>\n",
              "  <tbody>\n",
              "    <tr>\n",
              "      <th>count</th>\n",
              "      <td>527041.000000</td>\n",
              "      <td>527041.000000</td>\n",
              "      <td>527041.000000</td>\n",
              "      <td>527041.000000</td>\n",
              "      <td>527041.000000</td>\n",
              "      <td>527041.0</td>\n",
              "      <td>527041.000000</td>\n",
              "      <td>527041.000000</td>\n",
              "      <td>527041.000000</td>\n",
              "      <td>527041.000000</td>\n",
              "    </tr>\n",
              "    <tr>\n",
              "      <th>mean</th>\n",
              "      <td>162.364144</td>\n",
              "      <td>157.550751</td>\n",
              "      <td>139.183845</td>\n",
              "      <td>131.006717</td>\n",
              "      <td>138.691059</td>\n",
              "      <td>0.0</td>\n",
              "      <td>297.459075</td>\n",
              "      <td>149.137493</td>\n",
              "      <td>138.641308</td>\n",
              "      <td>131.855704</td>\n",
              "    </tr>\n",
              "    <tr>\n",
              "      <th>std</th>\n",
              "      <td>9.927305</td>\n",
              "      <td>8.963991</td>\n",
              "      <td>5.910989</td>\n",
              "      <td>4.209212</td>\n",
              "      <td>5.412042</td>\n",
              "      <td>0.0</td>\n",
              "      <td>23.535647</td>\n",
              "      <td>7.448132</td>\n",
              "      <td>5.429313</td>\n",
              "      <td>4.832766</td>\n",
              "    </tr>\n",
              "    <tr>\n",
              "      <th>min</th>\n",
              "      <td>105.300000</td>\n",
              "      <td>105.800000</td>\n",
              "      <td>105.500000</td>\n",
              "      <td>108.400000</td>\n",
              "      <td>107.600000</td>\n",
              "      <td>0.0</td>\n",
              "      <td>85.600000</td>\n",
              "      <td>106.500000</td>\n",
              "      <td>107.600000</td>\n",
              "      <td>105.600000</td>\n",
              "    </tr>\n",
              "    <tr>\n",
              "      <th>25%</th>\n",
              "      <td>162.800000</td>\n",
              "      <td>157.900000</td>\n",
              "      <td>138.200000</td>\n",
              "      <td>129.500000</td>\n",
              "      <td>137.900000</td>\n",
              "      <td>0.0</td>\n",
              "      <td>295.800000</td>\n",
              "      <td>149.700000</td>\n",
              "      <td>137.900000</td>\n",
              "      <td>130.700000</td>\n",
              "    </tr>\n",
              "    <tr>\n",
              "      <th>50%</th>\n",
              "      <td>164.800000</td>\n",
              "      <td>159.600000</td>\n",
              "      <td>140.600000</td>\n",
              "      <td>131.900000</td>\n",
              "      <td>140.200000</td>\n",
              "      <td>0.0</td>\n",
              "      <td>298.800000</td>\n",
              "      <td>150.400000</td>\n",
              "      <td>140.100000</td>\n",
              "      <td>132.300000</td>\n",
              "    </tr>\n",
              "    <tr>\n",
              "      <th>75%</th>\n",
              "      <td>165.600000</td>\n",
              "      <td>160.300000</td>\n",
              "      <td>141.500000</td>\n",
              "      <td>133.500000</td>\n",
              "      <td>140.700000</td>\n",
              "      <td>0.0</td>\n",
              "      <td>305.200000</td>\n",
              "      <td>151.400000</td>\n",
              "      <td>140.700000</td>\n",
              "      <td>134.900000</td>\n",
              "    </tr>\n",
              "    <tr>\n",
              "      <th>max</th>\n",
              "      <td>169.700000</td>\n",
              "      <td>163.800000</td>\n",
              "      <td>145.000000</td>\n",
              "      <td>136.600000</td>\n",
              "      <td>143.600000</td>\n",
              "      <td>0.0</td>\n",
              "      <td>356.800000</td>\n",
              "      <td>172.200000</td>\n",
              "      <td>143.800000</td>\n",
              "      <td>137.900000</td>\n",
              "    </tr>\n",
              "  </tbody>\n",
              "</table>\n",
              "</div>"
            ],
            "text/plain": [
              "             2T4048A        2T4047A  ...        2T4137A        2T4139A\n",
              "count  527041.000000  527041.000000  ...  527041.000000  527041.000000\n",
              "mean      162.364144     157.550751  ...     138.641308     131.855704\n",
              "std         9.927305       8.963991  ...       5.429313       4.832766\n",
              "min       105.300000     105.800000  ...     107.600000     105.600000\n",
              "25%       162.800000     157.900000  ...     137.900000     130.700000\n",
              "50%       164.800000     159.600000  ...     140.100000     132.300000\n",
              "75%       165.600000     160.300000  ...     140.700000     134.900000\n",
              "max       169.700000     163.800000  ...     143.800000     137.900000\n",
              "\n",
              "[8 rows x 10 columns]"
            ]
          },
          "metadata": {
            "tags": []
          },
          "execution_count": 31
        }
      ]
    },
    {
      "cell_type": "code",
      "metadata": {
        "colab": {
          "base_uri": "https://localhost:8080/",
          "height": 391
        },
        "id": "CiNbUCwbUkq6",
        "outputId": "9d86e536-e17e-4e96-f63b-17c36c1efa58"
      },
      "source": [
        "\n"
      ],
      "execution_count": null,
      "outputs": [
        {
          "output_type": "execute_result",
          "data": {
            "text/plain": [
              "[<matplotlib.lines.Line2D at 0x7f85758f7310>]"
            ]
          },
          "metadata": {
            "tags": []
          },
          "execution_count": 41
        },
        {
          "output_type": "display_data",
          "data": {
            "image/png": "[encoded data removed]",
            "text/plain": [
              "<Figure size 792x432 with 1 Axes>"
            ]
          },
          "metadata": {
            "tags": [],
            "needs_background": "light"
          }
        }
      ]
    },
    {
      "cell_type": "code",
      "metadata": {
        "colab": {
          "base_uri": "https://localhost:8080/"
        },
        "id": "tYhgtQJeUku7",
        "outputId": "5b661462-2e61-4e6c-a76d-3ded224c15e5"
      },
      "source": [
        "'''!pip install pykalman\n",
        "from pykalman import KalmanFilter\n",
        "import numpy as np\n",
        "kf = KalmanFilter(transition_matrices = [[1, 1], [0, 1]], observation_matrices = [[0.1, 0.5], [-0.3, 0.0]])\n",
        "measurements = np.asarray([[1,0], [0,0], [0,1]])  # 3 observations\n",
        "kf = kf.em(measurements, n_iter=5)\n",
        "(filtered_state_means, filtered_state_covariances) = kf.filter(measurements)\n",
        "(smoothed_state_means, smoothed_state_covariances) = kf.smooth(measurements)\n",
        "kf'''"
      ],
      "execution_count": null,
      "outputs": [
        {
          "output_type": "stream",
          "text": [
            "Requirement already satisfied: pykalman in /usr/local/lib/python3.7/dist-packages (0.9.5)\n"
          ],
          "name": "stdout"
        },
        {
          "output_type": "execute_result",
          "data": {
            "text/plain": [
              "<pykalman.standard.KalmanFilter at 0x7f8575ed7190>"
            ]
          },
          "metadata": {
            "tags": []
          },
          "execution_count": 29
        }
      ]
    },
    {
      "cell_type": "code",
      "metadata": {
        "colab": {
          "base_uri": "https://localhost:8080/",
          "height": 180
        },
        "id": "5bfPzYbUdwcw",
        "outputId": "c98b89ed-c890-4108-99f6-b93071f4c306"
      },
      "source": [],
      "execution_count": null,
      "outputs": [
        {
          "output_type": "error",
          "ename": "NameError",
          "evalue": "ignored",
          "traceback": [
            "\u001b[0;31m---------------------------------------------------------------------------\u001b[0m",
            "\u001b[0;31mNameError\u001b[0m                                 Traceback (most recent call last)",
            "\u001b[0;32m<ipython-input-30-05987dd36044>\u001b[0m in \u001b[0;36m<module>\u001b[0;34m()\u001b[0m\n\u001b[0;32m----> 1\u001b[0;31m data = sim_randomwalk(n_series=3, timesteps=100, \n\u001b[0m\u001b[1;32m      2\u001b[0m                       process_noise=10, measure_noise=30)\n",
            "\u001b[0;31mNameError\u001b[0m: name 'sim_randomwalk' is not defined"
          ]
        }
      ]
    },
    {
      "cell_type": "code",
      "metadata": {
        "id": "JWexi1wEBSj0",
        "colab": {
          "base_uri": "https://localhost:8080/",
          "height": 120
        },
        "outputId": "343cf3c5-5fcb-443c-e9a0-3574e3629850"
      },
      "source": [
        "'''df_temp_2017 = pd.read_csv('2017_Temp.csv')\n",
        "df_temp_2017.columns = ['time','2T4048A','2T4047A','2T4046A','2T4143A','2T4141A','2T2573A','2T4145A','2T2574A','2T4137A','2T4139A']\n",
        "df_temp_2017['time'] =df_temp_2017['time'].str.replace('EST', '')\n",
        "df_temp_2017['Dates'] = pd.to_datetime(df_temp_2017['time']).dt.date\n",
        "df_temp_2017['Time'] = pd.to_datetime(df_temp_2017['time']).dt.time#df_temp_2017\n",
        "df_temp_2017.drop('time', axis=1, inplace=True)\n",
        "cols = df_temp_2017.columns.tolist()\n",
        "cols =['Dates', 'Time', '2T4048A', '2T4047A', '2T4046A', '2T4143A', '2T4141A', '2T2573A', '2T4145A', '2T2574A', '2T4137A','2T4139A']\n",
        "df_temp_2017=df_temp_2017[cols]\n",
        "#df_temp_2017\n",
        "#df_vib1=df_vib.drop(['first'], axis=1)\n",
        "#df_vib1.head()'''"
      ],
      "execution_count": null,
      "outputs": [
        {
          "output_type": "execute_result",
          "data": {
            "application/vnd.google.colaboratory.intrinsic+json": {
              "type": "string"
            },
            "text/plain": [
              "\"df_temp_2017 = pd.read_csv('2017_Temp.csv')\\ndf_temp_2017.columns = ['time','2T4048A','2T4047A','2T4046A','2T4143A','2T4141A','2T2573A','2T4145A','2T2574A','2T4137A','2T4139A']\\ndf_temp_2017['time'] =df_temp_2017['time'].str.replace('EST', '')\\ndf_temp_2017['Dates'] = pd.to_datetime(df_temp_2017['time']).dt.date\\ndf_temp_2017['Time'] = pd.to_datetime(df_temp_2017['time']).dt.time#df_temp_2017\\ndf_temp_2017.drop('time', axis=1, inplace=True)\\ncols = df_temp_2017.columns.tolist()\\ncols =['Dates', 'Time', '2T4048A', '2T4047A', '2T4046A', '2T4143A', '2T4141A', '2T2573A', '2T4145A', '2T2574A', '2T4137A','2T4139A']\\ndf_temp_2017=df_temp_2017[cols]\\n#df_temp_2017\\n#df_vib1=df_vib.drop(['first'], axis=1)\\n#df_vib1.head()\""
            ]
          },
          "metadata": {
            "tags": []
          },
          "execution_count": 7
        }
      ]
    },
    {
      "cell_type": "code",
      "metadata": {
        "id": "Zz6qhkz0BSj2",
        "colab": {
          "base_uri": "https://localhost:8080/",
          "height": 120
        },
        "outputId": "7ca2ccf9-f83d-4995-c932-f8351a8b78d2"
      },
      "source": [
        "'''df_temp_2018 = pd.read_csv('2018_Temp.csv')\n",
        "df_temp_2018.columns = ['time','2T4048A','2T4047A','2T4046A','2T4143A','2T4141A','2T2573A','2T4145A','2T2574A','2T4137A','2T4139A']\n",
        "df_temp_2018['time'] =df_temp_2018['time'].str.replace('EST', '')\n",
        "df_temp_2018['Dates'] = pd.to_datetime(df_temp_2018['time']).dt.date\n",
        "df_temp_2018['Time'] = pd.to_datetime(df_temp_2018['time']).dt.time#df_temp_2018\n",
        "df_temp_2018.drop('time', axis=1, inplace=True)\n",
        "cols = df_temp_2018.columns.tolist()\n",
        "cols =['Dates', 'Time', '2T4048A', '2T4047A', '2T4046A', '2T4143A', '2T4141A', '2T2573A', '2T4145A', '2T2574A', '2T4137A','2T4139A']\n",
        "df_temp_2018=df_temp_2018[cols]\n",
        "#df_temp_2018\n",
        "#df_vib1=df_vib.drop(['first'], axis=1)\n",
        "#df_vib1.head()'''"
      ],
      "execution_count": null,
      "outputs": [
        {
          "output_type": "execute_result",
          "data": {
            "application/vnd.google.colaboratory.intrinsic+json": {
              "type": "string"
            },
            "text/plain": [
              "\"df_temp_2018 = pd.read_csv('2018_Temp.csv')\\ndf_temp_2018.columns = ['time','2T4048A','2T4047A','2T4046A','2T4143A','2T4141A','2T2573A','2T4145A','2T2574A','2T4137A','2T4139A']\\ndf_temp_2018['time'] =df_temp_2018['time'].str.replace('EST', '')\\ndf_temp_2018['Dates'] = pd.to_datetime(df_temp_2018['time']).dt.date\\ndf_temp_2018['Time'] = pd.to_datetime(df_temp_2018['time']).dt.time#df_temp_2018\\ndf_temp_2018.drop('time', axis=1, inplace=True)\\ncols = df_temp_2018.columns.tolist()\\ncols =['Dates', 'Time', '2T4048A', '2T4047A', '2T4046A', '2T4143A', '2T4141A', '2T2573A', '2T4145A', '2T2574A', '2T4137A','2T4139A']\\ndf_temp_2018=df_temp_2018[cols]\\n#df_temp_2018\\n#df_vib1=df_vib.drop(['first'], axis=1)\\n#df_vib1.head()\""
            ]
          },
          "metadata": {
            "tags": []
          },
          "execution_count": 8
        }
      ]
    },
    {
      "cell_type": "code",
      "metadata": {
        "id": "KK3J5pknBSj3",
        "colab": {
          "base_uri": "https://localhost:8080/"
        },
        "outputId": "a4ee5303-5749-4e2b-816b-8cf953479552"
      },
      "source": [
        "3.9**-5"
      ],
      "execution_count": null,
      "outputs": [
        {
          "output_type": "execute_result",
          "data": {
            "text/plain": [
              "0.0011083501001765614"
            ]
          },
          "metadata": {
            "tags": []
          },
          "execution_count": 9
        }
      ]
    },
    {
      "cell_type": "code",
      "metadata": {
        "id": "lvZ3Hle0BSj5",
        "colab": {
          "base_uri": "https://localhost:8080/",
          "height": 120
        },
        "outputId": "694d5f5e-d357-48a9-e9a6-eb909f333882"
      },
      "source": [
        "'''df_temp_2019 = pd.read_csv('2019_Temp.csv')\n",
        "df_temp_2019.columns = ['time','2T4048A','2T4047A','2T4046A','2T4143A','2T4141A','2T2573A','2T4145A','2T2574A','2T4137A','2T4139A']\n",
        "df_temp_2019['time'] =df_temp_2019['time'].str.replace('EST', '')\n",
        "df_temp_2019['Dates'] = pd.to_datetime(df_temp_2019['time']).dt.date\n",
        "df_temp_2019['Time'] = pd.to_datetime(df_temp_2019['time']).dt.time#df_temp_2019\n",
        "df_temp_2019.drop('time', axis=1, inplace=True)\n",
        "cols = df_temp_2019.columns.tolist()\n",
        "cols =['Dates', 'Time', '2T4048A', '2T4047A', '2T4046A', '2T4143A', '2T4141A', '2T2573A', '2T4145A', '2T2574A', '2T4137A','2T4139A']\n",
        "df_temp_2019=df_temp_2019[cols]\n",
        "#df_temp_2019\n",
        "#df_vib1=df_vib.drop(['first'], axis=1)\n",
        "#df_vib1.head()'''"
      ],
      "execution_count": null,
      "outputs": [
        {
          "output_type": "execute_result",
          "data": {
            "application/vnd.google.colaboratory.intrinsic+json": {
              "type": "string"
            },
            "text/plain": [
              "\"df_temp_2019 = pd.read_csv('2019_Temp.csv')\\ndf_temp_2019.columns = ['time','2T4048A','2T4047A','2T4046A','2T4143A','2T4141A','2T2573A','2T4145A','2T2574A','2T4137A','2T4139A']\\ndf_temp_2019['time'] =df_temp_2019['time'].str.replace('EST', '')\\ndf_temp_2019['Dates'] = pd.to_datetime(df_temp_2019['time']).dt.date\\ndf_temp_2019['Time'] = pd.to_datetime(df_temp_2019['time']).dt.time#df_temp_2019\\ndf_temp_2019.drop('time', axis=1, inplace=True)\\ncols = df_temp_2019.columns.tolist()\\ncols =['Dates', 'Time', '2T4048A', '2T4047A', '2T4046A', '2T4143A', '2T4141A', '2T2573A', '2T4145A', '2T2574A', '2T4137A','2T4139A']\\ndf_temp_2019=df_temp_2019[cols]\\n#df_temp_2019\\n#df_vib1=df_vib.drop(['first'], axis=1)\\n#df_vib1.head()\""
            ]
          },
          "metadata": {
            "tags": []
          },
          "execution_count": 10
        }
      ]
    },
    {
      "cell_type": "code",
      "metadata": {
        "id": "SFe6yidfBSj6"
      },
      "source": [
        "#df_temp_2019.shape"
      ],
      "execution_count": null,
      "outputs": []
    },
    {
      "cell_type": "code",
      "metadata": {
        "id": "8pKd5JPPBSj7",
        "colab": {
          "base_uri": "https://localhost:8080/",
          "height": 120
        },
        "outputId": "44c34a92-dbf0-4fce-d13f-1811b8ed7292"
      },
      "source": [
        "'''df_temp_2020 = pd.read_csv('2020_Temp.csv')\n",
        "df_temp_2020.columns = ['time','2T4048A','2T4047A','2T4046A','2T4143A','2T4141A','2T2573A','2T4145A','2T2574A','2T4137A','2T4139A']\n",
        "df_temp_2020['time'] =df_temp_2020['time'].str.replace('EST', '')\n",
        "df_temp_2020['Dates'] = pd.to_datetime(df_temp_2020['time']).dt.date\n",
        "df_temp_2020['Time'] = pd.to_datetime(df_temp_2020['time']).dt.time#df_temp_2020\n",
        "df_temp_2020.drop('time', axis=1, inplace=True)\n",
        "cols = df_temp_2020.columns.tolist()\n",
        "cols =['Dates', 'Time', '2T4048A', '2T4047A', '2T4046A', '2T4143A', '2T4141A', '2T2573A', '2T4145A', '2T2574A', '2T4137A','2T4139A']\n",
        "df_temp_2020=df_temp_2020[cols]\n",
        "df_temp_2020\n",
        "#df_vib1=df_vib.drop(['first'], axis=1)\n",
        "#df_vib1.head()'''"
      ],
      "execution_count": null,
      "outputs": [
        {
          "output_type": "execute_result",
          "data": {
            "application/vnd.google.colaboratory.intrinsic+json": {
              "type": "string"
            },
            "text/plain": [
              "\"df_temp_2020 = pd.read_csv('2020_Temp.csv')\\ndf_temp_2020.columns = ['time','2T4048A','2T4047A','2T4046A','2T4143A','2T4141A','2T2573A','2T4145A','2T2574A','2T4137A','2T4139A']\\ndf_temp_2020['time'] =df_temp_2020['time'].str.replace('EST', '')\\ndf_temp_2020['Dates'] = pd.to_datetime(df_temp_2020['time']).dt.date\\ndf_temp_2020['Time'] = pd.to_datetime(df_temp_2020['time']).dt.time#df_temp_2020\\ndf_temp_2020.drop('time', axis=1, inplace=True)\\ncols = df_temp_2020.columns.tolist()\\ncols =['Dates', 'Time', '2T4048A', '2T4047A', '2T4046A', '2T4143A', '2T4141A', '2T2573A', '2T4145A', '2T2574A', '2T4137A','2T4139A']\\ndf_temp_2020=df_temp_2020[cols]\\ndf_temp_2020\\n#df_vib1=df_vib.drop(['first'], axis=1)\\n#df_vib1.head()\""
            ]
          },
          "metadata": {
            "tags": []
          },
          "execution_count": 12
        }
      ]
    },
    {
      "cell_type": "code",
      "metadata": {
        "id": "e_f_--yRBSj8",
        "colab": {
          "base_uri": "https://localhost:8080/",
          "height": 419
        },
        "outputId": "5b3d14e7-ef54-4a78-cc78-e34b5cced4b5"
      },
      "source": [
        "df_temp_2016_1 = df_temp_2016.iloc[:-1]\n",
        "df_temp_2016_1"
      ],
      "execution_count": null,
      "outputs": [
        {
          "output_type": "execute_result",
          "data": {
            "text/html": [
              "<div>\n",
              "<style scoped>\n",
              "    .dataframe tbody tr th:only-of-type {\n",
              "        vertical-align: middle;\n",
              "    }\n",
              "\n",
              "    .dataframe tbody tr th {\n",
              "        vertical-align: top;\n",
              "    }\n",
              "\n",
              "    .dataframe thead th {\n",
              "        text-align: right;\n",
              "    }\n",
              "</style>\n",
              "<table border=\"1\" class=\"dataframe\">\n",
              "  <thead>\n",
              "    <tr style=\"text-align: right;\">\n",
              "      <th></th>\n",
              "      <th>Dates</th>\n",
              "      <th>Time</th>\n",
              "      <th>2T4048A</th>\n",
              "      <th>2T4047A</th>\n",
              "      <th>2T4046A</th>\n",
              "      <th>2T4143A</th>\n",
              "      <th>2T4141A</th>\n",
              "      <th>2T2573A</th>\n",
              "      <th>2T4145A</th>\n",
              "      <th>2T2574A</th>\n",
              "      <th>2T4137A</th>\n",
              "      <th>2T4139A</th>\n",
              "    </tr>\n",
              "  </thead>\n",
              "  <tbody>\n",
              "    <tr>\n",
              "      <th>0</th>\n",
              "      <td>2016-01-01</td>\n",
              "      <td>00:00:00</td>\n",
              "      <td>161.5</td>\n",
              "      <td>157.7</td>\n",
              "      <td>139.6</td>\n",
              "      <td>129.5</td>\n",
              "      <td>138.7</td>\n",
              "      <td>0</td>\n",
              "      <td>298.0</td>\n",
              "      <td>150.7</td>\n",
              "      <td>138.8</td>\n",
              "      <td>130.4</td>\n",
              "    </tr>\n",
              "    <tr>\n",
              "      <th>1</th>\n",
              "      <td>2016-01-01</td>\n",
              "      <td>00:01:00</td>\n",
              "      <td>161.4</td>\n",
              "      <td>157.6</td>\n",
              "      <td>139.5</td>\n",
              "      <td>129.6</td>\n",
              "      <td>138.8</td>\n",
              "      <td>0</td>\n",
              "      <td>298.0</td>\n",
              "      <td>150.7</td>\n",
              "      <td>138.8</td>\n",
              "      <td>130.3</td>\n",
              "    </tr>\n",
              "    <tr>\n",
              "      <th>2</th>\n",
              "      <td>2016-01-01</td>\n",
              "      <td>00:02:00</td>\n",
              "      <td>161.3</td>\n",
              "      <td>157.5</td>\n",
              "      <td>139.5</td>\n",
              "      <td>129.6</td>\n",
              "      <td>138.8</td>\n",
              "      <td>0</td>\n",
              "      <td>298.0</td>\n",
              "      <td>150.7</td>\n",
              "      <td>138.8</td>\n",
              "      <td>130.3</td>\n",
              "    </tr>\n",
              "    <tr>\n",
              "      <th>3</th>\n",
              "      <td>2016-01-01</td>\n",
              "      <td>00:03:00</td>\n",
              "      <td>161.3</td>\n",
              "      <td>157.5</td>\n",
              "      <td>139.5</td>\n",
              "      <td>129.6</td>\n",
              "      <td>138.8</td>\n",
              "      <td>0</td>\n",
              "      <td>298.0</td>\n",
              "      <td>150.7</td>\n",
              "      <td>138.8</td>\n",
              "      <td>130.3</td>\n",
              "    </tr>\n",
              "    <tr>\n",
              "      <th>4</th>\n",
              "      <td>2016-01-01</td>\n",
              "      <td>00:04:00</td>\n",
              "      <td>161.3</td>\n",
              "      <td>157.5</td>\n",
              "      <td>139.5</td>\n",
              "      <td>129.6</td>\n",
              "      <td>138.8</td>\n",
              "      <td>0</td>\n",
              "      <td>298.0</td>\n",
              "      <td>150.7</td>\n",
              "      <td>138.8</td>\n",
              "      <td>130.3</td>\n",
              "    </tr>\n",
              "    <tr>\n",
              "      <th>...</th>\n",
              "      <td>...</td>\n",
              "      <td>...</td>\n",
              "      <td>...</td>\n",
              "      <td>...</td>\n",
              "      <td>...</td>\n",
              "      <td>...</td>\n",
              "      <td>...</td>\n",
              "      <td>...</td>\n",
              "      <td>...</td>\n",
              "      <td>...</td>\n",
              "      <td>...</td>\n",
              "      <td>...</td>\n",
              "    </tr>\n",
              "    <tr>\n",
              "      <th>527035</th>\n",
              "      <td>2016-12-31</td>\n",
              "      <td>23:55:00</td>\n",
              "      <td>164.9</td>\n",
              "      <td>159.6</td>\n",
              "      <td>140.7</td>\n",
              "      <td>131.9</td>\n",
              "      <td>140.7</td>\n",
              "      <td>0</td>\n",
              "      <td>297.3</td>\n",
              "      <td>153.5</td>\n",
              "      <td>140.8</td>\n",
              "      <td>131.3</td>\n",
              "    </tr>\n",
              "    <tr>\n",
              "      <th>527036</th>\n",
              "      <td>2016-12-31</td>\n",
              "      <td>23:56:00</td>\n",
              "      <td>164.9</td>\n",
              "      <td>159.6</td>\n",
              "      <td>140.7</td>\n",
              "      <td>131.9</td>\n",
              "      <td>140.7</td>\n",
              "      <td>0</td>\n",
              "      <td>297.3</td>\n",
              "      <td>153.5</td>\n",
              "      <td>140.8</td>\n",
              "      <td>131.3</td>\n",
              "    </tr>\n",
              "    <tr>\n",
              "      <th>527037</th>\n",
              "      <td>2016-12-31</td>\n",
              "      <td>23:57:00</td>\n",
              "      <td>164.9</td>\n",
              "      <td>159.6</td>\n",
              "      <td>140.7</td>\n",
              "      <td>131.9</td>\n",
              "      <td>140.7</td>\n",
              "      <td>0</td>\n",
              "      <td>297.3</td>\n",
              "      <td>153.5</td>\n",
              "      <td>140.8</td>\n",
              "      <td>131.3</td>\n",
              "    </tr>\n",
              "    <tr>\n",
              "      <th>527038</th>\n",
              "      <td>2016-12-31</td>\n",
              "      <td>23:58:00</td>\n",
              "      <td>164.9</td>\n",
              "      <td>159.6</td>\n",
              "      <td>140.7</td>\n",
              "      <td>131.9</td>\n",
              "      <td>140.7</td>\n",
              "      <td>0</td>\n",
              "      <td>297.3</td>\n",
              "      <td>153.5</td>\n",
              "      <td>140.8</td>\n",
              "      <td>131.3</td>\n",
              "    </tr>\n",
              "    <tr>\n",
              "      <th>527039</th>\n",
              "      <td>2016-12-31</td>\n",
              "      <td>23:59:00</td>\n",
              "      <td>164.9</td>\n",
              "      <td>159.6</td>\n",
              "      <td>140.7</td>\n",
              "      <td>131.9</td>\n",
              "      <td>140.7</td>\n",
              "      <td>0</td>\n",
              "      <td>297.3</td>\n",
              "      <td>153.5</td>\n",
              "      <td>140.8</td>\n",
              "      <td>131.3</td>\n",
              "    </tr>\n",
              "  </tbody>\n",
              "</table>\n",
              "<p>527040 rows × 12 columns</p>\n",
              "</div>"
            ],
            "text/plain": [
              "             Dates      Time  2T4048A  ...  2T2574A  2T4137A  2T4139A\n",
              "0       2016-01-01  00:00:00    161.5  ...    150.7    138.8    130.4\n",
              "1       2016-01-01  00:01:00    161.4  ...    150.7    138.8    130.3\n",
              "2       2016-01-01  00:02:00    161.3  ...    150.7    138.8    130.3\n",
              "3       2016-01-01  00:03:00    161.3  ...    150.7    138.8    130.3\n",
              "4       2016-01-01  00:04:00    161.3  ...    150.7    138.8    130.3\n",
              "...            ...       ...      ...  ...      ...      ...      ...\n",
              "527035  2016-12-31  23:55:00    164.9  ...    153.5    140.8    131.3\n",
              "527036  2016-12-31  23:56:00    164.9  ...    153.5    140.8    131.3\n",
              "527037  2016-12-31  23:57:00    164.9  ...    153.5    140.8    131.3\n",
              "527038  2016-12-31  23:58:00    164.9  ...    153.5    140.8    131.3\n",
              "527039  2016-12-31  23:59:00    164.9  ...    153.5    140.8    131.3\n",
              "\n",
              "[527040 rows x 12 columns]"
            ]
          },
          "metadata": {
            "tags": []
          },
          "execution_count": 13
        }
      ]
    },
    {
      "cell_type": "code",
      "metadata": {
        "id": "BTnVux7xBSj9"
      },
      "source": [
        "#df_temp_all=pd.concat([df_temp_2016_1, df_temp_2017_1, df_temp_2018_1, df_temp_2019_1,df_temp_2020_1])\n",
        "#df_temp_all.shape"
      ],
      "execution_count": null,
      "outputs": []
    },
    {
      "cell_type": "code",
      "metadata": {
        "id": "OQph3iMcBSj-"
      },
      "source": [
        "#df_temp_all.head()"
      ],
      "execution_count": null,
      "outputs": []
    },
    {
      "cell_type": "code",
      "metadata": {
        "id": "xREF8tODBSj-"
      },
      "source": [
        "#df_temp_2020_1.head()"
      ],
      "execution_count": null,
      "outputs": []
    },
    {
      "cell_type": "code",
      "metadata": {
        "id": "L0m8Z1Y2BSj_"
      },
      "source": [],
      "execution_count": null,
      "outputs": []
    },
    {
      "cell_type": "code",
      "metadata": {
        "id": "AM7cY3c2BSkA"
      },
      "source": [],
      "execution_count": null,
      "outputs": []
    },
    {
      "cell_type": "code",
      "metadata": {
        "id": "mb41dKvlAcEJ",
        "colab": {
          "base_uri": "https://localhost:8080/"
        },
        "outputId": "4fc9dcae-4ff5-4e19-eec8-6da257c120a7"
      },
      "source": [
        "df_temp_2016.shape\n",
        "#df_temp_2016.describe()"
      ],
      "execution_count": null,
      "outputs": [
        {
          "output_type": "execute_result",
          "data": {
            "text/plain": [
              "(527041, 12)"
            ]
          },
          "metadata": {
            "tags": []
          },
          "execution_count": 17
        }
      ]
    },
    {
      "cell_type": "code",
      "metadata": {
        "id": "JEcUl7sEBSkC"
      },
      "source": [],
      "execution_count": null,
      "outputs": []
    },
    {
      "cell_type": "code",
      "metadata": {
        "id": "y1GtTv1hBSkC",
        "colab": {
          "base_uri": "https://localhost:8080/",
          "height": 606
        },
        "outputId": "8a1b56b7-03f4-4387-ec80-ab56cdec82a2"
      },
      "source": [
        "#'2T4048A', '2T4047A', '2T4046A', '2T4143A', '2T4141A', '2T4145A', '2T2574A', '2T4137A', '2T4139A'\n",
        "#'2T4048A', '2T4047A', '2T4046A', '2T4143A', '2T4141A', '2T4145A', '2T2574A', '2T4137A', '2T4139A'\n",
        "plt.subplots(figsize=(15, 10))\n",
        "plt.subplot(3,3,1)\n",
        "plt.hist(df_temp_2016_1['2T4048A'], density=False, bins=20)\n",
        "plt.ylabel('temperature in ℉')\n",
        "plt.xlabel('2T4048A')\n",
        "plt.axvline(df_temp_2016_1['2T4048A'].mean(), color='k', linestyle='dashed', linewidth=1)\n",
        "plt.axvline(np.percentile(df_temp_2016_1['2T4048A'], [25])-1.5*(np.percentile(df_temp_2016_1['2T4048A'], [75])-np.percentile(df_temp_2016_1['2T4048A'], [25])), color='red', linestyle='dashed', linewidth=2)\n",
        "plt.axvline(np.percentile(df_temp_2016_1['2T4048A'], [75])+1.5*(np.percentile(df_temp_2016_1['2T4048A'], [75])-np.percentile(df_temp_2016_1['2T4048A'], [25])), color='red', linestyle='dashed', linewidth=2)\n",
        "\n",
        "plt.subplot(3,3,2)\n",
        "plt.hist(df_temp_2016_1['2T4047A'], density=False, bins=20)\n",
        "plt.ylabel('')\n",
        "plt.xlabel('2T4047A')\n",
        "plt.axvline(df_temp_2016_1['2T4047A'].mean(), color='k', linestyle='dashed', linewidth=1)\n",
        "plt.axvline(np.percentile(df_temp_2016_1['2T4047A'], [25])-1.5*(np.percentile(df_temp_2016_1['2T4047A'], [75])-np.percentile(df_temp_2016_1['2T4047A'], [25])), color='red', linestyle='dashed', linewidth=2)\n",
        "plt.axvline(np.percentile(df_temp_2016_1['2T4047A'], [75])+1.5*(np.percentile(df_temp_2016_1['2T4047A'], [75])-np.percentile(df_temp_2016_1['2T4047A'], [25])), color='red', linestyle='dashed', linewidth=2)\n",
        "\n",
        "plt.subplot(3,3,3)\n",
        "plt.hist(df_temp_2016_1['2T4046A'], density=False, bins=20)\n",
        "plt.ylabel('')\n",
        "plt.xlabel('2T4046A')\n",
        "plt.axvline(df_temp_2016_1['2T4046A'].mean(), color='k', linestyle='dashed', linewidth=1)\n",
        "plt.axvline(np.percentile(df_temp_2016_1['2T4046A'], [25])-1.5*(np.percentile(df_temp_2016_1['2T4046A'], [75])-np.percentile(df_temp_2016_1['2T4046A'], [25])), color='red', linestyle='dashed', linewidth=2)\n",
        "plt.axvline(np.percentile(df_temp_2016_1['2T4046A'], [75])+1.5*(np.percentile(df_temp_2016_1['2T4046A'], [75])-np.percentile(df_temp_2016_1['2T4046A'], [25])), color='red', linestyle='dashed', linewidth=2)\n",
        "#'2T4143A', '2T4141A', '2T4145A', '2T2574A', '2T4137A', '2T4139A'\n",
        "plt.subplot(3,3,4)\n",
        "plt.hist(df_temp_2016_1['2T4143A'], density=False, bins=20)\n",
        "plt.ylabel('temperature in ℉')\n",
        "plt.xlabel('2T4143A')\n",
        "plt.axvline(df_temp_2016_1['2T4143A'].mean(), color='k', linestyle='dashed', linewidth=1)\n",
        "plt.axvline(np.percentile(df_temp_2016_1['2T4143A'], [25])-1.5*(np.percentile(df_temp_2016_1['2T4143A'], [75])-np.percentile(df_temp_2016_1['2T4143A'], [25])), color='red', linestyle='dashed', linewidth=2)\n",
        "plt.axvline(np.percentile(df_temp_2016_1['2T4143A'], [75])+1.5*(np.percentile(df_temp_2016_1['2T4143A'], [75])-np.percentile(df_temp_2016_1['2T4143A'], [25])), color='red', linestyle='dashed', linewidth=2)\n",
        "\n",
        "plt.subplot(3,3,5)\n",
        "plt.hist(df_temp_2016_1['2T4141A'], density=False, bins=20)\n",
        "plt.ylabel('')\n",
        "plt.xlabel('2T4141A')\n",
        "plt.axvline(df_temp_2016_1['2T4141A'].mean(), color='k', linestyle='dashed', linewidth=1)\n",
        "plt.axvline(np.percentile(df_temp_2016_1['2T4141A'], [25])-1.5*(np.percentile(df_temp_2016_1['2T4141A'], [75])-np.percentile(df_temp_2016_1['2T4141A'], [25])), color='red', linestyle='dashed', linewidth=2)\n",
        "plt.axvline(np.percentile(df_temp_2016_1['2T4141A'], [75])+1.5*(np.percentile(df_temp_2016_1['2T4141A'], [75])-np.percentile(df_temp_2016_1['2T4141A'], [25])), color='red', linestyle='dashed', linewidth=2)\n",
        "\n",
        "plt.subplot(3,3,6)\n",
        "plt.hist(df_temp_2016_1['2T4145A'], density=False, bins=20)\n",
        "plt.ylabel('')\n",
        "plt.xlabel('2T4145A')\n",
        "plt.axvline(df_temp_2016_1['2T4145A'].mean(), color='k', linestyle='dashed', linewidth=1)\n",
        "plt.axvline(np.percentile(df_temp_2016_1['2T4145A'], [25])-1.5*(np.percentile(df_temp_2016_1['2T4145A'], [75])-np.percentile(df_temp_2016_1['2T4145A'], [25])), color='red', linestyle='dashed', linewidth=2)\n",
        "plt.axvline(np.percentile(df_temp_2016_1['2T4145A'], [75])+1.5*(np.percentile(df_temp_2016_1['2T4145A'], [75])-np.percentile(df_temp_2016_1['2T4145A'], [25])), color='red', linestyle='dashed', linewidth=2)\n",
        "#'2T2574A', '2T4137A', '2T4139A'\n",
        "plt.subplot(3,3,7)\n",
        "plt.hist(df_temp_2016_1['2T2574A'], density=False, bins=20)\n",
        "plt.ylabel('temperature in ℉')\n",
        "plt.xlabel('2T2574A')\n",
        "plt.axvline(df_temp_2016_1['2T2574A'].mean(), color='k', linestyle='dashed', linewidth=1)\n",
        "plt.axvline(np.percentile(df_temp_2016_1['2T2574A'], [25])-1.5*(np.percentile(df_temp_2016_1['2T2574A'], [75])-np.percentile(df_temp_2016_1['2T2574A'], [25])), color='red', linestyle='dashed', linewidth=2)\n",
        "plt.axvline(np.percentile(df_temp_2016_1['2T2574A'], [75])+1.5*(np.percentile(df_temp_2016_1['2T2574A'], [75])-np.percentile(df_temp_2016_1['2T2574A'], [25])), color='red', linestyle='dashed', linewidth=2)\n",
        "\n",
        "plt.subplot(3,3,8)\n",
        "plt.hist(df_temp_2016_1['2T4137A'], density=False, bins=20)\n",
        "plt.ylabel('')\n",
        "plt.xlabel('2T4137A')\n",
        "plt.axvline(df_temp_2016_1['2T4137A'].mean(), color='k', linestyle='dashed', linewidth=1)\n",
        "plt.axvline(np.percentile(df_temp_2016_1['2T4137A'], [25])-1.5*(np.percentile(df_temp_2016_1['2T4137A'], [75])-np.percentile(df_temp_2016_1['2T4137A'], [25])), color='red', linestyle='dashed', linewidth=2)\n",
        "plt.axvline(np.percentile(df_temp_2016_1['2T4137A'], [75])+1.5*(np.percentile(df_temp_2016_1['2T4137A'], [75])-np.percentile(df_temp_2016_1['2T4137A'], [25])), color='red', linestyle='dashed', linewidth=2)\n",
        "\n",
        "plt.subplot(3,3,9)\n",
        "plt.hist(df_temp_2016_1['2T4139A'], density=False, bins=20)\n",
        "plt.ylabel('')\n",
        "plt.xlabel('2T4139A')\n",
        "plt.axvline(df_temp_2016_1['2T4139A'].mean(), color='k', linestyle='dashed', linewidth=1)\n",
        "plt.axvline(np.percentile(df_temp_2016_1['2T4139A'], [25])-1.5*(np.percentile(df_temp_2016_1['2T4139A'], [75])-np.percentile(df_temp_2016_1['2T4139A'], [25])), color='red', linestyle='dashed', linewidth=2)\n",
        "plt.axvline(np.percentile(df_temp_2016_1['2T4139A'], [75])+1.5*(np.percentile(df_temp_2016_1['2T4139A'], [75])-np.percentile(df_temp_2016_1['2T4139A'], [25])), color='red', linestyle='dashed', linewidth=2)\n",
        "plt.savefig('temp_hist.png')\n",
        "#files.download(temp_hist.png)\n"
      ],
      "execution_count": null,
      "outputs": [
        {
          "output_type": "display_data",
          "data": {
            "image/png": "[encoded data removed]",
            "text/plain": [
              "<Figure size 1080x720 with 9 Axes>"
            ]
          },
          "metadata": {
            "tags": [],
            "needs_background": "light"
          }
        }
      ]
    },
    {
      "cell_type": "code",
      "metadata": {
        "id": "-0o1EixBBSkN",
        "colab": {
          "base_uri": "https://localhost:8080/",
          "height": 551
        },
        "outputId": "89129f70-2250-4e30-c005-81060ba900c5"
      },
      "source": [
        "#'2T4048A', '2T4047A', '2T4046A', '2T4143A', '2T4141A', '2T4145A', '2T2574A', '2T4137A', '2T4139A'\n",
        "#'2T4048A', '2T4047A', '2T4046A', '2T4143A', '2T4141A', '2T4145A', '2T2574A', '2T4137A', '2T4139A'\n",
        "fig = plt.figure(figsize=(12,9))\n",
        "ax = plt.axes()\n",
        "x = np.linspace(0, 300,300)\n",
        "plt.xlabel('minutes')\n",
        "plt.ylabel('temperature in ℉ ')      # specify color by name\n",
        "plt.plot(x, df_temp_2016_1['2T4048A'].head(300), label='2T4048A' , color='blue')\n",
        "plt.plot(x, df_temp_2016_1['2T4047A'].head(300),label='2T4047A' , color='green')           # short color code (rgbcmyk)\n",
        "plt.plot(x, df_temp_2016_1['2T4046A'].head(300), label='2T4046A' ,color='red')           # short color code (rgbcmyk)\n",
        "plt.plot(x, df_temp_2016_1['2T4143A'].head(300),label='2T4143A' , color='cyan')           # short color code (rgbcmyk)\n",
        "plt.plot(x, df_temp_2016_1['2T4141A'].head(300), label='2T4141A' ,color='magenta')           # short color code (rgbcmyk)\n",
        "plt.plot(x, df_temp_2016_1['2T4145A'].head(300), label='2T4145A' ,color='yellow')           # short color code (rgbcmyk)\n",
        "plt.plot(x, df_temp_2016_1['2T4145A'].head(300),label='2T4145A' , color='black')           # short color code (rgbcmyk)\n",
        "plt.plot(x, df_temp_2016_1['2T2574A'].head(300),label='2T2574A' , color='g')\n",
        "plt.plot(x, df_temp_2016_1['2T4139A'].head(300),label='2T4139A' , color='g')           # short color code (rgbcmyk)ax.legend(loc='upper right')\n",
        "# short color code (rgbcmyk)ax.legend(loc='upper right')\n",
        "ax.legend(loc='upper right')\n",
        "\n",
        "plt.show()"
      ],
      "execution_count": null,
      "outputs": [
        {
          "output_type": "display_data",
          "data": {
            "image/png": "[encoded data removed]",
            "text/plain": [
              "<Figure size 864x648 with 1 Axes>"
            ]
          },
          "metadata": {
            "tags": [],
            "needs_background": "light"
          }
        }
      ]
    },
    {
      "cell_type": "code",
      "metadata": {
        "id": "5lNSwIbYBSkS"
      },
      "source": [
        "#df_temp_2016_1.dtypes\n",
        "# to find the rows for the values of 2T4048A 100 to 120 which is at the lower end\n",
        "df_temp_2016_2=df_temp_2016_1[df_temp_2016_1['2T4048A'].between(100, 120, inclusive=False)]\n",
        "indexes=df_temp_2016_2.index.values\n",
        "# to print the full array\n",
        "np.set_printoptions(threshold=np.inf)\n",
        "#indexes\n"
      ],
      "execution_count": null,
      "outputs": []
    },
    {
      "cell_type": "code",
      "metadata": {
        "id": "2se1K3wSBSkU",
        "colab": {
          "base_uri": "https://localhost:8080/",
          "height": 317
        },
        "outputId": "f999150c-f4e1-4ae8-b9dd-3c71c8586143"
      },
      "source": [
        "df_temp_2016_3=df_temp_2016_1.iloc[48121:57636, ]\n",
        "#df_temp_2016_3.hist()\n",
        "#fig = plt.figure(figsize = (15,20))\n",
        "#ax = fig.gca()\n",
        "#df_temp_2016_3.hist(ax = ax)\n",
        "df_temp_2016_3.describe()"
      ],
      "execution_count": null,
      "outputs": [
        {
          "output_type": "execute_result",
          "data": {
            "text/html": [
              "<div>\n",
              "<style scoped>\n",
              "    .dataframe tbody tr th:only-of-type {\n",
              "        vertical-align: middle;\n",
              "    }\n",
              "\n",
              "    .dataframe tbody tr th {\n",
              "        vertical-align: top;\n",
              "    }\n",
              "\n",
              "    .dataframe thead th {\n",
              "        text-align: right;\n",
              "    }\n",
              "</style>\n",
              "<table border=\"1\" class=\"dataframe\">\n",
              "  <thead>\n",
              "    <tr style=\"text-align: right;\">\n",
              "      <th></th>\n",
              "      <th>2T4048A</th>\n",
              "      <th>2T4047A</th>\n",
              "      <th>2T4046A</th>\n",
              "      <th>2T4143A</th>\n",
              "      <th>2T4141A</th>\n",
              "      <th>2T2573A</th>\n",
              "      <th>2T4145A</th>\n",
              "      <th>2T2574A</th>\n",
              "      <th>2T4137A</th>\n",
              "      <th>2T4139A</th>\n",
              "    </tr>\n",
              "  </thead>\n",
              "  <tbody>\n",
              "    <tr>\n",
              "      <th>count</th>\n",
              "      <td>9515.000000</td>\n",
              "      <td>9515.000000</td>\n",
              "      <td>9515.000000</td>\n",
              "      <td>9515.000000</td>\n",
              "      <td>9515.000000</td>\n",
              "      <td>9515.0</td>\n",
              "      <td>9515.000000</td>\n",
              "      <td>9515.000000</td>\n",
              "      <td>9515.000000</td>\n",
              "      <td>9515.000000</td>\n",
              "    </tr>\n",
              "    <tr>\n",
              "      <th>mean</th>\n",
              "      <td>107.445602</td>\n",
              "      <td>107.761797</td>\n",
              "      <td>107.565265</td>\n",
              "      <td>110.662890</td>\n",
              "      <td>109.742491</td>\n",
              "      <td>0.0</td>\n",
              "      <td>242.872275</td>\n",
              "      <td>108.783805</td>\n",
              "      <td>109.574283</td>\n",
              "      <td>107.926548</td>\n",
              "    </tr>\n",
              "    <tr>\n",
              "      <th>std</th>\n",
              "      <td>0.684092</td>\n",
              "      <td>0.582926</td>\n",
              "      <td>0.533657</td>\n",
              "      <td>0.676244</td>\n",
              "      <td>0.530966</td>\n",
              "      <td>0.0</td>\n",
              "      <td>34.685354</td>\n",
              "      <td>0.591405</td>\n",
              "      <td>0.513367</td>\n",
              "      <td>0.666530</td>\n",
              "    </tr>\n",
              "    <tr>\n",
              "      <th>min</th>\n",
              "      <td>105.300000</td>\n",
              "      <td>105.800000</td>\n",
              "      <td>105.500000</td>\n",
              "      <td>108.400000</td>\n",
              "      <td>107.600000</td>\n",
              "      <td>0.0</td>\n",
              "      <td>136.200000</td>\n",
              "      <td>106.500000</td>\n",
              "      <td>107.600000</td>\n",
              "      <td>105.600000</td>\n",
              "    </tr>\n",
              "    <tr>\n",
              "      <th>25%</th>\n",
              "      <td>107.200000</td>\n",
              "      <td>107.600000</td>\n",
              "      <td>107.400000</td>\n",
              "      <td>110.400000</td>\n",
              "      <td>109.500000</td>\n",
              "      <td>0.0</td>\n",
              "      <td>255.000000</td>\n",
              "      <td>108.600000</td>\n",
              "      <td>109.400000</td>\n",
              "      <td>107.700000</td>\n",
              "    </tr>\n",
              "    <tr>\n",
              "      <th>50%</th>\n",
              "      <td>107.600000</td>\n",
              "      <td>107.900000</td>\n",
              "      <td>107.800000</td>\n",
              "      <td>110.800000</td>\n",
              "      <td>109.900000</td>\n",
              "      <td>0.0</td>\n",
              "      <td>256.600000</td>\n",
              "      <td>108.900000</td>\n",
              "      <td>109.800000</td>\n",
              "      <td>108.100000</td>\n",
              "    </tr>\n",
              "    <tr>\n",
              "      <th>75%</th>\n",
              "      <td>107.800000</td>\n",
              "      <td>108.100000</td>\n",
              "      <td>107.900000</td>\n",
              "      <td>111.000000</td>\n",
              "      <td>110.100000</td>\n",
              "      <td>0.0</td>\n",
              "      <td>257.700000</td>\n",
              "      <td>109.100000</td>\n",
              "      <td>109.900000</td>\n",
              "      <td>108.400000</td>\n",
              "    </tr>\n",
              "    <tr>\n",
              "      <th>max</th>\n",
              "      <td>117.000000</td>\n",
              "      <td>116.100000</td>\n",
              "      <td>110.800000</td>\n",
              "      <td>121.900000</td>\n",
              "      <td>112.300000</td>\n",
              "      <td>0.0</td>\n",
              "      <td>291.000000</td>\n",
              "      <td>114.300000</td>\n",
              "      <td>112.000000</td>\n",
              "      <td>114.700000</td>\n",
              "    </tr>\n",
              "  </tbody>\n",
              "</table>\n",
              "</div>"
            ],
            "text/plain": [
              "           2T4048A      2T4047A  ...      2T4137A      2T4139A\n",
              "count  9515.000000  9515.000000  ...  9515.000000  9515.000000\n",
              "mean    107.445602   107.761797  ...   109.574283   107.926548\n",
              "std       0.684092     0.582926  ...     0.513367     0.666530\n",
              "min     105.300000   105.800000  ...   107.600000   105.600000\n",
              "25%     107.200000   107.600000  ...   109.400000   107.700000\n",
              "50%     107.600000   107.900000  ...   109.800000   108.100000\n",
              "75%     107.800000   108.100000  ...   109.900000   108.400000\n",
              "max     117.000000   116.100000  ...   112.000000   114.700000\n",
              "\n",
              "[8 rows x 10 columns]"
            ]
          },
          "metadata": {
            "tags": []
          },
          "execution_count": 21
        }
      ]
    },
    {
      "cell_type": "code",
      "metadata": {
        "id": "OiJoLcn_BSkV"
      },
      "source": [
        "#indexes3"
      ],
      "execution_count": null,
      "outputs": []
    },
    {
      "cell_type": "code",
      "metadata": {
        "id": "xkNjAftFBSkV",
        "colab": {
          "base_uri": "https://localhost:8080/",
          "height": 551
        },
        "outputId": "625d10db-609c-4df3-fc60-808f7877591c"
      },
      "source": [
        "df_temp_2016_4=df_temp_2016_1[df_temp_2016_1['2T4145A'].between(100, 220, inclusive=False)]\n",
        "#df_temp_2016_4.shape\n",
        "#'2T4048A', '2T4047A', '2T4046A', '2T4143A', '2T4141A', '2T4145A', '2T2574A', '2T4137A', '2T4139A'\n",
        "#'2T4048A', '2T4047A', '2T4046A', '2T4143A', '2T4141A', '2T4145A', '2T2574A', '2T4137A', '2T4139A'\n",
        "fig = plt.figure(figsize=(12,9))\n",
        "ax = plt.axes()\n",
        "x = np.linspace(0, 1488,1488)\n",
        "plt.xlabel('minutes')\n",
        "plt.ylabel('temperature in ℉ ')      # specify color by name\n",
        "plt.plot(x, df_temp_2016_4['2T4048A'].head(1488), label='2T4048A' , color='blue')\n",
        "plt.plot(x, df_temp_2016_4['2T4047A'].head(1488),label='2T4047A' , color='green')           # short color code (rgbcmyk)\n",
        "plt.plot(x, df_temp_2016_4['2T4046A'].head(1488), label='2T4046A' ,color='red')           # short color code (rgbcmyk)\n",
        "plt.plot(x, df_temp_2016_4['2T4143A'].head(1488),label='2T4143A' , color='cyan')           # short color code (rgbcmyk)\n",
        "plt.plot(x, df_temp_2016_4['2T4141A'].head(1488), label='2T4141A' ,color='magenta')           # short color code (rgbcmyk)\n",
        "plt.plot(x, df_temp_2016_4['2T4145A'].head(1488), label='2T4145A' ,color='yellow')           # short color code (rgbcmyk)\n",
        "plt.plot(x, df_temp_2016_4['2T4145A'].head(1488),label='2T4145A' , color='red')           # short color code (rgbcmyk)\n",
        "plt.plot(x, df_temp_2016_4['2T2574A'].head(1488),label='2T2574A' , color='g')\n",
        "plt.plot(x, df_temp_2016_4['2T4139A'].head(1488),label='2T4139A' , color='g')           # short color code (rgbcmyk)ax.legend(loc='upper right')\n",
        "# short color code (rgbcmyk)ax.legend(loc='upper right')\n",
        "ax.legend(loc='upper right')\n",
        "\n",
        "plt.show()"
      ],
      "execution_count": null,
      "outputs": [
        {
          "output_type": "display_data",
          "data": {
            "image/png": "[encoded data removed]",
            "text/plain": [
              "<Figure size 864x648 with 1 Axes>"
            ]
          },
          "metadata": {
            "tags": [],
            "needs_background": "light"
          }
        }
      ]
    },
    {
      "cell_type": "code",
      "metadata": {
        "id": "JrYaFZovBSkX",
        "colab": {
          "base_uri": "https://localhost:8080/",
          "height": 551
        },
        "outputId": "75213cf9-e476-4eab-aaa9-88fe81657926"
      },
      "source": [
        "fig = plt.figure(figsize=(12,9))\n",
        "ax = plt.axes()\n",
        "x = np.linspace(0, 2500,2500)\n",
        "plt.xlabel('minutes')\n",
        "plt.ylabel('temperature in ℉ ')      # specify color by name\n",
        "plt.plot(x, df_temp_2016_4['2T4048A'].tail(2500), label='2T4048A' , color='blue')\n",
        "plt.plot(x, df_temp_2016_4['2T4047A'].tail(2500),label='2T4047A' , color='green')           # short color code (rgbcmyk)\n",
        "plt.plot(x, df_temp_2016_4['2T4046A'].tail(2500), label='2T4046A' ,color='red')           # short color code (rgbcmyk)\n",
        "plt.plot(x, df_temp_2016_4['2T4143A'].tail(2500),label='2T4143A' , color='cyan')           # short color code (rgbcmyk)\n",
        "plt.plot(x, df_temp_2016_4['2T4141A'].tail(2500), label='2T4141A' ,color='magenta')           # short color code (rgbcmyk)\n",
        "plt.plot(x, df_temp_2016_4['2T4145A'].tail(2500), label='2T4145A' ,color='yellow')           # short color code (rgbcmyk)\n",
        "plt.plot(x, df_temp_2016_4['2T4145A'].tail(2500),label='2T4145A' , color='black')           # short color code (rgbcmyk)\n",
        "plt.plot(x, df_temp_2016_4['2T2574A'].tail(2500),label='2T2574A' , color='g')\n",
        "plt.plot(x, df_temp_2016_4['2T4139A'].tail(2500),label='2T4139A' , color='g')           # short color code (rgbcmyk)ax.legend(loc='upper right')\n",
        "# short color code (rgbcmyk)ax.legend(loc='upper right')\n",
        "ax.legend(loc='upper right')\n",
        "\n",
        "plt.show()\n",
        "#which one is measurement point 2T4048A?"
      ],
      "execution_count": null,
      "outputs": [
        {
          "output_type": "display_data",
          "data": {
            "image/png": "[encoded data removed]",
            "text/plain": [
              "<Figure size 864x648 with 1 Axes>"
            ]
          },
          "metadata": {
            "tags": [],
            "needs_background": "light"
          }
        }
      ]
    },
    {
      "cell_type": "code",
      "metadata": {
        "id": "tIzNxr8A43E2"
      },
      "source": [
        "df_vib_2016 = pd.read_csv('2016_Vibration.csv')\n",
        "df_vib_2016.columns = ['first','A2V9005A','A2V9004A','A2V9007A','A2V9006A','A2V9015A','A2V9014A','A2V9017A','A2V9016A','A2V9021A','A2V9019A','A2V9018A']\n",
        "df_vib_2016['time'] =df_vib_2016['first'].str.replace('EST', '')\n",
        "df_vib_2016['Dates'] = pd.to_datetime(df_vib_2016['time'] ).dt.date\n",
        "df_vib_2016['Time'] = pd.to_datetime(df_vib_2016['time'] ).dt.time #df_vib_2016\n"
      ],
      "execution_count": null,
      "outputs": []
    },
    {
      "cell_type": "code",
      "metadata": {
        "colab": {
          "base_uri": "https://localhost:8080/"
        },
        "id": "mKuduJOPizYJ",
        "outputId": "56f3e1c3-52c6-4028-8f23-fa8ea8ba382f"
      },
      "source": [
        "df_vib_2016.columns"
      ],
      "execution_count": null,
      "outputs": [
        {
          "output_type": "execute_result",
          "data": {
            "text/plain": [
              "Index(['first', 'A2V9005A', 'A2V9004A', 'A2V9007A', 'A2V9006A', 'A2V9015A',\n",
              "       'A2V9014A', 'A2V9017A', 'A2V9016A', 'A2V9021A', 'A2V9019A', 'A2V9018A',\n",
              "       'time', 'Dates', 'Time'],\n",
              "      dtype='object')"
            ]
          },
          "metadata": {
            "tags": []
          },
          "execution_count": 43
        }
      ]
    },
    {
      "cell_type": "code",
      "metadata": {
        "colab": {
          "base_uri": "https://localhost:8080/"
        },
        "id": "P1jIJsLDpoN5",
        "outputId": "5263bd60-37d7-4de9-bb81-96839009c1ba"
      },
      "source": [
        "!pip install tsmoothie\n",
        "from tsmoothie.smoother import *\n",
        "from tsmoothie.utils_func import create_windows"
      ],
      "execution_count": null,
      "outputs": [
        {
          "output_type": "stream",
          "text": [
            "Requirement already satisfied: tsmoothie in /usr/local/lib/python3.7/dist-packages (1.0.2)\n",
            "Requirement already satisfied: scipy in /usr/local/lib/python3.7/dist-packages (from tsmoothie) (1.4.1)\n",
            "Requirement already satisfied: numpy in /usr/local/lib/python3.7/dist-packages (from tsmoothie) (1.19.5)\n",
            "Requirement already satisfied: simdkalman in /usr/local/lib/python3.7/dist-packages (from tsmoothie) (1.0.1)\n"
          ],
          "name": "stdout"
        }
      ]
    },
    {
      "cell_type": "code",
      "metadata": {
        "id": "RZyFhlpeq3Ni",
        "colab": {
          "base_uri": "https://localhost:8080/"
        },
        "outputId": "9d4a3353-cccf-4240-d315-bbae6d9909da"
      },
      "source": [
        "smoother = KalmanSmoother(component='level_longseason',\n",
        "                          component_noise={'level':0.1, 'longseason':0.1},\n",
        "                          n_longseasons=365)\n",
        "smoother.smooth(df_vib_2016[['A2V9005A', 'A2V9004A', 'A2V9007A']].T)"
      ],
      "execution_count": null,
      "outputs": [
        {
          "output_type": "execute_result",
          "data": {
            "text/plain": [
              "<tsmoothie.smoother.KalmanSmoother>"
            ]
          },
          "metadata": {
            "tags": []
          },
          "execution_count": 7
        }
      ]
    },
    {
      "cell_type": "code",
      "metadata": {
        "colab": {
          "base_uri": "https://localhost:8080/",
          "height": 393
        },
        "id": "9lx1oWoJi_X7",
        "outputId": "f2b19ac2-ccd1-4356-ed6f-f4b67926826f"
      },
      "source": [
        "plt.figure(figsize=(11,6))\n",
        "plt.plot(smoother.smooth_data[0], linewidth=3, color='blue')\n",
        "#plt.plot(df_vib_2016['A2V9005A'], linewidth=3, color='blue')\n"
      ],
      "execution_count": null,
      "outputs": [
        {
          "output_type": "execute_result",
          "data": {
            "text/plain": [
              "[<matplotlib.lines.Line2D at 0x7f5b9ec91690>]"
            ]
          },
          "metadata": {
            "tags": []
          },
          "execution_count": 16
        },
        {
          "output_type": "display_data",
          "data": {
            "image/png": "[encoded data removed]",
            "text/plain": [
              "<Figure size 792x432 with 1 Axes>"
            ]
          },
          "metadata": {
            "tags": [],
            "needs_background": "light"
          }
        }
      ]
    },
    {
      "cell_type": "code",
      "metadata": {
        "colab": {
          "base_uri": "https://localhost:8080/",
          "height": 393
        },
        "id": "Hkcvenz6_dwJ",
        "outputId": "57e03c9b-4201-4689-eacd-e5d4a00233e3"
      },
      "source": [
        "plt.figure(figsize=(11,6))\n",
        "plt.plot(df_vib_2016['A2V9005A'])"
      ],
      "execution_count": null,
      "outputs": [
        {
          "output_type": "execute_result",
          "data": {
            "text/plain": [
              "[<matplotlib.lines.Line2D at 0x7f5b9ebc3ed0>]"
            ]
          },
          "metadata": {
            "tags": []
          },
          "execution_count": 18
        },
        {
          "output_type": "display_data",
          "data": {
            "image/png": "[encoded data removed]",
            "text/plain": [
              "<Figure size 792x432 with 1 Axes>"
            ]
          },
          "metadata": {
            "tags": [],
            "needs_background": "light"
          }
        }
      ]
    },
    {
      "cell_type": "code",
      "metadata": {
        "colab": {
          "base_uri": "https://localhost:8080/"
        },
        "id": "gMLxQiPvkYcx",
        "outputId": "a5d430e0-67da-4d5c-c704-992797b0a9ce"
      },
      "source": [
        "smoother.smooth_data[0].std()"
      ],
      "execution_count": null,
      "outputs": [
        {
          "output_type": "execute_result",
          "data": {
            "text/plain": [
              "0.7339798598392238"
            ]
          },
          "metadata": {
            "tags": []
          },
          "execution_count": 55
        }
      ]
    },
    {
      "cell_type": "code",
      "metadata": {
        "id": "iEMFsIlvBSkZ",
        "colab": {
          "base_uri": "https://localhost:8080/",
          "height": 86
        },
        "outputId": "785602e9-4c5b-44af-af55-1d9a13005bcd"
      },
      "source": [
        "'''df_vib_2017 = pd.read_csv('2017_Vibration.csv')\n",
        "df_vib_2017.columns = ['first','A2V9005A','A2V9004A','A2V9007A','A2V9006A','A2V9015A','A2V9014A','A2V9017A','A2V9016A','A2V9021A','A2V9019A','A2V9018A']\n",
        "df_vib_2017['time'] =df_vib_2017['first'].str.replace('EST', '')\n",
        "df_vib_2017['Dates'] = pd.to_datetime(df_vib_2017['time']).dt.date\n",
        "df_vib_2017['Time'] = pd.to_datetime(df_vib_2017['time']).dt.time#df_vib_2017'''"
      ],
      "execution_count": null,
      "outputs": [
        {
          "output_type": "execute_result",
          "data": {
            "application/vnd.google.colaboratory.intrinsic+json": {
              "type": "string"
            },
            "text/plain": [
              "\"df_vib_2017 = pd.read_csv('2017_Vibration.csv')\\ndf_vib_2017.columns = ['first','A2V9005A','A2V9004A','A2V9007A','A2V9006A','A2V9015A','A2V9014A','A2V9017A','A2V9016A','A2V9021A','A2V9019A','A2V9018A']\\ndf_vib_2017['time'] =df_vib_2017['first'].str.replace('EST', '')\\ndf_vib_2017['Dates'] = pd.to_datetime(df_vib_2017['time']).dt.date\\ndf_vib_2017['Time'] = pd.to_datetime(df_vib_2017['time']).dt.time#df_vib_2017\""
            ]
          },
          "metadata": {
            "tags": []
          },
          "execution_count": 27
        }
      ]
    },
    {
      "cell_type": "code",
      "metadata": {
        "id": "h4PigsHaBSka"
      },
      "source": [
        "#df_vib_2017.shape"
      ],
      "execution_count": null,
      "outputs": []
    },
    {
      "cell_type": "code",
      "metadata": {
        "id": "50-LiK0HBSkb",
        "colab": {
          "base_uri": "https://localhost:8080/",
          "height": 69
        },
        "outputId": "f4e2e69a-0a6d-4531-942c-14e45e8cbc1b"
      },
      "source": [
        "'''df_vib_2018 = pd.read_csv('2018_Vibration.csv')\n",
        "df_vib_2018.columns = ['first','A2V9005A','A2V9004A','A2V9007A','A2V9006A','A2V9015A','A2V9014A','A2V9017A','A2V9016A','A2V9021A','A2V9019A','A2V9018A']\n",
        "df_vib_2018['time'] =df_vib_2018['first'].str.replace('EST', '')\n",
        "df_vib_2018['Dates'] = pd.to_datetime(df_vib_2018['time']).dt.date\n",
        "df_vib_2018['Time'] = pd.to_datetime(df_vib_2018['time']).dt.time#df_vib_2018'''"
      ],
      "execution_count": null,
      "outputs": [
        {
          "output_type": "execute_result",
          "data": {
            "application/vnd.google.colaboratory.intrinsic+json": {
              "type": "string"
            },
            "text/plain": [
              "\"df_vib_2018 = pd.read_csv('2018_Vibration.csv')\\ndf_vib_2018.columns = ['first','A2V9005A','A2V9004A','A2V9007A','A2V9006A','A2V9015A','A2V9014A','A2V9017A','A2V9016A','A2V9021A','A2V9019A','A2V9018A']\\ndf_vib_2018['time'] =df_vib_2018['first'].str.replace('EST', '')\\ndf_vib_2018['Dates'] = pd.to_datetime(df_vib_2018['time']).dt.date\\ndf_vib_2018['Time'] = pd.to_datetime(df_vib_2018['time']).dt.time#df_vib_2018\""
            ]
          },
          "metadata": {
            "tags": []
          },
          "execution_count": 29
        }
      ]
    },
    {
      "cell_type": "code",
      "metadata": {
        "id": "YrdEdNixBSkb"
      },
      "source": [
        "#df_vib_2018.shape"
      ],
      "execution_count": null,
      "outputs": []
    },
    {
      "cell_type": "code",
      "metadata": {
        "id": "xHI8Vgk_BSkc",
        "colab": {
          "base_uri": "https://localhost:8080/",
          "height": 69
        },
        "outputId": "4d648c72-4cc0-4025-b966-d8022274d1e1"
      },
      "source": [
        "'''df_vib_2019 = pd.read_csv('2019_Vibration.csv')\n",
        "df_vib_2019.columns = ['first','A2V9005A','A2V9004A','A2V9007A','A2V9006A','A2V9015A','A2V9014A','A2V9017A','A2V9016A','A2V9021A','A2V9019A','A2V9018A']\n",
        "df_vib_2019['time'] =df_vib_2019['first'].str.replace('EST', '')\n",
        "df_vib_2019['Dates'] = pd.to_datetime(df_vib_2019['time']).dt.date\n",
        "df_vib_2019['Time'] = pd.to_datetime(df_vib_2019['time']).dt.time#df_vib_2019'''"
      ],
      "execution_count": null,
      "outputs": [
        {
          "output_type": "execute_result",
          "data": {
            "application/vnd.google.colaboratory.intrinsic+json": {
              "type": "string"
            },
            "text/plain": [
              "\"df_vib_2019 = pd.read_csv('2019_Vibration.csv')\\ndf_vib_2019.columns = ['first','A2V9005A','A2V9004A','A2V9007A','A2V9006A','A2V9015A','A2V9014A','A2V9017A','A2V9016A','A2V9021A','A2V9019A','A2V9018A']\\ndf_vib_2019['time'] =df_vib_2019['first'].str.replace('EST', '')\\ndf_vib_2019['Dates'] = pd.to_datetime(df_vib_2019['time']).dt.date\\ndf_vib_2019['Time'] = pd.to_datetime(df_vib_2019['time']).dt.time#df_vib_2019\""
            ]
          },
          "metadata": {
            "tags": []
          },
          "execution_count": 31
        }
      ]
    },
    {
      "cell_type": "code",
      "metadata": {
        "id": "_eOWThwIBSkd"
      },
      "source": [
        "#df_vib_2019.shape"
      ],
      "execution_count": null,
      "outputs": []
    },
    {
      "cell_type": "code",
      "metadata": {
        "id": "53DQICyKBSkd",
        "colab": {
          "base_uri": "https://localhost:8080/",
          "height": 69
        },
        "outputId": "e33cd71c-42d6-41be-c389-0164594a65d0"
      },
      "source": [
        "'''df_vib_2020 = pd.read_csv('2020_Vibration.csv')\n",
        "df_vib_2020.columns = ['first','A2V9005A','A2V9004A','A2V9007A','A2V9006A','A2V9015A','A2V9014A','A2V9017A','A2V9016A','A2V9021A','A2V9019A','A2V9018A']\n",
        "df_vib_2020['time'] =df_vib_2020['first'].str.replace('EST', '')\n",
        "df_vib_2020['Dates'] = pd.to_datetime(df_vib_2020['time']).dt.date\n",
        "df_vib_2020['Time'] = pd.to_datetime(df_vib_2020['time']).dt.time#df_vib_2020'''"
      ],
      "execution_count": null,
      "outputs": [
        {
          "output_type": "execute_result",
          "data": {
            "application/vnd.google.colaboratory.intrinsic+json": {
              "type": "string"
            },
            "text/plain": [
              "\"df_vib_2020 = pd.read_csv('2020_Vibration.csv')\\ndf_vib_2020.columns = ['first','A2V9005A','A2V9004A','A2V9007A','A2V9006A','A2V9015A','A2V9014A','A2V9017A','A2V9016A','A2V9021A','A2V9019A','A2V9018A']\\ndf_vib_2020['time'] =df_vib_2020['first'].str.replace('EST', '')\\ndf_vib_2020['Dates'] = pd.to_datetime(df_vib_2020['time']).dt.date\\ndf_vib_2020['Time'] = pd.to_datetime(df_vib_2020['time']).dt.time#df_vib_2020\""
            ]
          },
          "metadata": {
            "tags": []
          },
          "execution_count": 33
        }
      ]
    },
    {
      "cell_type": "code",
      "metadata": {
        "id": "sdeZQcyvBSke"
      },
      "source": [
        "#df_vib_2020.shape"
      ],
      "execution_count": null,
      "outputs": []
    },
    {
      "cell_type": "code",
      "metadata": {
        "id": "e-w0zVvpBSke",
        "colab": {
          "base_uri": "https://localhost:8080/"
        },
        "outputId": "76cd17cc-4101-48cd-b557-15499e84a22c"
      },
      "source": [
        "#df_vib_2016.drop('first', axis=1, inplace=True)\n",
        "cols = df_vib_2016.columns.tolist()\n",
        "cols=['Dates', 'Time','A2V9005A',  'A2V9004A', 'A2V9007A',  'A2V9006A', 'A2V9015A', 'A2V9014A', 'A2V9017A', 'A2V9016A', 'A2V9021A', 'A2V9019A',\n",
        "      'A2V9018A']\n",
        "df_vib_2016=df_vib_2016[cols]\n",
        "df_vib_2016.shape"
      ],
      "execution_count": null,
      "outputs": [
        {
          "output_type": "execute_result",
          "data": {
            "text/plain": [
              "(527041, 13)"
            ]
          },
          "metadata": {
            "tags": []
          },
          "execution_count": 89
        }
      ]
    },
    {
      "cell_type": "code",
      "metadata": {
        "id": "m2OZzjbPBSkf",
        "colab": {
          "base_uri": "https://localhost:8080/"
        },
        "outputId": "76c79f1b-4512-4976-f0d1-69f39e20dafb"
      },
      "source": [
        "df_vib_2016_hist=df_vib_2016[['A2V9005A',  'A2V9004A', 'A2V9007A',  'A2V9006A', 'A2V9015A', 'A2V9014A', 'A2V9017A', 'A2V9016A', 'A2V9021A', 'A2V9019A',\n",
        "      'A2V9018A']]\n",
        "df_vib_2016_hist.dtypes"
      ],
      "execution_count": null,
      "outputs": [
        {
          "output_type": "execute_result",
          "data": {
            "text/plain": [
              "A2V9005A    float64\n",
              "A2V9004A    float64\n",
              "A2V9007A    float64\n",
              "A2V9006A    float64\n",
              "A2V9015A    float64\n",
              "A2V9014A    float64\n",
              "A2V9017A    float64\n",
              "A2V9016A    float64\n",
              "A2V9021A    float64\n",
              "A2V9019A    float64\n",
              "A2V9018A    float64\n",
              "dtype: object"
            ]
          },
          "metadata": {
            "tags": []
          },
          "execution_count": 90
        }
      ]
    },
    {
      "cell_type": "code",
      "metadata": {
        "id": "dk_vpX1WBSkf",
        "colab": {
          "base_uri": "https://localhost:8080/",
          "height": 1000
        },
        "outputId": "49a8726d-14b1-49d0-83c8-9f3c4875fd83"
      },
      "source": [
        "df_vib_2016_hist.hist(figsize = (15,20))\n",
        "plt.show()"
      ],
      "execution_count": null,
      "outputs": [
        {
          "output_type": "display_data",
          "data": {
            "image/png": "[encoded data removed]",
            "text/plain": [
              "<Figure size 1080x1440 with 12 Axes>"
            ]
          },
          "metadata": {
            "tags": [],
            "needs_background": "light"
          }
        }
      ]
    },
    {
      "cell_type": "code",
      "metadata": {
        "id": "vE-CnWMIBSkg",
        "colab": {
          "base_uri": "https://localhost:8080/",
          "height": 317
        },
        "outputId": "659bc5d6-0069-4769-cca5-f1a82fb3ec3e"
      },
      "source": [
        "df_vib_2016.A2V9007A.unique()\n",
        "df_vib_2016.describe()"
      ],
      "execution_count": null,
      "outputs": [
        {
          "output_type": "execute_result",
          "data": {
            "text/html": [
              "<div>\n",
              "<style scoped>\n",
              "    .dataframe tbody tr th:only-of-type {\n",
              "        vertical-align: middle;\n",
              "    }\n",
              "\n",
              "    .dataframe tbody tr th {\n",
              "        vertical-align: top;\n",
              "    }\n",
              "\n",
              "    .dataframe thead th {\n",
              "        text-align: right;\n",
              "    }\n",
              "</style>\n",
              "<table border=\"1\" class=\"dataframe\">\n",
              "  <thead>\n",
              "    <tr style=\"text-align: right;\">\n",
              "      <th></th>\n",
              "      <th>A2V9005A</th>\n",
              "      <th>A2V9004A</th>\n",
              "      <th>A2V9007A</th>\n",
              "      <th>A2V9006A</th>\n",
              "      <th>A2V9015A</th>\n",
              "      <th>A2V9014A</th>\n",
              "      <th>A2V9017A</th>\n",
              "      <th>A2V9016A</th>\n",
              "      <th>A2V9021A</th>\n",
              "      <th>A2V9019A</th>\n",
              "      <th>A2V9018A</th>\n",
              "    </tr>\n",
              "  </thead>\n",
              "  <tbody>\n",
              "    <tr>\n",
              "      <th>count</th>\n",
              "      <td>527041.000000</td>\n",
              "      <td>527041.000000</td>\n",
              "      <td>527041.000000</td>\n",
              "      <td>527041.000000</td>\n",
              "      <td>527041.000000</td>\n",
              "      <td>527041.000000</td>\n",
              "      <td>527041.000000</td>\n",
              "      <td>527041.000000</td>\n",
              "      <td>527041.000000</td>\n",
              "      <td>527041.000000</td>\n",
              "      <td>527041.000000</td>\n",
              "    </tr>\n",
              "    <tr>\n",
              "      <th>mean</th>\n",
              "      <td>0.536801</td>\n",
              "      <td>0.562093</td>\n",
              "      <td>0.964984</td>\n",
              "      <td>0.391202</td>\n",
              "      <td>0.877442</td>\n",
              "      <td>0.254244</td>\n",
              "      <td>2.781802</td>\n",
              "      <td>2.875794</td>\n",
              "      <td>2798.486773</td>\n",
              "      <td>6.497808</td>\n",
              "      <td>6.743830</td>\n",
              "    </tr>\n",
              "    <tr>\n",
              "      <th>std</th>\n",
              "      <td>0.737075</td>\n",
              "      <td>0.770936</td>\n",
              "      <td>0.171272</td>\n",
              "      <td>0.536364</td>\n",
              "      <td>0.159123</td>\n",
              "      <td>0.347449</td>\n",
              "      <td>0.528223</td>\n",
              "      <td>0.543039</td>\n",
              "      <td>2231.683215</td>\n",
              "      <td>3.663181</td>\n",
              "      <td>3.733345</td>\n",
              "    </tr>\n",
              "    <tr>\n",
              "      <th>min</th>\n",
              "      <td>0.000000</td>\n",
              "      <td>0.000000</td>\n",
              "      <td>0.000000</td>\n",
              "      <td>0.000000</td>\n",
              "      <td>0.000000</td>\n",
              "      <td>0.000000</td>\n",
              "      <td>0.000000</td>\n",
              "      <td>0.000000</td>\n",
              "      <td>0.000000</td>\n",
              "      <td>-40.000000</td>\n",
              "      <td>-40.000000</td>\n",
              "    </tr>\n",
              "    <tr>\n",
              "      <th>25%</th>\n",
              "      <td>0.000000</td>\n",
              "      <td>0.000000</td>\n",
              "      <td>1.000000</td>\n",
              "      <td>0.000000</td>\n",
              "      <td>0.900000</td>\n",
              "      <td>0.000000</td>\n",
              "      <td>2.900000</td>\n",
              "      <td>3.000000</td>\n",
              "      <td>0.000000</td>\n",
              "      <td>7.000000</td>\n",
              "      <td>7.200000</td>\n",
              "    </tr>\n",
              "    <tr>\n",
              "      <th>50%</th>\n",
              "      <td>0.000000</td>\n",
              "      <td>0.000000</td>\n",
              "      <td>1.000000</td>\n",
              "      <td>0.000000</td>\n",
              "      <td>0.900000</td>\n",
              "      <td>0.000000</td>\n",
              "      <td>2.900000</td>\n",
              "      <td>3.000000</td>\n",
              "      <td>3388.200000</td>\n",
              "      <td>7.100000</td>\n",
              "      <td>7.400000</td>\n",
              "    </tr>\n",
              "    <tr>\n",
              "      <th>75%</th>\n",
              "      <td>1.500000</td>\n",
              "      <td>1.600000</td>\n",
              "      <td>1.000000</td>\n",
              "      <td>1.100000</td>\n",
              "      <td>0.900000</td>\n",
              "      <td>0.700000</td>\n",
              "      <td>2.900000</td>\n",
              "      <td>3.000000</td>\n",
              "      <td>4883.200000</td>\n",
              "      <td>7.100000</td>\n",
              "      <td>7.400000</td>\n",
              "    </tr>\n",
              "    <tr>\n",
              "      <th>max</th>\n",
              "      <td>2.400000</td>\n",
              "      <td>2.600000</td>\n",
              "      <td>1.300000</td>\n",
              "      <td>2.200000</td>\n",
              "      <td>2.200000</td>\n",
              "      <td>2.100000</td>\n",
              "      <td>4.100000</td>\n",
              "      <td>4.100000</td>\n",
              "      <td>5024.500000</td>\n",
              "      <td>8.700000</td>\n",
              "      <td>8.200000</td>\n",
              "    </tr>\n",
              "  </tbody>\n",
              "</table>\n",
              "</div>"
            ],
            "text/plain": [
              "            A2V9005A       A2V9004A  ...       A2V9019A       A2V9018A\n",
              "count  527041.000000  527041.000000  ...  527041.000000  527041.000000\n",
              "mean        0.536801       0.562093  ...       6.497808       6.743830\n",
              "std         0.737075       0.770936  ...       3.663181       3.733345\n",
              "min         0.000000       0.000000  ...     -40.000000     -40.000000\n",
              "25%         0.000000       0.000000  ...       7.000000       7.200000\n",
              "50%         0.000000       0.000000  ...       7.100000       7.400000\n",
              "75%         1.500000       1.600000  ...       7.100000       7.400000\n",
              "max         2.400000       2.600000  ...       8.700000       8.200000\n",
              "\n",
              "[8 rows x 11 columns]"
            ]
          },
          "metadata": {
            "tags": []
          },
          "execution_count": 38
        }
      ]
    },
    {
      "cell_type": "code",
      "metadata": {
        "scrolled": true,
        "id": "p4YghNHNBSkg",
        "colab": {
          "base_uri": "https://localhost:8080/",
          "height": 419
        },
        "outputId": "8a1ab6ee-c4dc-4a89-ea39-6ce4c8734dc3"
      },
      "source": [
        "df_vib_2016_1=df_vib_2016[df_vib_2016['A2V9007A'].between(.3, .6, inclusive=True)]\n",
        "df_vib_2016_2=df_vib_2016[df_vib_2016['A2V9021A'].between(1000, 3000, inclusive=True)]\n",
        "df_vib_2016_3=df_vib_2016[df_vib_2016['A2V9019A']<0]\n",
        "df_vib_2016_3"
      ],
      "execution_count": null,
      "outputs": [
        {
          "output_type": "execute_result",
          "data": {
            "text/html": [
              "<div>\n",
              "<style scoped>\n",
              "    .dataframe tbody tr th:only-of-type {\n",
              "        vertical-align: middle;\n",
              "    }\n",
              "\n",
              "    .dataframe tbody tr th {\n",
              "        vertical-align: top;\n",
              "    }\n",
              "\n",
              "    .dataframe thead th {\n",
              "        text-align: right;\n",
              "    }\n",
              "</style>\n",
              "<table border=\"1\" class=\"dataframe\">\n",
              "  <thead>\n",
              "    <tr style=\"text-align: right;\">\n",
              "      <th></th>\n",
              "      <th>Dates</th>\n",
              "      <th>Time</th>\n",
              "      <th>A2V9005A</th>\n",
              "      <th>A2V9004A</th>\n",
              "      <th>A2V9007A</th>\n",
              "      <th>A2V9006A</th>\n",
              "      <th>A2V9015A</th>\n",
              "      <th>A2V9014A</th>\n",
              "      <th>A2V9017A</th>\n",
              "      <th>A2V9016A</th>\n",
              "      <th>A2V9021A</th>\n",
              "      <th>A2V9019A</th>\n",
              "      <th>A2V9018A</th>\n",
              "    </tr>\n",
              "  </thead>\n",
              "  <tbody>\n",
              "    <tr>\n",
              "      <th>48120</th>\n",
              "      <td>2016-02-03</td>\n",
              "      <td>10:00:00</td>\n",
              "      <td>1.6</td>\n",
              "      <td>1.5</td>\n",
              "      <td>0.9</td>\n",
              "      <td>0.6</td>\n",
              "      <td>0.5</td>\n",
              "      <td>0.5</td>\n",
              "      <td>1.8</td>\n",
              "      <td>1.8</td>\n",
              "      <td>317.9</td>\n",
              "      <td>-0.1</td>\n",
              "      <td>0.2</td>\n",
              "    </tr>\n",
              "    <tr>\n",
              "      <th>56803</th>\n",
              "      <td>2016-02-09</td>\n",
              "      <td>10:43:00</td>\n",
              "      <td>0.1</td>\n",
              "      <td>0.1</td>\n",
              "      <td>0.1</td>\n",
              "      <td>0.1</td>\n",
              "      <td>0.1</td>\n",
              "      <td>0.1</td>\n",
              "      <td>0.1</td>\n",
              "      <td>0.1</td>\n",
              "      <td>0.0</td>\n",
              "      <td>-0.1</td>\n",
              "      <td>0.1</td>\n",
              "    </tr>\n",
              "    <tr>\n",
              "      <th>56804</th>\n",
              "      <td>2016-02-09</td>\n",
              "      <td>10:44:00</td>\n",
              "      <td>0.1</td>\n",
              "      <td>0.1</td>\n",
              "      <td>0.1</td>\n",
              "      <td>0.1</td>\n",
              "      <td>0.1</td>\n",
              "      <td>0.1</td>\n",
              "      <td>0.1</td>\n",
              "      <td>0.1</td>\n",
              "      <td>0.0</td>\n",
              "      <td>-0.2</td>\n",
              "      <td>0.1</td>\n",
              "    </tr>\n",
              "    <tr>\n",
              "      <th>56805</th>\n",
              "      <td>2016-02-09</td>\n",
              "      <td>10:45:00</td>\n",
              "      <td>0.1</td>\n",
              "      <td>0.1</td>\n",
              "      <td>0.1</td>\n",
              "      <td>0.1</td>\n",
              "      <td>0.1</td>\n",
              "      <td>0.1</td>\n",
              "      <td>0.1</td>\n",
              "      <td>0.1</td>\n",
              "      <td>0.0</td>\n",
              "      <td>-0.3</td>\n",
              "      <td>0.0</td>\n",
              "    </tr>\n",
              "    <tr>\n",
              "      <th>56806</th>\n",
              "      <td>2016-02-09</td>\n",
              "      <td>10:46:00</td>\n",
              "      <td>0.1</td>\n",
              "      <td>0.1</td>\n",
              "      <td>0.1</td>\n",
              "      <td>0.1</td>\n",
              "      <td>0.1</td>\n",
              "      <td>0.1</td>\n",
              "      <td>0.1</td>\n",
              "      <td>0.1</td>\n",
              "      <td>0.0</td>\n",
              "      <td>-0.4</td>\n",
              "      <td>0.0</td>\n",
              "    </tr>\n",
              "    <tr>\n",
              "      <th>...</th>\n",
              "      <td>...</td>\n",
              "      <td>...</td>\n",
              "      <td>...</td>\n",
              "      <td>...</td>\n",
              "      <td>...</td>\n",
              "      <td>...</td>\n",
              "      <td>...</td>\n",
              "      <td>...</td>\n",
              "      <td>...</td>\n",
              "      <td>...</td>\n",
              "      <td>...</td>\n",
              "      <td>...</td>\n",
              "      <td>...</td>\n",
              "    </tr>\n",
              "    <tr>\n",
              "      <th>199962</th>\n",
              "      <td>2016-05-18</td>\n",
              "      <td>20:42:00</td>\n",
              "      <td>0.6</td>\n",
              "      <td>0.6</td>\n",
              "      <td>0.3</td>\n",
              "      <td>0.4</td>\n",
              "      <td>0.3</td>\n",
              "      <td>0.3</td>\n",
              "      <td>1.0</td>\n",
              "      <td>1.1</td>\n",
              "      <td>2193.0</td>\n",
              "      <td>-23.5</td>\n",
              "      <td>-23.4</td>\n",
              "    </tr>\n",
              "    <tr>\n",
              "      <th>199963</th>\n",
              "      <td>2016-05-18</td>\n",
              "      <td>20:43:00</td>\n",
              "      <td>1.1</td>\n",
              "      <td>1.1</td>\n",
              "      <td>0.8</td>\n",
              "      <td>0.7</td>\n",
              "      <td>0.8</td>\n",
              "      <td>0.6</td>\n",
              "      <td>2.3</td>\n",
              "      <td>2.4</td>\n",
              "      <td>3804.2</td>\n",
              "      <td>-1.9</td>\n",
              "      <td>2.9</td>\n",
              "    </tr>\n",
              "    <tr>\n",
              "      <th>199964</th>\n",
              "      <td>2016-05-18</td>\n",
              "      <td>20:44:00</td>\n",
              "      <td>0.2</td>\n",
              "      <td>0.2</td>\n",
              "      <td>0.1</td>\n",
              "      <td>0.1</td>\n",
              "      <td>0.1</td>\n",
              "      <td>0.1</td>\n",
              "      <td>0.3</td>\n",
              "      <td>0.3</td>\n",
              "      <td>489.2</td>\n",
              "      <td>-27.0</td>\n",
              "      <td>-35.2</td>\n",
              "    </tr>\n",
              "    <tr>\n",
              "      <th>199966</th>\n",
              "      <td>2016-05-18</td>\n",
              "      <td>20:46:00</td>\n",
              "      <td>0.0</td>\n",
              "      <td>0.0</td>\n",
              "      <td>1.0</td>\n",
              "      <td>0.0</td>\n",
              "      <td>0.3</td>\n",
              "      <td>0.3</td>\n",
              "      <td>1.0</td>\n",
              "      <td>1.1</td>\n",
              "      <td>2476.1</td>\n",
              "      <td>-23.5</td>\n",
              "      <td>-23.4</td>\n",
              "    </tr>\n",
              "    <tr>\n",
              "      <th>199967</th>\n",
              "      <td>2016-05-18</td>\n",
              "      <td>20:47:00</td>\n",
              "      <td>0.0</td>\n",
              "      <td>0.0</td>\n",
              "      <td>1.0</td>\n",
              "      <td>0.0</td>\n",
              "      <td>0.7</td>\n",
              "      <td>0.0</td>\n",
              "      <td>2.0</td>\n",
              "      <td>2.3</td>\n",
              "      <td>3599.1</td>\n",
              "      <td>-2.7</td>\n",
              "      <td>-4.5</td>\n",
              "    </tr>\n",
              "  </tbody>\n",
              "</table>\n",
              "<p>10731 rows × 13 columns</p>\n",
              "</div>"
            ],
            "text/plain": [
              "             Dates      Time  A2V9005A  ...  A2V9021A  A2V9019A  A2V9018A\n",
              "48120   2016-02-03  10:00:00       1.6  ...     317.9      -0.1       0.2\n",
              "56803   2016-02-09  10:43:00       0.1  ...       0.0      -0.1       0.1\n",
              "56804   2016-02-09  10:44:00       0.1  ...       0.0      -0.2       0.1\n",
              "56805   2016-02-09  10:45:00       0.1  ...       0.0      -0.3       0.0\n",
              "56806   2016-02-09  10:46:00       0.1  ...       0.0      -0.4       0.0\n",
              "...            ...       ...       ...  ...       ...       ...       ...\n",
              "199962  2016-05-18  20:42:00       0.6  ...    2193.0     -23.5     -23.4\n",
              "199963  2016-05-18  20:43:00       1.1  ...    3804.2      -1.9       2.9\n",
              "199964  2016-05-18  20:44:00       0.2  ...     489.2     -27.0     -35.2\n",
              "199966  2016-05-18  20:46:00       0.0  ...    2476.1     -23.5     -23.4\n",
              "199967  2016-05-18  20:47:00       0.0  ...    3599.1      -2.7      -4.5\n",
              "\n",
              "[10731 rows x 13 columns]"
            ]
          },
          "metadata": {
            "tags": []
          },
          "execution_count": 39
        }
      ]
    },
    {
      "cell_type": "code",
      "metadata": {
        "id": "rJYAhcGMBSkh",
        "colab": {
          "base_uri": "https://localhost:8080/"
        },
        "outputId": "3b1547dc-9547-4132-84b5-82a5625cd8a7"
      },
      "source": [
        "print(len(df_vib_2016.A2V9005A.unique()),len(df_vib_2016.A2V9004A.unique()), len(df_vib_2016.A2V9007A.unique()), len(df_vib_2016.A2V9006A.unique()), len(df_vib_2016.A2V9015A.unique()), len(df_vib_2016.A2V9014A.unique()),\n",
        "len(df_vib_2016.A2V9017A.unique()), len(df_vib_2016.A2V9016A.unique()), len(df_vib_2016.A2V9021A.unique()), len(df_vib_2016.A2V9019A.unique()) , len(df_vib_2016.A2V9018A.unique()) )"
      ],
      "execution_count": null,
      "outputs": [
        {
          "output_type": "stream",
          "text": [
            "25 27 14 23 22 18 36 38 15584 459 444\n"
          ],
          "name": "stdout"
        }
      ]
    },
    {
      "cell_type": "code",
      "metadata": {
        "id": "EBf9IubtBSkh",
        "colab": {
          "base_uri": "https://localhost:8080/"
        },
        "outputId": "3ada6ad0-a926-4711-bfec-89a846c3e373"
      },
      "source": [
        "df_vib_2016.dtypes"
      ],
      "execution_count": null,
      "outputs": [
        {
          "output_type": "execute_result",
          "data": {
            "text/plain": [
              "Dates        object\n",
              "Time         object\n",
              "A2V9005A    float64\n",
              "A2V9004A    float64\n",
              "A2V9007A    float64\n",
              "A2V9006A    float64\n",
              "A2V9015A    float64\n",
              "A2V9014A    float64\n",
              "A2V9017A    float64\n",
              "A2V9016A    float64\n",
              "A2V9021A    float64\n",
              "A2V9019A    float64\n",
              "A2V9018A    float64\n",
              "dtype: object"
            ]
          },
          "metadata": {
            "tags": []
          },
          "execution_count": 41
        }
      ]
    },
    {
      "cell_type": "code",
      "metadata": {
        "id": "YFeDIHYkBSki",
        "colab": {
          "base_uri": "https://localhost:8080/",
          "height": 297
        },
        "outputId": "b26b93e5-ca14-430e-bb9c-43d28b147254"
      },
      "source": [
        "df_vib_2016['A2V9021A']\n",
        "df_rpm_0=df_vib_2016.loc[df_vib_2016['A2V9021A'] ==0.0]\n",
        "df_rpm_0\n",
        "# below is an part of vibration data where rpm is 0\n",
        "df_rpm_0_lineplot=df_rpm_0.iloc[ 0:300 , : ]\n",
        "df_rpm_0_lineplot.describe()"
      ],
      "execution_count": null,
      "outputs": [
        {
          "output_type": "execute_result",
          "data": {
            "text/html": [
              "<div>\n",
              "<style scoped>\n",
              "    .dataframe tbody tr th:only-of-type {\n",
              "        vertical-align: middle;\n",
              "    }\n",
              "\n",
              "    .dataframe tbody tr th {\n",
              "        vertical-align: top;\n",
              "    }\n",
              "\n",
              "    .dataframe thead th {\n",
              "        text-align: right;\n",
              "    }\n",
              "</style>\n",
              "<table border=\"1\" class=\"dataframe\">\n",
              "  <thead>\n",
              "    <tr style=\"text-align: right;\">\n",
              "      <th></th>\n",
              "      <th>A2V9005A</th>\n",
              "      <th>A2V9004A</th>\n",
              "      <th>A2V9007A</th>\n",
              "      <th>A2V9006A</th>\n",
              "      <th>A2V9015A</th>\n",
              "      <th>A2V9014A</th>\n",
              "      <th>A2V9017A</th>\n",
              "      <th>A2V9016A</th>\n",
              "      <th>A2V9021A</th>\n",
              "      <th>A2V9019A</th>\n",
              "      <th>A2V9018A</th>\n",
              "    </tr>\n",
              "  </thead>\n",
              "  <tbody>\n",
              "    <tr>\n",
              "      <th>count</th>\n",
              "      <td>300.000000</td>\n",
              "      <td>300.00000</td>\n",
              "      <td>3.000000e+02</td>\n",
              "      <td>300.000000</td>\n",
              "      <td>300.000000</td>\n",
              "      <td>300.000000</td>\n",
              "      <td>300.000000</td>\n",
              "      <td>300.000000</td>\n",
              "      <td>300.0</td>\n",
              "      <td>300.000000</td>\n",
              "      <td>300.000000</td>\n",
              "    </tr>\n",
              "    <tr>\n",
              "      <th>mean</th>\n",
              "      <td>0.145667</td>\n",
              "      <td>0.16400</td>\n",
              "      <td>1.000000e-01</td>\n",
              "      <td>0.177667</td>\n",
              "      <td>0.080000</td>\n",
              "      <td>0.096667</td>\n",
              "      <td>0.035667</td>\n",
              "      <td>0.064000</td>\n",
              "      <td>0.0</td>\n",
              "      <td>8.157667</td>\n",
              "      <td>7.689333</td>\n",
              "    </tr>\n",
              "    <tr>\n",
              "      <th>std</th>\n",
              "      <td>0.049895</td>\n",
              "      <td>0.04808</td>\n",
              "      <td>5.143361e-16</td>\n",
              "      <td>0.041718</td>\n",
              "      <td>0.040067</td>\n",
              "      <td>0.028134</td>\n",
              "      <td>0.047982</td>\n",
              "      <td>0.055204</td>\n",
              "      <td>0.0</td>\n",
              "      <td>1.012551</td>\n",
              "      <td>0.876535</td>\n",
              "    </tr>\n",
              "    <tr>\n",
              "      <th>min</th>\n",
              "      <td>0.100000</td>\n",
              "      <td>0.10000</td>\n",
              "      <td>1.000000e-01</td>\n",
              "      <td>0.100000</td>\n",
              "      <td>0.000000</td>\n",
              "      <td>0.000000</td>\n",
              "      <td>0.000000</td>\n",
              "      <td>0.000000</td>\n",
              "      <td>0.0</td>\n",
              "      <td>4.500000</td>\n",
              "      <td>4.600000</td>\n",
              "    </tr>\n",
              "    <tr>\n",
              "      <th>25%</th>\n",
              "      <td>0.100000</td>\n",
              "      <td>0.10000</td>\n",
              "      <td>1.000000e-01</td>\n",
              "      <td>0.200000</td>\n",
              "      <td>0.100000</td>\n",
              "      <td>0.100000</td>\n",
              "      <td>0.000000</td>\n",
              "      <td>0.000000</td>\n",
              "      <td>0.0</td>\n",
              "      <td>8.300000</td>\n",
              "      <td>7.800000</td>\n",
              "    </tr>\n",
              "    <tr>\n",
              "      <th>50%</th>\n",
              "      <td>0.100000</td>\n",
              "      <td>0.20000</td>\n",
              "      <td>1.000000e-01</td>\n",
              "      <td>0.200000</td>\n",
              "      <td>0.100000</td>\n",
              "      <td>0.100000</td>\n",
              "      <td>0.000000</td>\n",
              "      <td>0.100000</td>\n",
              "      <td>0.0</td>\n",
              "      <td>8.500000</td>\n",
              "      <td>7.900000</td>\n",
              "    </tr>\n",
              "    <tr>\n",
              "      <th>75%</th>\n",
              "      <td>0.200000</td>\n",
              "      <td>0.20000</td>\n",
              "      <td>1.000000e-01</td>\n",
              "      <td>0.200000</td>\n",
              "      <td>0.100000</td>\n",
              "      <td>0.100000</td>\n",
              "      <td>0.100000</td>\n",
              "      <td>0.100000</td>\n",
              "      <td>0.0</td>\n",
              "      <td>8.600000</td>\n",
              "      <td>8.100000</td>\n",
              "    </tr>\n",
              "    <tr>\n",
              "      <th>max</th>\n",
              "      <td>0.200000</td>\n",
              "      <td>0.20000</td>\n",
              "      <td>1.000000e-01</td>\n",
              "      <td>0.200000</td>\n",
              "      <td>0.100000</td>\n",
              "      <td>0.200000</td>\n",
              "      <td>0.100000</td>\n",
              "      <td>0.200000</td>\n",
              "      <td>0.0</td>\n",
              "      <td>8.700000</td>\n",
              "      <td>8.200000</td>\n",
              "    </tr>\n",
              "  </tbody>\n",
              "</table>\n",
              "</div>"
            ],
            "text/plain": [
              "         A2V9005A   A2V9004A      A2V9007A  ...  A2V9021A    A2V9019A    A2V9018A\n",
              "count  300.000000  300.00000  3.000000e+02  ...     300.0  300.000000  300.000000\n",
              "mean     0.145667    0.16400  1.000000e-01  ...       0.0    8.157667    7.689333\n",
              "std      0.049895    0.04808  5.143361e-16  ...       0.0    1.012551    0.876535\n",
              "min      0.100000    0.10000  1.000000e-01  ...       0.0    4.500000    4.600000\n",
              "25%      0.100000    0.10000  1.000000e-01  ...       0.0    8.300000    7.800000\n",
              "50%      0.100000    0.20000  1.000000e-01  ...       0.0    8.500000    7.900000\n",
              "75%      0.200000    0.20000  1.000000e-01  ...       0.0    8.600000    8.100000\n",
              "max      0.200000    0.20000  1.000000e-01  ...       0.0    8.700000    8.200000\n",
              "\n",
              "[8 rows x 11 columns]"
            ]
          },
          "metadata": {
            "tags": []
          },
          "execution_count": 42
        }
      ]
    },
    {
      "cell_type": "code",
      "metadata": {
        "id": "dD4AYQYZBSkk",
        "colab": {
          "base_uri": "https://localhost:8080/"
        },
        "outputId": "4e27d27e-5dd3-4f61-e71b-3d5280bff78a"
      },
      "source": [
        "527011-527040"
      ],
      "execution_count": null,
      "outputs": [
        {
          "output_type": "execute_result",
          "data": {
            "text/plain": [
              "-29"
            ]
          },
          "metadata": {
            "tags": []
          },
          "execution_count": 43
        }
      ]
    },
    {
      "cell_type": "code",
      "metadata": {
        "id": "Qm9hJxBaBSkk",
        "colab": {
          "base_uri": "https://localhost:8080/",
          "height": 551
        },
        "outputId": "d700a662-7b1a-426b-e210-0588db475f6a"
      },
      "source": [
        "#A2V9005A\tA2V9004A\tA2V9007A\tA2V9006A\tA2V9015A\tA2V9014A\tA2V9017A\tA2V9016A\tA2V9019A\tA2V9018A\n",
        "#A2V9005A\tA2V9004A\tA2V9007A\tA2V9006A\tA2V9015A\tA2V9014A\tA2V9017A\tA2V9016A\tA2V9019A\tA2V9018A\n",
        "#lebel in each plt.plot is for legends\n",
        "fig = plt.figure(figsize=(12,9))\n",
        "ax = plt.axes()\n",
        "x = np.linspace(0, 300,300)\n",
        "plt.xlabel('minutes')\n",
        "plt.ylabel('vibration in MILS')      # specify color by name\n",
        "plt.plot(x, df_rpm_0_lineplot['A2V9005A'],label=\"A2V9005A\", color='blue' )\n",
        "plt.plot(x, df_rpm_0_lineplot['A2V9004A'],label=\"A2V9004A\", color='green')           # short color code (rgbcmyk)\n",
        "plt.plot(x, df_rpm_0_lineplot['A2V9007A'],label=\"A2V9007A\", color='red')           # short color code (rgbcmyk)\n",
        "plt.plot(x, df_rpm_0_lineplot['A2V9006A'],label=\"A2V9006A\", color='cyan')           # short color code (rgbcmyk)\n",
        "plt.plot(x, df_rpm_0_lineplot['A2V9015A'],label=\"A2V9015A\", color='magenta')           # short color code (rgbcmyk)\n",
        "plt.plot(x, df_rpm_0_lineplot['A2V9014A'],label=\"A2V9014A\", color='yellow')           # short color code (rgbcmyk)\n",
        "plt.plot(x, df_rpm_0_lineplot['A2V9017A'],label=\"A2V9017A\", color='black')           # short color code (rgbcmyk)\n",
        "plt.plot(x, df_rpm_0_lineplot['A2V9016A'],label=\"A2V9016A\", color='g')           # short color code (rgbcmyk)\n",
        "plt.plot(x, df_rpm_0_lineplot['A2V9019A'],label=\"MFPT Thrust 2\", color='black')           # short color code (rgbcmyk)\n",
        "plt.plot(x, df_rpm_0_lineplot['A2V9018A'],label=\"MFPT Thrust 1\", color='red')           # short color code (rgbcmyk)\n",
        "\n",
        "# twin object for two different y-axis on the sample plot\n",
        "ax.legend(loc='center right')\n",
        "plt.show()"
      ],
      "execution_count": null,
      "outputs": [
        {
          "output_type": "display_data",
          "data": {
            "image/png": "[encoded data removed]",
            "text/plain": [
              "<Figure size 864x648 with 1 Axes>"
            ]
          },
          "metadata": {
            "tags": [],
            "needs_background": "light"
          }
        }
      ]
    },
    {
      "cell_type": "code",
      "metadata": {
        "id": "xcozlh94BSkm"
      },
      "source": [
        "df_rpm_4750=df_vib_2016.loc[df_vib_2016['A2V9021A']>4750]\n",
        "#df_rpm_4750.head(300)"
      ],
      "execution_count": null,
      "outputs": []
    },
    {
      "cell_type": "code",
      "metadata": {
        "id": "tZQuAoCRBSkm",
        "colab": {
          "base_uri": "https://localhost:8080/",
          "height": 551
        },
        "outputId": "b81ac5cc-2613-4227-a7fd-21e549f985cc"
      },
      "source": [
        "#A2V9005A\tA2V9004A\tA2V9007A\tA2V9006A\tA2V9015A\tA2V9014A\tA2V9017A\tA2V9016A\tA2V9019A\tA2V9018A\n",
        "#A2V9005A\tA2V9004A\tA2V9007A\tA2V9006A\tA2V9015A\tA2V9014A\tA2V9017A\tA2V9016A\tA2V9019A\tA2V9018A\n",
        "#lebel in each plt.plot is for legends\n",
        "fig = plt.figure(figsize=(12,9))\n",
        "ax = plt.axes()\n",
        "x = np.linspace(0, 300,300)\n",
        "plt.xlabel('minutes')\n",
        "plt.ylabel('vibration in MILS')      # specify color by name\n",
        "plt.plot(x, df_rpm_4750['A2V9005A'].head(300),label=\"A2V9005A\", color='blue' )\n",
        "plt.plot(x, df_rpm_4750['A2V9004A'].head(300),label=\"A2V9004A\", color='green')           # short color code (rgbcmyk)\n",
        "plt.plot(x, df_rpm_4750['A2V9007A'].head(300),label=\"A2V9007A\", color='red')           # short color code (rgbcmyk)\n",
        "plt.plot(x, df_rpm_4750['A2V9006A'].head(300),label=\"A2V9006A\", color='cyan')           # short color code (rgbcmyk)\n",
        "plt.plot(x, df_rpm_4750['A2V9015A'].head(300),label=\"A2V9015A\", color='magenta')           # short color code (rgbcmyk)\n",
        "plt.plot(x, df_rpm_4750['A2V9014A'].head(300),label=\"A2V9014A\", color='yellow')           # short color code (rgbcmyk)\n",
        "plt.plot(x, df_rpm_4750['A2V9017A'].head(300),label=\"A2V9017A\", color='black')           # short color code (rgbcmyk)\n",
        "plt.plot(x, df_rpm_4750['A2V9016A'].head(300),label=\"A2V9016A\", color='g')           # short color code (rgbcmyk)\n",
        "plt.plot(x, df_rpm_4750['A2V9019A'].head(300),label=\"A2V9019A\", color='orange')           # short color code (rgbcmyk)\n",
        "plt.plot(x, df_rpm_4750['A2V9018A'].head(300),label=\"A2V9018A\", color='g')           # short color code (rgbcmyk)\n",
        "\n",
        "# twin object for two different y-axis on the sample plot\n",
        "ax.legend(loc='center right')\n",
        "plt.show()"
      ],
      "execution_count": null,
      "outputs": [
        {
          "output_type": "display_data",
          "data": {
            "image/png": "[encoded data removed]",
            "text/plain": [
              "<Figure size 864x648 with 1 Axes>"
            ]
          },
          "metadata": {
            "tags": [],
            "needs_background": "light"
          }
        }
      ]
    },
    {
      "cell_type": "code",
      "metadata": {
        "id": "6cn3-9xjBSko"
      },
      "source": [],
      "execution_count": null,
      "outputs": []
    },
    {
      "cell_type": "code",
      "metadata": {
        "id": "LZ6e_XYeBSko",
        "colab": {
          "base_uri": "https://localhost:8080/",
          "height": 297
        },
        "outputId": "2872572b-c38e-4062-fcdf-1de1d9d1929d"
      },
      "source": [
        "df_rpm_middle= df_vib_2016[(df_vib_2016['A2V9021A'] >= 3250) & (df_vib_2016['A2V9021A'] <= 3500)]\n",
        "df_rpm_middle.describe()"
      ],
      "execution_count": null,
      "outputs": [
        {
          "output_type": "execute_result",
          "data": {
            "text/html": [
              "<div>\n",
              "<style scoped>\n",
              "    .dataframe tbody tr th:only-of-type {\n",
              "        vertical-align: middle;\n",
              "    }\n",
              "\n",
              "    .dataframe tbody tr th {\n",
              "        vertical-align: top;\n",
              "    }\n",
              "\n",
              "    .dataframe thead th {\n",
              "        text-align: right;\n",
              "    }\n",
              "</style>\n",
              "<table border=\"1\" class=\"dataframe\">\n",
              "  <thead>\n",
              "    <tr style=\"text-align: right;\">\n",
              "      <th></th>\n",
              "      <th>A2V9005A</th>\n",
              "      <th>A2V9004A</th>\n",
              "      <th>A2V9007A</th>\n",
              "      <th>A2V9006A</th>\n",
              "      <th>A2V9015A</th>\n",
              "      <th>A2V9014A</th>\n",
              "      <th>A2V9017A</th>\n",
              "      <th>A2V9016A</th>\n",
              "      <th>A2V9021A</th>\n",
              "      <th>A2V9019A</th>\n",
              "      <th>A2V9018A</th>\n",
              "    </tr>\n",
              "  </thead>\n",
              "  <tbody>\n",
              "    <tr>\n",
              "      <th>count</th>\n",
              "      <td>75341.000000</td>\n",
              "      <td>75341.000000</td>\n",
              "      <td>75341.000000</td>\n",
              "      <td>75341.000000</td>\n",
              "      <td>75341.000000</td>\n",
              "      <td>75341.000000</td>\n",
              "      <td>75341.000000</td>\n",
              "      <td>75341.000000</td>\n",
              "      <td>75341.000000</td>\n",
              "      <td>75341.000000</td>\n",
              "      <td>75341.000000</td>\n",
              "    </tr>\n",
              "    <tr>\n",
              "      <th>mean</th>\n",
              "      <td>0.002868</td>\n",
              "      <td>0.003033</td>\n",
              "      <td>0.998701</td>\n",
              "      <td>0.002106</td>\n",
              "      <td>0.898958</td>\n",
              "      <td>0.001419</td>\n",
              "      <td>2.896518</td>\n",
              "      <td>2.996455</td>\n",
              "      <td>3388.004194</td>\n",
              "      <td>7.046791</td>\n",
              "      <td>7.345249</td>\n",
              "    </tr>\n",
              "    <tr>\n",
              "      <th>std</th>\n",
              "      <td>0.053788</td>\n",
              "      <td>0.056572</td>\n",
              "      <td>0.025226</td>\n",
              "      <td>0.039562</td>\n",
              "      <td>0.020868</td>\n",
              "      <td>0.026905</td>\n",
              "      <td>0.068630</td>\n",
              "      <td>0.070066</td>\n",
              "      <td>7.429213</td>\n",
              "      <td>1.070788</td>\n",
              "      <td>1.088140</td>\n",
              "    </tr>\n",
              "    <tr>\n",
              "      <th>min</th>\n",
              "      <td>0.000000</td>\n",
              "      <td>0.000000</td>\n",
              "      <td>0.300000</td>\n",
              "      <td>0.000000</td>\n",
              "      <td>0.300000</td>\n",
              "      <td>0.000000</td>\n",
              "      <td>0.900000</td>\n",
              "      <td>1.000000</td>\n",
              "      <td>3250.000000</td>\n",
              "      <td>-24.700000</td>\n",
              "      <td>-24.600000</td>\n",
              "    </tr>\n",
              "    <tr>\n",
              "      <th>25%</th>\n",
              "      <td>0.000000</td>\n",
              "      <td>0.000000</td>\n",
              "      <td>1.000000</td>\n",
              "      <td>0.000000</td>\n",
              "      <td>0.900000</td>\n",
              "      <td>0.000000</td>\n",
              "      <td>2.900000</td>\n",
              "      <td>3.000000</td>\n",
              "      <td>3388.200000</td>\n",
              "      <td>7.100000</td>\n",
              "      <td>7.400000</td>\n",
              "    </tr>\n",
              "    <tr>\n",
              "      <th>50%</th>\n",
              "      <td>0.000000</td>\n",
              "      <td>0.000000</td>\n",
              "      <td>1.000000</td>\n",
              "      <td>0.000000</td>\n",
              "      <td>0.900000</td>\n",
              "      <td>0.000000</td>\n",
              "      <td>2.900000</td>\n",
              "      <td>3.000000</td>\n",
              "      <td>3388.200000</td>\n",
              "      <td>7.100000</td>\n",
              "      <td>7.400000</td>\n",
              "    </tr>\n",
              "    <tr>\n",
              "      <th>75%</th>\n",
              "      <td>0.000000</td>\n",
              "      <td>0.000000</td>\n",
              "      <td>1.000000</td>\n",
              "      <td>0.000000</td>\n",
              "      <td>0.900000</td>\n",
              "      <td>0.000000</td>\n",
              "      <td>2.900000</td>\n",
              "      <td>3.000000</td>\n",
              "      <td>3388.200000</td>\n",
              "      <td>7.100000</td>\n",
              "      <td>7.400000</td>\n",
              "    </tr>\n",
              "    <tr>\n",
              "      <th>max</th>\n",
              "      <td>2.200000</td>\n",
              "      <td>2.100000</td>\n",
              "      <td>1.300000</td>\n",
              "      <td>1.900000</td>\n",
              "      <td>1.300000</td>\n",
              "      <td>1.200000</td>\n",
              "      <td>2.900000</td>\n",
              "      <td>3.000000</td>\n",
              "      <td>3499.400000</td>\n",
              "      <td>7.400000</td>\n",
              "      <td>7.700000</td>\n",
              "    </tr>\n",
              "  </tbody>\n",
              "</table>\n",
              "</div>"
            ],
            "text/plain": [
              "           A2V9005A      A2V9004A  ...      A2V9019A      A2V9018A\n",
              "count  75341.000000  75341.000000  ...  75341.000000  75341.000000\n",
              "mean       0.002868      0.003033  ...      7.046791      7.345249\n",
              "std        0.053788      0.056572  ...      1.070788      1.088140\n",
              "min        0.000000      0.000000  ...    -24.700000    -24.600000\n",
              "25%        0.000000      0.000000  ...      7.100000      7.400000\n",
              "50%        0.000000      0.000000  ...      7.100000      7.400000\n",
              "75%        0.000000      0.000000  ...      7.100000      7.400000\n",
              "max        2.200000      2.100000  ...      7.400000      7.700000\n",
              "\n",
              "[8 rows x 11 columns]"
            ]
          },
          "metadata": {
            "tags": []
          },
          "execution_count": 47
        }
      ]
    },
    {
      "cell_type": "code",
      "metadata": {
        "id": "e3jgIFmWBSkp",
        "colab": {
          "base_uri": "https://localhost:8080/",
          "height": 551
        },
        "outputId": "ec2c8f97-6fbd-4b35-9ddd-0948a95da29b"
      },
      "source": [
        "#A2V9005A\tA2V9004A\tA2V9007A\tA2V9006A\tA2V9015A\tA2V9014A\tA2V9017A\tA2V9016A\tA2V9019A\tA2V9018A\n",
        "#A2V9005A\tA2V9004A\tA2V9007A\tA2V9006A\tA2V9015A\tA2V9014A\tA2V9017A\tA2V9016A\tA2V9019A\tA2V9018A\n",
        "#lebel in each plt.plot is for legends\n",
        "fig = plt.figure(figsize=(12,9))\n",
        "ax = plt.axes()\n",
        "x = np.linspace(0, 300,300)\n",
        "plt.xlabel('minutes')\n",
        "plt.ylabel('vibration in MILS')      # specify color by name\n",
        "plt.plot(x, df_rpm_middle['A2V9005A'].head(300),label=\"A2V9005A\", color='blue' )\n",
        "plt.plot(x, df_rpm_middle['A2V9004A'].head(300),label=\"A2V9004A\", color='green')           # short color code (rgbcmyk)\n",
        "plt.plot(x, df_rpm_middle['A2V9007A'].head(300),label=\"A2V9007A\", color='red')           # short color code (rgbcmyk)\n",
        "plt.plot(x, df_rpm_middle['A2V9006A'].head(300),label=\"A2V9006A\", color='cyan')           # short color code (rgbcmyk)\n",
        "plt.plot(x, df_rpm_middle['A2V9015A'].head(300),label=\"A2V9015A\", color='magenta')           # short color code (rgbcmyk)\n",
        "plt.plot(x, df_rpm_middle['A2V9014A'].head(300),label=\"A2V9014A\", color='yellow')           # short color code (rgbcmyk)\n",
        "plt.plot(x, df_rpm_middle['A2V9017A'].head(300),label=\"A2V9017A\", color='black')           # short color code (rgbcmyk)\n",
        "plt.plot(x, df_rpm_middle['A2V9016A'].head(300),label=\"A2V9016A\", color='g')           # short color code (rgbcmyk)\n",
        "plt.plot(x, df_rpm_middle['A2V9019A'].head(300),label=\"MFPT Thrust 2\", color='black')           # short color code (rgbcmyk)\n",
        "plt.plot(x, df_rpm_middle['A2V9018A'].head(300),label=\"MFPT Thrust 1\", color='red')           # short color code (rgbcmyk)\n",
        "\n",
        "# twin object for two different y-axis on the sample plot\n",
        "ax.legend(loc='center right')\n",
        "plt.show()"
      ],
      "execution_count": null,
      "outputs": [
        {
          "output_type": "display_data",
          "data": {
            "image/png": "[encoded data removed]",
            "text/plain": [
              "<Figure size 864x648 with 1 Axes>"
            ]
          },
          "metadata": {
            "tags": [],
            "needs_background": "light"
          }
        }
      ]
    },
    {
      "cell_type": "code",
      "metadata": {
        "id": "kUY4KPc4BSkq",
        "colab": {
          "base_uri": "https://localhost:8080/",
          "height": 406
        },
        "outputId": "a72542a2-6d14-4d00-9f69-747222835d0d"
      },
      "source": [
        "plt.subplots(figsize=(26, 6))\n",
        "plt.subplot(1,4,1)\n",
        "plt.hist(df_vib_2016['A2V9021A'], density=False, bins=20)\n",
        "plt.ylabel('frequency')\n",
        "plt.xlabel('28 MFPT speed (RPM)')\n",
        "#plt.axvline(df_vib_2016['A2V9021A'].mean(), color='k', linestyle='dashed', linewidth=1)\n",
        "#plt.axvline(np.percentile(df_vib_2016['A2V9021A'], [25])-1.5*(np.percentile(df_vib_2016['A2V9021A'], [75])-np.percentile(df_vib_2016['A2V9021A'], [25])), color='red', linestyle='dashed', linewidth=2)\n",
        "#plt.axvline(np.percentile(df_vib_2016['A2V9021A'], [75])+1.5*(np.percentile(df_vib_2016['A2V9021A'], [75])-np.percentile(df_vib_2016['A2V9021A'], [25])), color='red', linestyle='dashed', linewidth=2)\n",
        "\n",
        "plt.subplot(1,4,2)\n",
        "plt.hist(df_vib_2016['A2V9019A'], density=False, bins=20)\n",
        "plt.ylabel('frequency')\n",
        "plt.xlabel('Thrust 1 (MILS)')\n",
        "#plt.axvline(df_vib_2016['A2V9016A'].mean(), color='k', linestyle='dashed', linewidth=1)\n",
        "#plt.axvline(np.percentile(df_vib_2016['A2V9016A'], [25])-1.5*(np.percentile(df_vib_2016['A2V9016A'], [75])-np.percentile(df_vib_2016['A2V9016A'], [25])), color='red', linestyle='dashed', linewidth=2)\n",
        "#plt.axvline(np.percentile(df_vib_2016['A2V9016A'], [75])+1.5*(np.percentile(df_vib_2016['A2V9016A'], [75])-np.percentile(df_vib_2016['A2V9016A'], [25])), color='red', linestyle='dashed', linewidth=2)\n",
        "\n",
        "\n",
        "plt.subplot(1,4,3)\n",
        "plt.hist(df_vib_2016['A2V9018A'], density=False, bins=20)\n",
        "plt.ylabel('frequency ')\n",
        "plt.xlabel('Thrust 2 (MILS)')\n",
        "#plt.axvline(df_vib_2016['A2V9019A'].mean(), color='k', linestyle='dashed', linewidth=1)\n",
        "#plt.axvline(np.percentile(df_vib_2016['A2V9019A'], [25])-1.5*(np.percentile(df_vib_2016['A2V9019A'], [75])-np.percentile(df_vib_2016['A2V9019A'], [25])), color='red', linestyle='dashed', linewidth=2)\n",
        "#plt.axvline(np.percentile(df_vib_2016['A2V9019A'], [75])+1.5*(np.percentile(df_vib_2016['A2V9019A'], [75])-np.percentile(df_vib_2016['A2V9019A'], [25])), color='red', linestyle='dashed', linewidth=2)\n",
        "\n"
      ],
      "execution_count": null,
      "outputs": [
        {
          "output_type": "execute_result",
          "data": {
            "text/plain": [
              "Text(0.5, 0, 'Thrust 2 (MILS)')"
            ]
          },
          "metadata": {
            "tags": []
          },
          "execution_count": 49
        },
        {
          "output_type": "display_data",
          "data": {
            "image/png": "[encoded data removed]",
            "text/plain": [
              "<Figure size 1872x432 with 3 Axes>"
            ]
          },
          "metadata": {
            "tags": [],
            "needs_background": "light"
          }
        }
      ]
    },
    {
      "cell_type": "code",
      "metadata": {
        "id": "MAM6smIn43yz",
        "colab": {
          "base_uri": "https://localhost:8080/",
          "height": 551
        },
        "outputId": "7048cda8-bd39-4ca1-85d9-a3600b63e547"
      },
      "source": [
        "#A2V9005A\tA2V9004A\tA2V9007A\tA2V9006A\tA2V9015A\tA2V9014A\tA2V9017A\tA2V9016A\tA2V9019A\tA2V9018A\n",
        "#A2V9005A\tA2V9004A\tA2V9007A\tA2V9006A\tA2V9015A\tA2V9014A\tA2V9017A\tA2V9016A\tA2V9019A\tA2V9018A\n",
        "#lebel in each plt.plot is for legends\n",
        "fig = plt.figure(figsize=(12,9))\n",
        "ax = plt.axes()\n",
        "x = np.linspace(0, 300,300)\n",
        "plt.xlabel('minutes')\n",
        "plt.ylabel('vibration in MILS')      # specify color by name\n",
        "plt.plot(x, df_vib_2016['A2V9005A'].head(300),label=\"A2V9005A\", color='blue' )\n",
        "plt.plot(x, df_vib_2016['A2V9004A'].head(300),label=\"A2V9004A\", color='green')           # short color code (rgbcmyk)\n",
        "plt.plot(x, df_vib_2016['A2V9007A'].head(300),label=\"A2V9007A\", color='red')           # short color code (rgbcmyk)\n",
        "plt.plot(x, df_vib_2016['A2V9006A'].head(300),label=\"A2V9006A\", color='cyan')           # short color code (rgbcmyk)\n",
        "plt.plot(x, df_vib_2016['A2V9015A'].head(300),label=\"A2V9015A\", color='magenta')           # short color code (rgbcmyk)\n",
        "plt.plot(x, df_vib_2016['A2V9014A'].head(300),label=\"A2V9014A\", color='yellow')           # short color code (rgbcmyk)\n",
        "plt.plot(x, df_vib_2016['A2V9017A'].head(300),label=\"A2V9017A\", color='black')           # short color code (rgbcmyk)\n",
        "plt.plot(x, df_vib_2016['A2V9016A'].head(300),label=\"A2V9016A\", color='g')           # short color code (rgbcmyk)\n",
        "plt.plot(x, df_vib_2016['A2V9019A'].head(300),label=\"A2V9019A\", color='orange')           # short color code (rgbcmyk)\n",
        "plt.plot(x, df_vib_2016['A2V9018A'].head(300),label=\"A2V9018A\", color='g')           # short color code (rgbcmyk)\n",
        "\n",
        "# twin object for two different y-axis on the sample plot\n",
        "\n",
        "ax2=ax.twinx()\n",
        "# make a plot with different y-axis using second axis object\n",
        "ax2.plot(x, df_vib_2016['A2V9021A'].head(300),color=\"black\")\n",
        "ax2.set_ylabel('speed in rotation per minute')\n",
        "ax.legend(loc='center right')\n",
        "plt.show()"
      ],
      "execution_count": null,
      "outputs": [
        {
          "output_type": "display_data",
          "data": {
            "image/png": "[encoded data removed]",
            "text/plain": [
              "<Figure size 864x648 with 2 Axes>"
            ]
          },
          "metadata": {
            "tags": [],
            "needs_background": "light"
          }
        }
      ]
    },
    {
      "cell_type": "code",
      "metadata": {
        "id": "Ud4mgYb0QCmx",
        "colab": {
          "base_uri": "https://localhost:8080/"
        },
        "outputId": "cb2902d9-d781-46a0-c769-fd7d15413877"
      },
      "source": [
        "#upload raw dataset\n",
        "df_handfilled = pd.read_excel('humanfilled.xlsx')\n",
        "df_handfilled.dtypes"
      ],
      "execution_count": null,
      "outputs": [
        {
          "output_type": "execute_result",
          "data": {
            "text/plain": [
              "Position          object\n",
              "Date and Time     object\n",
              "RPM                int64\n",
              "APS               object\n",
              "overall          float64\n",
              "para1            float64\n",
              "para2            float64\n",
              "para3            float64\n",
              "para4            float64\n",
              "para5             object\n",
              "para6             object\n",
              "dtype: object"
            ]
          },
          "metadata": {
            "tags": []
          },
          "execution_count": 51
        }
      ]
    },
    {
      "cell_type": "code",
      "metadata": {
        "id": "n66n8F-aBSkt"
      },
      "source": [
        "df_handfilled1=df_handfilled.drop(['Position','Date and Time'], axis=1)\n",
        "df_handfilled1.columns=['RPM','APS','overall','Param1','Param2','Param3','Param4','Param5','Param6']\n",
        "#df_handfilled1.dtypes\n",
        "#df_handfilled['APS'].astype(int)\n",
        "df_handfilled2=df_handfilled1[['RPM','overall']]"
      ],
      "execution_count": null,
      "outputs": []
    },
    {
      "cell_type": "code",
      "metadata": {
        "id": "7Kzmc2lNBSku"
      },
      "source": [
        "df_handfilled3=df_handfilled[['Position','Date and Time','RPM','overall']]"
      ],
      "execution_count": null,
      "outputs": []
    },
    {
      "cell_type": "code",
      "metadata": {
        "id": "gX-SGQZ3BSku",
        "colab": {
          "base_uri": "https://localhost:8080/"
        },
        "outputId": "90e90083-dd5c-4abe-e10e-237efd1e9fdb"
      },
      "source": [
        "#print(len(df_handfilled.Position.unique()\n",
        "6.1**(-5)"
      ],
      "execution_count": null,
      "outputs": [
        {
          "output_type": "execute_result",
          "data": {
            "text/plain": [
              "0.00011839976078701774"
            ]
          },
          "metadata": {
            "tags": []
          },
          "execution_count": 54
        }
      ]
    },
    {
      "cell_type": "code",
      "metadata": {
        "id": "lI27x20ABSku",
        "colab": {
          "base_uri": "https://localhost:8080/",
          "height": 214
        },
        "outputId": "b6726803-6ce5-4760-ec7a-1c1752a19bde"
      },
      "source": [
        "import chardet\n",
        "with open(humanfilled_params_modified.xlsx, 'rb') as rawdata:\n",
        "    result = chardet.detect(rawdata.read(100000))\n",
        "result"
      ],
      "execution_count": null,
      "outputs": [
        {
          "output_type": "error",
          "ename": "NameError",
          "evalue": "ignored",
          "traceback": [
            "\u001b[0;31m---------------------------------------------------------------------------\u001b[0m",
            "\u001b[0;31mNameError\u001b[0m                                 Traceback (most recent call last)",
            "\u001b[0;32m<ipython-input-55-851d65097d45>\u001b[0m in \u001b[0;36m<module>\u001b[0;34m()\u001b[0m\n\u001b[1;32m      1\u001b[0m \u001b[0;32mimport\u001b[0m \u001b[0mchardet\u001b[0m\u001b[0;34m\u001b[0m\u001b[0;34m\u001b[0m\u001b[0m\n\u001b[0;32m----> 2\u001b[0;31m \u001b[0;32mwith\u001b[0m \u001b[0mopen\u001b[0m\u001b[0;34m(\u001b[0m\u001b[0mhumanfilled_params_modified\u001b[0m\u001b[0;34m.\u001b[0m\u001b[0mxlsx\u001b[0m\u001b[0;34m,\u001b[0m \u001b[0;34m'rb'\u001b[0m\u001b[0;34m)\u001b[0m \u001b[0;32mas\u001b[0m \u001b[0mrawdata\u001b[0m\u001b[0;34m:\u001b[0m\u001b[0;34m\u001b[0m\u001b[0;34m\u001b[0m\u001b[0m\n\u001b[0m\u001b[1;32m      3\u001b[0m     \u001b[0mresult\u001b[0m \u001b[0;34m=\u001b[0m \u001b[0mchardet\u001b[0m\u001b[0;34m.\u001b[0m\u001b[0mdetect\u001b[0m\u001b[0;34m(\u001b[0m\u001b[0mrawdata\u001b[0m\u001b[0;34m.\u001b[0m\u001b[0mread\u001b[0m\u001b[0;34m(\u001b[0m\u001b[0;36m100000\u001b[0m\u001b[0;34m)\u001b[0m\u001b[0;34m)\u001b[0m\u001b[0;34m\u001b[0m\u001b[0;34m\u001b[0m\u001b[0m\n\u001b[1;32m      4\u001b[0m \u001b[0mresult\u001b[0m\u001b[0;34m\u001b[0m\u001b[0;34m\u001b[0m\u001b[0m\n",
            "\u001b[0;31mNameError\u001b[0m: name 'humanfilled_params_modified' is not defined"
          ]
        }
      ]
    },
    {
      "cell_type": "code",
      "metadata": {
        "id": "Ry_4kZN6BSkv",
        "colab": {
          "base_uri": "https://localhost:8080/"
        },
        "outputId": "75c18b5c-d66b-4f95-c4b8-aef8cb2773b8"
      },
      "source": [
        "#upload after modifying those columns who has value in range\n",
        "df_handfilled_param_modified = pd.read_excel('humanfilled_params_modified.xlsx')\n",
        "df_handfilled_param_modified\n"
      ],
      "execution_count": null,
      "outputs": [
        {
          "output_type": "execute_result",
          "data": {
            "text/plain": [
              "Position          object\n",
              "Date and Time     object\n",
              "RPM                int64\n",
              "APS               object\n",
              "overall          float64\n",
              "para1            float64\n",
              "para2            float64\n",
              "para3            float64\n",
              "para4            float64\n",
              "para5            float64\n",
              "para6            float64\n",
              "dtype: object"
            ]
          },
          "metadata": {
            "tags": []
          },
          "execution_count": 56
        }
      ]
    },
    {
      "cell_type": "code",
      "metadata": {
        "id": "T_NxawvTBSkv",
        "colab": {
          "base_uri": "https://localhost:8080/"
        },
        "outputId": "71656ec2-fb38-4bc7-a7e4-27c10b6467ef"
      },
      "source": [
        "df_handfilled3['param_overall_MILS'] = df_handfilled_param_modified.apply(lambda row: row.overall*19.1*1000 / row.RPM, axis=1)\n",
        "df_handfilled3['param1_MILS'] = df_handfilled_param_modified.apply(lambda row: row.para1*19.1*1000 / row.RPM, axis=1)\n",
        "df_handfilled3['param2_MILS'] = df_handfilled_param_modified.apply(lambda row: row.para2*19.1*1000 / row.RPM, axis=1)\n",
        "df_handfilled3['param3_MILS'] = df_handfilled_param_modified.apply(lambda row: row.para3*19.1*1000 / row.RPM, axis=1)\n",
        "df_handfilled3['param4_MILS'] = df_handfilled_param_modified.apply(lambda row: row.para4*19.1*1000 / row.RPM, axis=1)\n",
        "df_handfilled3['param5_MILS'] = df_handfilled_param_modified.apply(lambda row: row.para5*19.1*1000 / row.RPM, axis=1)\n",
        "df_handfilled3['param6_MILS'] = df_handfilled_param_modified.apply(lambda row: row.para6*19.1*1000 / row.RPM, axis=1)\n",
        "df_handfilled4=df_handfilled3.iloc[:,4:11]\n",
        "cols=df_handfilled4.columns.values\n",
        "cols=['param_overall_MILS', 'param1_MILS', 'param2_MILS', 'param3_MILS',\n",
        "       'param4_MILS', 'param5_MILS']\n",
        "df_humanfilled5=df_handfilled4[['param_overall_MILS', 'param1_MILS', 'param2_MILS', 'param3_MILS',\n",
        "       'param4_MILS', 'param5_MILS','param6_MILS']]\n"
      ],
      "execution_count": null,
      "outputs": [
        {
          "output_type": "stream",
          "text": [
            "/usr/local/lib/python3.7/dist-packages/ipykernel_launcher.py:1: SettingWithCopyWarning: \n",
            "A value is trying to be set on a copy of a slice from a DataFrame.\n",
            "Try using .loc[row_indexer,col_indexer] = value instead\n",
            "\n",
            "See the caveats in the documentation: https://pandas.pydata.org/pandas-docs/stable/user_guide/indexing.html#returning-a-view-versus-a-copy\n",
            "  \"\"\"Entry point for launching an IPython kernel.\n",
            "/usr/local/lib/python3.7/dist-packages/ipykernel_launcher.py:2: SettingWithCopyWarning: \n",
            "A value is trying to be set on a copy of a slice from a DataFrame.\n",
            "Try using .loc[row_indexer,col_indexer] = value instead\n",
            "\n",
            "See the caveats in the documentation: https://pandas.pydata.org/pandas-docs/stable/user_guide/indexing.html#returning-a-view-versus-a-copy\n",
            "  \n",
            "/usr/local/lib/python3.7/dist-packages/ipykernel_launcher.py:3: SettingWithCopyWarning: \n",
            "A value is trying to be set on a copy of a slice from a DataFrame.\n",
            "Try using .loc[row_indexer,col_indexer] = value instead\n",
            "\n",
            "See the caveats in the documentation: https://pandas.pydata.org/pandas-docs/stable/user_guide/indexing.html#returning-a-view-versus-a-copy\n",
            "  This is separate from the ipykernel package so we can avoid doing imports until\n",
            "/usr/local/lib/python3.7/dist-packages/ipykernel_launcher.py:4: SettingWithCopyWarning: \n",
            "A value is trying to be set on a copy of a slice from a DataFrame.\n",
            "Try using .loc[row_indexer,col_indexer] = value instead\n",
            "\n",
            "See the caveats in the documentation: https://pandas.pydata.org/pandas-docs/stable/user_guide/indexing.html#returning-a-view-versus-a-copy\n",
            "  after removing the cwd from sys.path.\n",
            "/usr/local/lib/python3.7/dist-packages/ipykernel_launcher.py:5: SettingWithCopyWarning: \n",
            "A value is trying to be set on a copy of a slice from a DataFrame.\n",
            "Try using .loc[row_indexer,col_indexer] = value instead\n",
            "\n",
            "See the caveats in the documentation: https://pandas.pydata.org/pandas-docs/stable/user_guide/indexing.html#returning-a-view-versus-a-copy\n",
            "  \"\"\"\n",
            "/usr/local/lib/python3.7/dist-packages/ipykernel_launcher.py:6: SettingWithCopyWarning: \n",
            "A value is trying to be set on a copy of a slice from a DataFrame.\n",
            "Try using .loc[row_indexer,col_indexer] = value instead\n",
            "\n",
            "See the caveats in the documentation: https://pandas.pydata.org/pandas-docs/stable/user_guide/indexing.html#returning-a-view-versus-a-copy\n",
            "  \n"
          ],
          "name": "stderr"
        }
      ]
    },
    {
      "cell_type": "code",
      "metadata": {
        "colab": {
          "base_uri": "https://localhost:8080/",
          "height": 17
        },
        "id": "DV9n6hIMYGAM",
        "outputId": "c66cd578-d3f1-4752-efb5-22e2330fba85"
      },
      "source": [
        "from google.colab import files\n",
        "df_humanfilled5.to_csv('df_humanfilled5.csv')\n",
        "files.download('df_humanfilled5.csv')"
      ],
      "execution_count": null,
      "outputs": [
        {
          "output_type": "display_data",
          "data": {
            "application/javascript": [
              "\n",
              "    async function download(id, filename, size) {\n",
              "      if (!google.colab.kernel.accessAllowed) {\n",
              "        return;\n",
              "      }\n",
              "      const div = document.createElement('div');\n",
              "      const label = document.createElement('label');\n",
              "      label.textContent = `Downloading \"${filename}\": `;\n",
              "      div.appendChild(label);\n",
              "      const progress = document.createElement('progress');\n",
              "      progress.max = size;\n",
              "      div.appendChild(progress);\n",
              "      document.body.appendChild(div);\n",
              "\n",
              "      const buffers = [];\n",
              "      let downloaded = 0;\n",
              "\n",
              "      const channel = await google.colab.kernel.comms.open(id);\n",
              "      // Send a message to notify the kernel that we're ready.\n",
              "      channel.send({})\n",
              "\n",
              "      for await (const message of channel.messages) {\n",
              "        // Send a message to notify the kernel that we're ready.\n",
              "        channel.send({})\n",
              "        if (message.buffers) {\n",
              "          for (const buffer of message.buffers) {\n",
              "            buffers.push(buffer);\n",
              "            downloaded += buffer.byteLength;\n",
              "            progress.value = downloaded;\n",
              "          }\n",
              "        }\n",
              "      }\n",
              "      const blob = new Blob(buffers, {type: 'application/binary'});\n",
              "      const a = document.createElement('a');\n",
              "      a.href = window.URL.createObjectURL(blob);\n",
              "      a.download = filename;\n",
              "      div.appendChild(a);\n",
              "      a.click();\n",
              "      div.remove();\n",
              "    }\n",
              "  "
            ],
            "text/plain": [
              "<IPython.core.display.Javascript object>"
            ]
          },
          "metadata": {
            "tags": []
          }
        },
        {
          "output_type": "display_data",
          "data": {
            "application/javascript": [
              "download(\"download_420df328-ad50-4481-94ab-b09798da7ec3\", \"df_humanfilled5.csv\", 117983)"
            ],
            "text/plain": [
              "<IPython.core.display.Javascript object>"
            ]
          },
          "metadata": {
            "tags": []
          }
        }
      ]
    },
    {
      "cell_type": "code",
      "metadata": {
        "id": "gxE_TBT5b8si"
      },
      "source": [
        "df_humanfilled5.describe()"
      ],
      "execution_count": null,
      "outputs": []
    },
    {
      "cell_type": "code",
      "metadata": {
        "id": "k6WQHmBZBSkw"
      },
      "source": [
        "df_vib_2016.describe()"
      ],
      "execution_count": null,
      "outputs": []
    },
    {
      "cell_type": "code",
      "metadata": {
        "id": "F-BBd2SOBSkw"
      },
      "source": [
        "#The following formula is used to transform In/Sec to MILS\n",
        "#D (MILS)= 19.1*1000*V(In/Sec)/RPM"
      ],
      "execution_count": null,
      "outputs": []
    },
    {
      "cell_type": "code",
      "metadata": {
        "id": "Lu1qCJQdBSkx"
      },
      "source": [],
      "execution_count": null,
      "outputs": []
    },
    {
      "cell_type": "code",
      "metadata": {
        "id": "7npPcsfTcPAB"
      },
      "source": [
        "plt.subplots(figsize=(15, 10))\n",
        "plt.subplot(3,3,1)\n",
        "plt.hist(df_handfilled1['overall'], density=False, bins=20)\n",
        "plt.ylabel('frequency')\n",
        "plt.xlabel('overall')\n",
        "plt.axvline(df_handfilled1['overall'].mean(), color='k', linestyle='dashed', linewidth=1)\n",
        "plt.axvline(np.percentile(df_handfilled1['overall'], [25])-1.5*(np.percentile(df_handfilled1['overall'], [75])-np.percentile(df_handfilled1['overall'], [25])), color='red', linestyle='dashed', linewidth=2)\n",
        "plt.axvline(np.percentile(df_handfilled1['overall'], [75])+1.5*(np.percentile(df_handfilled1['overall'], [75])-np.percentile(df_handfilled1['overall'], [25])), color='red', linestyle='dashed', linewidth=2)"
      ],
      "execution_count": null,
      "outputs": []
    },
    {
      "cell_type": "code",
      "metadata": {
        "id": "3Mu95Jp3Tlds"
      },
      "source": [
        "plt.subplots(figsize=(18, 8))\n",
        "plt.subplot(2,3,1)\n",
        "plt.hist(df_handfilled1['overall'], density=False, bins=20)\n",
        "plt.ylabel('frequency')\n",
        "plt.xlabel('overall')\n",
        "plt.axvline(df_handfilled1['overall'].mean(), color='k', linestyle='dashed', linewidth=1)\n",
        "plt.axvline(np.percentile(df_handfilled1['overall'], [25])-1.5*(np.percentile(df_handfilled1['overall'], [75])-np.percentile(df_handfilled1['overall'], [25])), color='red', linestyle='dashed', linewidth=2)\n",
        "plt.axvline(np.percentile(df_handfilled1['overall'], [75])+1.5*(np.percentile(df_handfilled1['overall'], [75])-np.percentile(df_handfilled1['overall'], [25])), color='red', linestyle='dashed', linewidth=2)\n",
        "\n",
        "plt.subplot(2,3,2)\n",
        "plt.hist(df_handfilled1['Param1'], density=False, bins=20)\n",
        "plt.ylabel('frequency')\n",
        "plt.xlabel('Param1 (In/Sec)')\n",
        "plt.axvline(df_handfilled1['Param1'].mean(), color='k', linestyle='dashed', linewidth=1)\n",
        "plt.axvline(np.percentile(df_handfilled1['Param1'], [25])-1.5*(np.percentile(df_handfilled1['Param1'], [75])-np.percentile(df_handfilled1['Param1'], [25])), color='red', linestyle='dashed', linewidth=2)\n",
        "plt.axvline(np.percentile(df_handfilled1['Param1'], [75])+1.5*(np.percentile(df_handfilled1['Param1'], [75])-np.percentile(df_handfilled1['Param1'], [25])), color='red', linestyle='dashed', linewidth=2)\n",
        "\n",
        "plt.subplot(2,3,3)\n",
        "plt.hist(df_handfilled1['Param2'], density=False, bins=20)\n",
        "plt.ylabel('frequency')\n",
        "plt.xlabel('Param2 (In/Sec)')\n",
        "plt.axvline(df_handfilled1['Param2'].mean(), color='k', linestyle='dashed', linewidth=1)\n",
        "plt.axvline(np.percentile(df_handfilled1['Param2'], [25])-1.5*(np.percentile(df_handfilled1['Param2'], [75])-np.percentile(df_handfilled1['Param2'], [25])), color='red', linestyle='dashed', linewidth=2)\n",
        "plt.axvline(np.percentile(df_handfilled1['Param2'], [75])+1.5*(np.percentile(df_handfilled1['Param2'], [75])-np.percentile(df_handfilled1['Param2'], [25])), color='red', linestyle='dashed', linewidth=2)\n",
        "\n",
        "\n",
        "plt.subplot(2,3,4)\n",
        "plt.hist(df_handfilled1['Param3'], density=False, bins=20)\n",
        "plt.ylabel('frequency')\n",
        "plt.xlabel('Param3')\n",
        "plt.axvline(df_handfilled1['Param3'].mean(), color='k', linestyle='dashed', linewidth=1)\n",
        "plt.axvline(np.percentile(df_handfilled1['Param3'], [25])-1.5*(np.percentile(df_handfilled1['Param3'], [75])-np.percentile(df_handfilled1['Param3'], [25])), color='red', linestyle='dashed', linewidth=2)\n",
        "plt.axvline(np.percentile(df_handfilled1['Param3'], [75])+1.5*(np.percentile(df_handfilled1['Param3'], [75])-np.percentile(df_handfilled1['Param3'], [25])), color='red', linestyle='dashed', linewidth=2)\n",
        "\n",
        "plt.subplot(2,3,5)\n",
        "plt.hist(df_handfilled1['Param4'], density=False, bins=20)\n",
        "plt.ylabel('frequency')\n",
        "plt.xlabel('Param4')\n",
        "plt.axvline(df_handfilled1['Param4'].mean(), color='k', linestyle='dashed', linewidth=1)\n",
        "plt.axvline(np.percentile(df_handfilled1['Param4'], [25])-1.5*(np.percentile(df_handfilled1['Param4'], [75])-np.percentile(df_handfilled1['Param4'], [25])), color='red', linestyle='dashed', linewidth=2)\n",
        "plt.axvline(np.percentile(df_handfilled1['Param4'], [75])+1.5*(np.percentile(df_handfilled1['Param4'], [75])-np.percentile(df_handfilled1['Param4'], [25])), color='red', linestyle='dashed', linewidth=2)\n"
      ],
      "execution_count": null,
      "outputs": []
    },
    {
      "cell_type": "code",
      "metadata": {
        "id": "lPeRW8cq7zL0"
      },
      "source": [
        "plt.subplots(figsize=(15, 10))\n",
        "plt.subplot(3,3,1)\n",
        "plt.hist(df_handfilled1['Param2'], density=False, bins=20)\n",
        "plt.ylabel('frequency')\n",
        "plt.xlabel('Param2')\n",
        "plt.axvline(df_handfilled1['Param2'].mean(), color='k', linestyle='dashed', linewidth=1)\n",
        "plt.axvline(np.percentile(df_handfilled1['Param2'], [25])-1.5*(np.percentile(df_handfilled1['Param2'], [75])-np.percentile(df_handfilled1['Param2'], [25])), color='red', linestyle='dashed', linewidth=2)\n",
        "plt.axvline(np.percentile(df_handfilled1['Param2'], [75])+1.5*(np.percentile(df_handfilled1['Param2'], [75])-np.percentile(df_handfilled1['Param2'], [25])), color='red', linestyle='dashed', linewidth=2)\n"
      ],
      "execution_count": null,
      "outputs": []
    },
    {
      "cell_type": "code",
      "metadata": {
        "id": "hXkEqTnl432E"
      },
      "source": [
        "plt.subplots(figsize=(15, 10))\n",
        "plt.subplot(3,3,1)\n",
        "plt.hist(df_handfilled1['Param3'], density=False, bins=20)\n",
        "plt.ylabel('frequency')\n",
        "plt.xlabel('Param3')\n",
        "plt.axvline(df_handfilled1['Param3'].mean(), color='k', linestyle='dashed', linewidth=1)\n",
        "plt.axvline(np.percentile(df_handfilled1['Param3'], [25])-1.5*(np.percentile(df_handfilled1['Param3'], [75])-np.percentile(df_handfilled1['Param3'], [25])), color='red', linestyle='dashed', linewidth=2)\n",
        "plt.axvline(np.percentile(df_handfilled1['Param3'], [75])+1.5*(np.percentile(df_handfilled1['Param3'], [75])-np.percentile(df_handfilled1['Param3'], [25])), color='red', linestyle='dashed', linewidth=2)\n"
      ],
      "execution_count": null,
      "outputs": []
    },
    {
      "cell_type": "code",
      "metadata": {
        "id": "5xBZ-c6vk_if"
      },
      "source": [
        "#A2V9005A\tA2V9004A\tA2V9007A\tA2V9006A\tA2V9015A\tA2V9014A\tA2V9017A\tA2V9016A\tA2V9019A\tA2V9018A\n",
        "#A2V9005A\tA2V9004A\tA2V9007A\tA2V9006A\tA2V9015A\tA2V9014A\tA2V9017A\tA2V9016A\tA2V9019A\tA2V9018A\n",
        "#lebel in each plt.plot is for legends\n",
        "fig = plt.figure(figsize=(12,9))\n",
        "ax = plt.axes()\n",
        "x = np.linspace(0, 300,300)\n",
        "plt.xlabel('minutes')\n",
        "plt.ylabel('vibration in MILS')      # specify color by name\n",
        "plt.plot(x, df_vib_2016['A2V9005A'].head(300),label=\"A2V9005A\", color='blue' )\n",
        "plt.plot(x, df_vib_2016['A2V9004A'].head(300),label=\"A2V9004A\", color='green')           # short color code (rgbcmyk)\n",
        "plt.plot(x, df_vib_2016['A2V9007A'].head(300),label=\"A2V9007A\", color='red')           # short color code (rgbcmyk)\n",
        "plt.plot(x, df_vib_2016['A2V9006A'].head(300),label=\"A2V9006A\", color='cyan')           # short color code (rgbcmyk)\n",
        "plt.plot(x, df_vib_2016['A2V9015A'].head(300),label=\"A2V9015A\", color='magenta')           # short color code (rgbcmyk)\n",
        "plt.plot(x, df_vib_2016['A2V9014A'].head(300),label=\"A2V9014A\", color='yellow')           # short color code (rgbcmyk)\n",
        "plt.plot(x, df_vib_2016['A2V9017A'].head(300),label=\"A2V9017A\", color='black')           # short color code (rgbcmyk)\n",
        "plt.plot(x, df_vib_2016['A2V9016A'].head(300),label=\"A2V9016A\", color='g')           # short color code (rgbcmyk)\n",
        "plt.plot(x, df_vib_2016['A2V9019A'].head(300),label=\"A2V9019A\", color='orange')           # short color code (rgbcmyk)\n",
        "plt.plot(x, df_vib_2016['A2V9018A'].head(300),label=\"A2V9018A\", color='g')           # short color code (rgbcmyk)\n",
        "\n",
        "# twin object for two different y-axis on the sample plot\n",
        "\n",
        "ax2=ax.twinx()\n",
        "# make a plot with different y-axis using second axis object\n",
        "ax2.plot(x, df_vib_2016['A2V9021A'].head(300),color=\"black\")\n",
        "ax2.set_ylabel('speed in rotation per minute')\n",
        "ax.legend(loc='best')\n",
        "plt.show()"
      ],
      "execution_count": null,
      "outputs": []
    },
    {
      "cell_type": "code",
      "metadata": {
        "id": "rjCvrjlmnP09"
      },
      "source": [
        "'RPM','APS','overall','Param1','Param2','Param3','Param4','Param5','Param6'\n",
        "#lebel in each plt.plot is for legends\n",
        "fig = plt.figure(figsize=(12,9))\n",
        "ax = plt.axes()\n",
        "x = np.linspace(0, 844,844)\n",
        "plt.xlabel('time')\n",
        "plt.ylabel('RPM')      # specify color by name\n",
        "plt.plot(x, df_handfilled1['RPM'],label=\"A2V9005A\", color='blue' )\n",
        "#plt.plot(x, df_handfilled1['APS'].head(300),label=\"A2V9004A\", color='green')           # short color code (rgbcmyk)\n",
        "#plt.plot(x, df_handfilled1['overall'].head(300),label=\"A2V9007A\", color='red')           # short color code (rgbcmyk)\n",
        "#plt.plot(x, df_handfilled1['Param1'].head(300),label=\"A2V9006A\", color='cyan')           # short color code (rgbcmyk)\n",
        "#plt.plot(x, df_handfilled1['Param2'].head(300),label=\"A2V9015A\", color='magenta')           # short color code (rgbcmyk)\n",
        "#plt.plot(x, df_handfilled1['Param3'].head(300),label=\"A2V9014A\", color='yellow')           # short color code (rgbcmyk)\n",
        "#plt.plot(x, df_handfilled1['Param4'].head(300),label=\"A2V9017A\", color='black')           # short color code (rgbcmyk)\n",
        "#plt.plot(x, df_handfilled1['Param5'].head(300),label=\"A2V9016A\", color='g')           # short color code (rgbcmyk)\n",
        "#plt.plot(x, df_handfilled1['Param6'].head(300),label=\"A2V9019A\", color='orange')           # short color code (rgbcmyk)\n",
        "plt.show()"
      ],
      "execution_count": null,
      "outputs": []
    },
    {
      "cell_type": "code",
      "metadata": {
        "id": "4PRu8r4bBSk2"
      },
      "source": [
        "df_handfilled.describe()"
      ],
      "execution_count": null,
      "outputs": []
    },
    {
      "cell_type": "code",
      "metadata": {
        "id": "5rwYvPeOn7rT"
      },
      "source": [
        "df_handfilled[df_handfilled['RPM']==48671]"
      ],
      "execution_count": null,
      "outputs": []
    },
    {
      "cell_type": "code",
      "metadata": {
        "id": "6vswr2ZAG8-l"
      },
      "source": [
        "df_handfilled[df_handfilled['APS']==48671]"
      ],
      "execution_count": null,
      "outputs": []
    },
    {
      "cell_type": "code",
      "metadata": {
        "id": "G0OrRu9ZH8gh"
      },
      "source": [
        "df_handfilled1['RPM'].astype(str)\n",
        "df_handfilled1.dtypes"
      ],
      "execution_count": null,
      "outputs": []
    },
    {
      "cell_type": "code",
      "metadata": {
        "id": "NJLXs9aLSOFD",
        "scrolled": true
      },
      "source": [
        "'RPM','APS','overall','Param1','Param2','Param3','Param4','Param5','Param6'\n",
        "#lebel in each plt.plot is for legends\n",
        "fig = plt.figure(figsize=(12,9))\n",
        "ax = plt.axes()\n",
        "x = np.linspace(0, 100,100)\n",
        "plt.xlabel('time')\n",
        "plt.ylabel('In/Sec')      # specify color by name\n",
        "#plt.plot(x, df_handfilled1['RPM'],label=\"A2V9005A\", color='blue' )\n",
        "#plt.plot(x, df_handfilled1['APS'].head(300),label=\"A2V9004A\", color='green')           # short color code (rgbcmyk)\n",
        "plt.plot(x, df_handfilled1['overall'].head(100),label=\"overall\", color='green')           # short color code (rgbcmyk)\n",
        "plt.plot(x, df_handfilled1['Param1'].head(100),label=\"Param1\", color='orange')           # short color code (rgbcmyk)\n",
        "plt.plot(x, df_handfilled1['Param2'].head(100),label=\"Param2\", color='blue')           # short color code (rgbcmyk)\n",
        "plt.plot(x, df_handfilled1['Param3'].head(100),label=\"Param3\", color='black')           # short color code (rgbcmyk)\n",
        "#plt.plot(x, df_handfilled1['Param4'].head(300),label=\"A2V9017A\", color='black')           # short color code (rgbcmyk)\n",
        "#plt.plot(x, df_handfilled1['Param5'].head(300),label=\"A2V9016A\", color='g')           # short color code (rgbcmyk)\n",
        "#plt.plot(x, df_handfilled1['Param6'].head(300),label=\"A2V9019A\", color='orange')           # short color code (rgbcmyk)\n",
        "ax.legend(loc='upper left')\n",
        "plt.show()\n",
        "\n",
        "\n"
      ],
      "execution_count": null,
      "outputs": []
    },
    {
      "cell_type": "code",
      "metadata": {
        "id": "F1iWguzde_kS"
      },
      "source": [
        "# the following neural network to discover if there is any relation between parameters. If there is strong relation then neural\n",
        "# network regression method should be able to predict any parameters with high accuracy\n"
      ],
      "execution_count": null,
      "outputs": []
    },
    {
      "cell_type": "code",
      "metadata": {
        "id": "nHDslEFqYgbQ"
      },
      "source": [
        "df_handfilled_param_modified.columns\n"
      ],
      "execution_count": null,
      "outputs": []
    },
    {
      "cell_type": "code",
      "metadata": {
        "id": "31_hrA5I44Gb"
      },
      "source": [
        "df_handfilled_param_modified_x=df_humanfilled5.iloc[:,1:5]\n",
        "df_handfilled_param_modified_y=df_humanfilled5.iloc[:,5:7]\n",
        "#df_handfilled_param_modified_y\n",
        "df_handfilled_param_modified_x"
      ],
      "execution_count": null,
      "outputs": []
    },
    {
      "cell_type": "code",
      "metadata": {
        "id": "tP9v-Ar0BSk6"
      },
      "source": [
        "from sklearn.model_selection import train_test_split\n",
        "from tensorflow.python.keras.models import Sequential\n",
        "from tensorflow.python.keras.layers import Dense\n",
        "from tensorflow.python.keras.layers import InputLayer\n",
        "X_train1, X_test1, y_train1, y_test1 = train_test_split(df_handfilled_param_modified_x, df_handfilled_param_modified_y, test_size=.3, random_state=45)"
      ],
      "execution_count": null,
      "outputs": []
    },
    {
      "cell_type": "code",
      "metadata": {
        "id": "ublAW7qpIChj"
      },
      "source": [
        "model = Sequential()\n",
        "#model.add(Dense(6, input_dim=6, kernel_initializer=keras.initializers.glorot_uniform(seed=66), activation='relu'))\n",
        "model.add(Dense(20, input_dim=4, kernel_initializer=keras.initializers.glorot_uniform(seed=66), activation='relu'))\n",
        "model.add(Dense(2,kernel_initializer=keras.initializers.glorot_uniform(seed=66), activation='linear'))\n",
        "model.summary()"
      ],
      "execution_count": null,
      "outputs": []
    },
    {
      "cell_type": "code",
      "metadata": {
        "id": "Mepr--67MtUY"
      },
      "source": [
        "model.compile(loss='mse', optimizer='adam', metrics=['mse','mae'])"
      ],
      "execution_count": null,
      "outputs": []
    },
    {
      "cell_type": "code",
      "metadata": {
        "id": "uhSSMhb530vZ"
      },
      "source": [
        ">>> history = model.fit(X_train1, y_train1,epochs=250, batch_size=50, verbose=1,validation_split=0.3, callbacks=EarlyStopping(monitor='val_loss', verbose=0,patience=15))"
      ],
      "execution_count": null,
      "outputs": []
    },
    {
      "cell_type": "code",
      "metadata": {
        "id": "EcozcxgrYodN"
      },
      "source": [
        "print(history.history.keys())\n",
        "# \"Loss\"\n",
        "plt.plot(history.history['loss'])\n",
        "plt.plot(history.history['val_loss'])\n",
        "plt.title('model loss')\n",
        "plt.ylabel('loss')\n",
        "plt.xlabel('epoch')\n",
        "plt.legend(['train', 'validation'], loc='upper left')\n",
        "plt.show()"
      ],
      "execution_count": null,
      "outputs": []
    },
    {
      "cell_type": "code",
      "metadata": {
        "id": "W9fp6qeWXbyH"
      },
      "source": [
        "ynew1= model.predict(X_test1)\n",
        "#ynew1"
      ],
      "execution_count": null,
      "outputs": []
    },
    {
      "cell_type": "code",
      "metadata": {
        "id": "if_mk8gjXb1w"
      },
      "source": [
        "y_test1.to_numpy()"
      ],
      "execution_count": null,
      "outputs": []
    },
    {
      "cell_type": "code",
      "metadata": {
        "id": "8rRLl_4zXcC8"
      },
      "source": [
        "ytest1=y_test1.to_numpy()\n",
        "ytest1"
      ],
      "execution_count": null,
      "outputs": []
    },
    {
      "cell_type": "code",
      "metadata": {
        "id": "muSHoZgOn_3c"
      },
      "source": [
        "np.mean(abs((ytest1[:,1].reshape(254,1)- ynew1[:,1].reshape(254,1))/ytest1[:,1].reshape(254,1)))*100"
      ],
      "execution_count": null,
      "outputs": []
    },
    {
      "cell_type": "code",
      "metadata": {
        "id": "ViY1IMKEYTuQ"
      },
      "source": [
        "Error = np.sum(np.abs(np.subtract(ytest1[:,1],ynew1[:,1])))\n",
        "Average = np.sum(ytest1[:,1])\n",
        "MAPE = Error/Average\n",
        "MAPE"
      ],
      "execution_count": null,
      "outputs": []
    },
    {
      "cell_type": "code",
      "metadata": {
        "id": "PrF844omasA2"
      },
      "source": [],
      "execution_count": null,
      "outputs": []
    },
    {
      "cell_type": "code",
      "metadata": {
        "id": "NxmM9OMerF-R"
      },
      "source": [
        "df_handfilled4\n",
        "df_handfilled4[df_handfilled4['RPM']==48671]"
      ],
      "execution_count": null,
      "outputs": []
    },
    {
      "cell_type": "code",
      "metadata": {
        "id": "GVkX-1UqvMA2"
      },
      "source": [
        "df_handfilled[df_handfilled['RPM']==48671]"
      ],
      "execution_count": null,
      "outputs": []
    },
    {
      "cell_type": "code",
      "metadata": {
        "id": "XvdGorwVrGDP"
      },
      "source": [
        "df_vib_2016_1.describe()"
      ],
      "execution_count": null,
      "outputs": []
    },
    {
      "cell_type": "code",
      "metadata": {
        "id": "W9AOU3WhrGGK"
      },
      "source": [
        "df_handfilled3.columns.unique()"
      ],
      "execution_count": null,
      "outputs": []
    },
    {
      "cell_type": "code",
      "metadata": {
        "id": "WBsIYXT2rGI4"
      },
      "source": [
        "df_handfilled3.dtypes\n",
        "Position_str=str(df_handfilled3.Position)\n",
        "Position_str"
      ],
      "execution_count": null,
      "outputs": []
    },
    {
      "cell_type": "code",
      "metadata": {
        "id": "p3_SWxxasuq8"
      },
      "source": [
        "df_handfilled3.Position.value_counts()\n",
        "#df_handfilled3[(df_handfilled3['Position'] == 2-PMP-3-70-2H)]\n",
        "df_handfilledspe=df_handfilled3.loc[df_handfilled3['Position']==2-PMP-3-70-2H]\n",
        "df_handfilledspe\n"
      ],
      "execution_count": null,
      "outputs": []
    },
    {
      "cell_type": "code",
      "metadata": {
        "id": "LVW2CDfFeKos"
      },
      "source": [
        "df[(df['USER'].str.contains('\\'STATUS\\': u\\'ACTV\\'')) ]"
      ],
      "execution_count": null,
      "outputs": []
    },
    {
      "cell_type": "code",
      "metadata": {
        "id": "rvDVZggbrGK_"
      },
      "source": [
        "# compare between two measurement points\n",
        "#2-PMP-3-70-2H"
      ],
      "execution_count": null,
      "outputs": []
    },
    {
      "cell_type": "code",
      "metadata": {
        "id": "M1GgKs6grGNl"
      },
      "source": [
        "df_humanfilled_time=df_handfilled3.sort_values([\"Date and Time\"], axis=0,\n",
        "                 ascending=True, inplace=True)"
      ],
      "execution_count": null,
      "outputs": []
    },
    {
      "cell_type": "code",
      "metadata": {
        "id": "Xw4SZxsaDDAq"
      },
      "source": [
        "df_handfilled3\n",
        "from google.colab import files\n",
        "df_handfilled3.to_csv('df_handfilled3.csv')\n",
        "files.download('df_handfilled3.csv')"
      ],
      "execution_count": null,
      "outputs": []
    },
    {
      "cell_type": "code",
      "metadata": {
        "id": "WQbTPwO0DuUm"
      },
      "source": [
        "df_handfilled_one = pd.read_excel('df_handfilled_onemp.xlsx')\n",
        "df_handfilled_one.columns"
      ],
      "execution_count": null,
      "outputs": []
    },
    {
      "cell_type": "code",
      "metadata": {
        "id": "yl3GS-4uD-H_"
      },
      "source": [
        "#index', 'position', 'RPM', 'overall', 'para1', 'para2', 'para3', 'para4', 'para5', 'para6'\n",
        "#lebel in each plt.plot is for legends\n",
        "fig = plt.figure(figsize=(12,9))\n",
        "ax = plt.axes()\n",
        "x = np.linspace(0, 75,75)\n",
        "plt.xlabel('time')\n",
        "plt.ylabel('In/Sec')      # specify color by name\n",
        "#plt.plot(x, df_handfilled_one['RPM'],label=\"A2V9005A\", color='blue' )\n",
        "#plt.plot(x, df_handfilled_one['APS'].head(300),label=\"A2V9004A\", color='green')           # short color code (rgbcmyk)\n",
        "plt.plot(x, df_handfilled_one['overall'],label=\"overall\", color='green')           # short color code (rgbcmyk)\n",
        "plt.plot(x, df_handfilled_one['para1'],label=\"Param1\", color='orange')           # short color code (rgbcmyk)\n",
        "plt.plot(x, df_handfilled_one['para2'],label=\"Param2\", color='blue')           # short color code (rgbcmyk)\n",
        "plt.plot(x, df_handfilled_one['para3'],label=\"Param3\", color='black')           # short color code (rgbcmyk)\n",
        "plt.plot(x, df_handfilled_one['para4'],label=\"A2V9017A\", color='black')           # short color code (rgbcmyk)\n",
        "plt.plot(x, df_handfilled_one['para5'],label=\"A2V9016A\", color='g')           # short color code (rgbcmyk)\n",
        "plt.plot(x, df_handfilled_one['para6'],label=\"A2V9019A\", color='orange')           # short color code (rgbcmyk)\n",
        "ax.legend(loc='upper left')\n",
        "\n",
        "plt.show()"
      ],
      "execution_count": null,
      "outputs": []
    },
    {
      "cell_type": "code",
      "metadata": {
        "id": "UF7JZ453EFM-"
      },
      "source": [
        "fig = plt.figure(figsize=(12,9))\n",
        "ax = plt.axes()\n",
        "x = np.linspace(0, 75,75)\n",
        "plt.xlabel('minutes')\n",
        "plt.ylabel('vibration in MILS')      # specify color by name\n",
        "plt.plot(x, df_vib_2016['A2V9005A'].head(75),label=\"A2V9005A\", color='blue' )\n",
        "plt.plot(x, df_vib_2016['A2V9004A'].head(75),label=\"A2V9004A\", color='green')           # short color code (rgbcmyk)\n",
        "plt.plot(x, df_vib_2016['A2V9007A'].head(75),label=\"A2V9007A\", color='red')           # short color code (rgbcmyk)\n",
        "plt.plot(x, df_vib_2016['A2V9006A'].head(75),label=\"A2V9006A\", color='cyan')           # short color code (rgbcmyk)\n",
        "plt.plot(x, df_vib_2016['A2V9015A'].head(75),label=\"A2V9015A\", color='magenta')           # short color code (rgbcmyk)\n",
        "plt.plot(x, df_vib_2016['A2V9014A'].head(75),label=\"A2V9014A\", color='yellow')           # short color code (rgbcmyk)\n",
        "plt.plot(x, df_vib_2016['A2V9017A'].head(75),label=\"A2V9017A\", color='black')           # short color code (rgbcmyk)\n",
        "plt.plot(x, df_vib_2016['A2V9016A'].head(75),label=\"A2V9016A\", color='g')           # short color code (rgbcmyk)\n",
        "plt.plot(x, df_vib_2016['A2V9019A'].head(75),label=\"A2V9019A\", color='orange')           # short color code (rgbcmyk)\n",
        "plt.plot(x, df_vib_2016['A2V9018A'].head(75),label=\"A2V9018A\", color='g')           # short color code (rgbcmyk)\n",
        "plt.plot(x, df_handfilled_one['overall'],label=\"overall\", color='black')           # short color code (rgbcmyk)\n",
        "#plt.plot(x, df_handfilled_one['para1'],label=\"Param1\", color='orange')           # short color code (rgbcmyk)\n",
        "#plt.plot(x, df_handfilled_one['para2'],label=\"Param2\", color='blue')           # short color code (rgbcmyk)\n",
        "#plt.plot(x, df_handfilled_one['para3'],label=\"Param3\", color='black')           # short color code (rgbcmyk)\n",
        "#plt.plot(x, df_handfilled_one['para4'],label=\"A2V9017A\", color='black')           # short color code (rgbcmyk)\n",
        "#plt.plot(x, df_handfilled_one['para5'],label=\"A2V9016A\", color='g')           # short color code (rgbcmyk)\n",
        "#plt.plot(x, df_handfilled_one['para6'],label=\"A2V9019A\", color='orange')\n",
        "# twin object for two different y-axis on the sample plot\n",
        "\n",
        "#ax2=ax.twinx()\n",
        "# make a plot with different y-axis using second axis object\n",
        "#ax2.plot(x, df_vib_2016['A2V9021A'].head(75),color=\"black\")\n",
        "#ax2.set_ylabel('speed in rotation per minute')\n",
        "ax.legend(loc='best')\n",
        "plt.show()"
      ],
      "execution_count": null,
      "outputs": []
    },
    {
      "cell_type": "code",
      "metadata": {
        "id": "UQJKd4KpENFt"
      },
      "source": [
        "df_humanfilled5\n"
      ],
      "execution_count": null,
      "outputs": []
    },
    {
      "cell_type": "code",
      "metadata": {
        "id": "aUrlSjq6EYF2"
      },
      "source": [
        "df_humanfilled5\n",
        "from google.colab import files\n",
        "\n",
        "df_humanfilled5.to_csv('df_humanfilled5.csv')\n",
        "files.download('df_handfilled5.csv')"
      ],
      "execution_count": null,
      "outputs": []
    },
    {
      "cell_type": "code",
      "metadata": {
        "id": "_XE8foA-Jrpg"
      },
      "source": [
        "df_handfilled_test = pd.read_csv('df_handfilled5.csv')\n",
        "df_handfilled_test.corr()\n",
        "df_handfilled_param_modified.corr()"
      ],
      "execution_count": null,
      "outputs": []
    },
    {
      "cell_type": "code",
      "metadata": {
        "id": "CKpah8GIUjuJ"
      },
      "source": [
        "df_vib_2016[['A2V9005A', 'A2V9004A', 'A2V9007A', 'A2V9006A',\n",
        "       'A2V9015A', 'A2V9014A', 'A2V9017A', 'A2V9016A', 'A2V9021A', 'A2V9019A',\n",
        "       'A2V9018A']].corr()"
      ],
      "execution_count": null,
      "outputs": []
    },
    {
      "cell_type": "code",
      "metadata": {
        "id": "0-3rPwUkZMeP"
      },
      "source": [
        "reg = LinearRegression().fit(X_train1, y_train1)\n",
        ">>> reg.score(X_train1, y_train1)\n",
        "ynew11=reg.predict(X_test1)"
      ],
      "execution_count": null,
      "outputs": []
    },
    {
      "cell_type": "code",
      "metadata": {
        "id": "Blw5KmKWauqE"
      },
      "source": [
        "Error1 = np.sum(np.abs(np.subtract(ytest1[:,1],ynew11[:,1])))\n",
        "Average1 = np.sum(ytest1[:,1])\n",
        "MAPE1 = Error1/Average1\n",
        "MAPE1"
      ],
      "execution_count": null,
      "outputs": []
    },
    {
      "cell_type": "code",
      "metadata": {
        "id": "q39hk0GRbbP1",
        "colab": {
          "base_uri": "https://localhost:8080/"
        },
        "outputId": "c6529b00-57f7-42d9-8ee1-e8442972973e"
      },
      "source": [
        "#Error2 = np.sum(np.abs(np.subtract(ytest1[:,0],ynew11[:,0])))\n",
        "#Average2 = np.sum(ytest1[:,0])\n",
        "#MAPE2 = Error2/Average2\n",
        "#MAPE2\n",
        "df_vib_2016_1.columns"
      ],
      "execution_count": null,
      "outputs": [
        {
          "output_type": "execute_result",
          "data": {
            "text/plain": [
              "Index(['Dates', 'Time', 'A2V9005A', 'A2V9004A', 'A2V9007A', 'A2V9006A',\n",
              "       'A2V9015A', 'A2V9014A', 'A2V9017A', 'A2V9016A', 'A2V9021A', 'A2V9019A',\n",
              "       'A2V9018A'],\n",
              "      dtype='object')"
            ]
          },
          "metadata": {
            "tags": []
          },
          "execution_count": 93
        }
      ]
    },
    {
      "cell_type": "code",
      "metadata": {
        "colab": {
          "base_uri": "https://localhost:8080/"
        },
        "id": "TacMoJTJwg3m",
        "outputId": "ea4117cd-9455-4ac6-ea41-a45eee33c3d8"
      },
      "source": [
        "model = OneClassSVM(kernel = 'rbf', gamma = 0.001, nu = 0.03).fit(df_vib_2016_1[['A2V9005A', 'A2V9004A', 'A2V9007A', 'A2V9006A',\n",
        "       'A2V9015A', 'A2V9014A', 'A2V9017A', 'A2V9016A', 'A2V9021A', 'A2V9019A',\n",
        "       'A2V9018A']])\n",
        "y1_pred = model.predict(df_vib_2016_1[['A2V9005A', 'A2V9004A', 'A2V9007A', 'A2V9006A',\n",
        "       'A2V9015A', 'A2V9014A', 'A2V9017A', 'A2V9016A', 'A2V9021A', 'A2V9019A',\n",
        "       'A2V9018A']])\n",
        "y1_pred"
      ],
      "execution_count": null,
      "outputs": [
        {
          "output_type": "execute_result",
          "data": {
            "text/plain": [
              "array([ 1,  1, -1,  1,  1,  1,  1,  1,  1,  1,  1,  1,  1,  1,  1,  1,  1,\n",
              "       -1,  1,  1,  1,  1,  1,  1,  1,  1,  1,  1,  1,  1,  1,  1,  1,  1,\n",
              "        1,  1,  1,  1,  1,  1,  1,  1,  1,  1,  1,  1,  1,  1,  1,  1,  1,\n",
              "        1,  1,  1,  1,  1,  1,  1,  1,  1,  1,  1,  1,  1,  1, -1,  1,  1,\n",
              "        1, -1,  1, -1,  1,  1, -1,  1,  1,  1,  1, -1,  1,  1,  1,  1,  1,\n",
              "        1,  1,  1,  1,  1,  1,  1,  1,  1,  1,  1,  1,  1,  1,  1,  1,  1,\n",
              "        1,  1,  1,  1,  1,  1,  1,  1,  1,  1,  1,  1,  1,  1,  1,  1,  1,\n",
              "        1,  1,  1,  1,  1,  1,  1,  1,  1,  1,  1,  1,  1,  1,  1, -1,  1,\n",
              "        1,  1, -1,  1,  1,  1,  1,  1,  1,  1,  1,  1,  1,  1,  1,  1,  1,\n",
              "        1,  1,  1,  1,  1,  1,  1,  1, -1,  1,  1,  1,  1,  1, -1,  1,  1,\n",
              "        1,  1,  1,  1,  1, -1,  1,  1,  1,  1, -1,  1,  1,  1,  1,  1,  1,\n",
              "        1,  1,  1,  1,  1,  1,  1,  1,  1,  1,  1,  1,  1,  1,  1,  1,  1,\n",
              "        1,  1,  1,  1,  1,  1,  1,  1,  1,  1,  1, -1,  1,  1,  1,  1,  1,\n",
              "       -1,  1,  1,  1,  1,  1,  1,  1,  1,  1,  1,  1,  1,  1,  1, -1,  1,\n",
              "        1,  1,  1,  1,  1,  1,  1,  1,  1,  1, -1,  1,  1,  1,  1,  1,  1,\n",
              "        1,  1,  1,  1, -1, -1,  1,  1,  1,  1,  1,  1,  1,  1,  1,  1,  1,\n",
              "       -1,  1,  1,  1,  1,  1,  1,  1,  1,  1, -1,  1,  1,  1,  1,  1,  1,\n",
              "        1,  1,  1, -1,  1,  1,  1,  1,  1,  1, -1,  1,  1,  1,  1,  1,  1,\n",
              "       -1,  1,  1,  1,  1,  1,  1,  1,  1,  1,  1,  1, -1,  1,  1,  1,  1,\n",
              "        1,  1,  1,  1,  1,  1,  1,  1,  1,  1,  1,  1,  1,  1,  1,  1,  1,\n",
              "       -1,  1,  1,  1,  1,  1,  1,  1,  1,  1,  1,  1,  1,  1, -1,  1,  1,\n",
              "        1,  1,  1,  1,  1,  1,  1,  1,  1,  1,  1,  1,  1,  1,  1,  1,  1,\n",
              "        1,  1,  1,  1,  1, -1,  1,  1, -1,  1,  1,  1,  1,  1,  1,  1,  1,\n",
              "        1,  1,  1,  1,  1, -1, -1,  1,  1,  1,  1,  1,  1,  1, -1,  1,  1,\n",
              "       -1,  1,  1,  1,  1,  1,  1,  1,  1, -1,  1,  1,  1,  1,  1,  1,  1,\n",
              "        1,  1,  1, -1,  1,  1,  1,  1,  1,  1,  1,  1,  1,  1,  1,  1,  1,\n",
              "        1,  1,  1,  1,  1,  1,  1, -1,  1,  1,  1,  1,  1,  1,  1,  1, -1,\n",
              "        1,  1,  1,  1,  1,  1,  1,  1,  1,  1,  1,  1,  1,  1,  1,  1,  1,\n",
              "        1,  1,  1,  1,  1,  1,  1,  1,  1,  1,  1,  1,  1,  1,  1,  1, -1,\n",
              "        1,  1,  1, -1,  1,  1,  1,  1,  1,  1,  1,  1,  1,  1,  1,  1,  1,\n",
              "        1,  1,  1,  1,  1,  1,  1,  1,  1,  1, -1,  1,  1,  1,  1,  1,  1,\n",
              "        1,  1,  1,  1,  1, -1,  1,  1,  1,  1,  1,  1,  1,  1,  1,  1,  1,\n",
              "        1,  1,  1,  1,  1,  1,  1,  1,  1,  1, -1,  1,  1,  1,  1,  1,  1,\n",
              "        1,  1,  1,  1,  1,  1,  1,  1, -1,  1,  1,  1, -1,  1,  1,  1,  1,\n",
              "        1,  1,  1,  1,  1,  1,  1,  1,  1,  1,  1,  1,  1,  1,  1,  1,  1,\n",
              "       -1, -1, -1,  1,  1,  1, -1,  1,  1,  1,  1,  1,  1,  1,  1,  1,  1,\n",
              "        1,  1,  1,  1,  1,  1,  1,  1,  1,  1,  1,  1,  1,  1,  1,  1,  1,\n",
              "        1,  1,  1,  1,  1,  1, -1,  1,  1,  1,  1,  1,  1,  1,  1,  1,  1,\n",
              "        1,  1,  1,  1,  1,  1,  1, -1,  1,  1,  1,  1, -1,  1,  1,  1,  1,\n",
              "        1,  1,  1,  1, -1,  1,  1,  1,  1,  1,  1,  1,  1,  1,  1,  1,  1,\n",
              "       -1,  1,  1,  1,  1,  1,  1,  1,  1, -1,  1,  1,  1,  1, -1,  1,  1,\n",
              "        1,  1,  1,  1,  1,  1,  1,  1,  1,  1,  1,  1,  1,  1,  1,  1,  1,\n",
              "        1,  1,  1,  1,  1,  1,  1,  1,  1,  1,  1,  1,  1, -1,  1,  1,  1,\n",
              "        1,  1,  1,  1,  1,  1,  1,  1,  1,  1,  1,  1,  1,  1,  1,  1,  1,\n",
              "        1,  1,  1,  1,  1,  1,  1,  1,  1,  1,  1,  1,  1,  1,  1,  1,  1,\n",
              "        1,  1,  1,  1,  1,  1,  1,  1,  1,  1,  1,  1,  1,  1,  1,  1,  1,\n",
              "        1,  1,  1,  1,  1,  1,  1,  1,  1,  1,  1,  1,  1,  1,  1, -1,  1,\n",
              "        1,  1,  1,  1, -1,  1,  1,  1,  1,  1,  1,  1,  1,  1,  1,  1,  1,\n",
              "        1,  1,  1,  1,  1,  1,  1,  1,  1,  1,  1,  1,  1,  1,  1,  1, -1,\n",
              "        1,  1,  1,  1,  1,  1,  1,  1,  1, -1,  1,  1,  1,  1,  1,  1,  1,\n",
              "        1,  1,  1,  1,  1,  1,  1,  1,  1,  1,  1,  1,  1,  1,  1,  1,  1,\n",
              "        1,  1,  1,  1,  1,  1,  1,  1,  1,  1,  1,  1,  1,  1,  1,  1,  1,\n",
              "        1,  1,  1,  1,  1,  1,  1,  1,  1,  1,  1,  1,  1,  1,  1,  1,  1,\n",
              "        1,  1,  1,  1,  1,  1,  1, -1,  1,  1,  1,  1, -1,  1,  1,  1,  1,\n",
              "        1,  1,  1,  1,  1,  1,  1,  1,  1, -1,  1,  1,  1,  1,  1,  1,  1,\n",
              "        1,  1,  1,  1,  1,  1,  1,  1,  1,  1,  1, -1,  1,  1,  1,  1,  1,\n",
              "        1,  1,  1,  1,  1,  1,  1,  1,  1,  1, -1,  1,  1,  1,  1,  1,  1,\n",
              "        1,  1,  1,  1,  1,  1,  1,  1,  1,  1,  1,  1,  1,  1,  1,  1,  1,\n",
              "        1,  1,  1,  1,  1,  1,  1,  1,  1,  1,  1, -1,  1,  1,  1,  1,  1,\n",
              "        1,  1,  1,  1, -1,  1,  1,  1,  1,  1,  1,  1,  1,  1,  1,  1,  1,\n",
              "        1,  1,  1,  1,  1,  1,  1,  1,  1,  1, -1,  1,  1,  1,  1,  1,  1,\n",
              "        1,  1,  1,  1,  1,  1,  1,  1,  1,  1,  1,  1,  1,  1,  1,  1,  1,\n",
              "        1,  1, -1,  1,  1,  1,  1,  1,  1,  1,  1,  1,  1,  1,  1,  1,  1,\n",
              "        1,  1,  1,  1,  1,  1,  1,  1,  1,  1,  1,  1,  1,  1,  1,  1,  1,\n",
              "        1, -1,  1,  1, -1,  1,  1,  1,  1,  1,  1,  1,  1,  1,  1,  1,  1,\n",
              "        1,  1,  1,  1, -1,  1,  1,  1,  1,  1,  1,  1,  1,  1,  1,  1,  1,\n",
              "        1, -1,  1,  1,  1,  1,  1,  1,  1,  1,  1,  1,  1,  1,  1,  1,  1,\n",
              "       -1,  1,  1,  1,  1,  1, -1,  1,  1,  1,  1,  1,  1,  1,  1,  1,  1,\n",
              "        1,  1,  1,  1,  1,  1,  1,  1,  1,  1,  1,  1, -1,  1,  1,  1,  1,\n",
              "        1,  1,  1,  1, -1,  1,  1,  1,  1, -1,  1,  1,  1,  1,  1,  1,  1,\n",
              "        1,  1, -1,  1,  1,  1,  1,  1,  1,  1,  1,  1,  1,  1,  1,  1,  1,\n",
              "        1,  1,  1,  1, -1,  1, -1,  1, -1,  1, -1,  1,  1,  1,  1,  1,  1,\n",
              "        1,  1,  1,  1,  1,  1,  1,  1,  1,  1,  1,  1,  1,  1,  1,  1,  1,\n",
              "        1,  1,  1,  1, -1,  1,  1,  1,  1,  1,  1,  1,  1,  1,  1,  1,  1,\n",
              "        1,  1,  1,  1, -1,  1,  1,  1,  1,  1,  1,  1,  1,  1,  1,  1,  1,\n",
              "        1,  1,  1,  1,  1,  1,  1,  1,  1,  1,  1,  1,  1,  1,  1,  1,  1,\n",
              "        1,  1,  1,  1,  1,  1,  1,  1,  1,  1,  1,  1,  1,  1,  1,  1,  1,\n",
              "        1,  1,  1, -1,  1,  1,  1,  1,  1,  1,  1,  1,  1,  1,  1,  1,  1,\n",
              "        1,  1,  1,  1,  1,  1,  1,  1,  1,  1,  1,  1,  1,  1,  1,  1,  1,\n",
              "        1,  1,  1,  1,  1,  1,  1,  1,  1,  1,  1, -1,  1,  1,  1,  1,  1,\n",
              "        1,  1, -1, -1,  1,  1,  1,  1,  1,  1,  1, -1,  1,  1,  1,  1,  1,\n",
              "        1,  1,  1,  1,  1,  1, -1,  1,  1,  1,  1,  1,  1,  1,  1,  1,  1,\n",
              "        1,  1,  1,  1,  1,  1,  1,  1, -1,  1,  1,  1, -1,  1,  1, -1,  1,\n",
              "        1,  1, -1,  1,  1,  1,  1,  1,  1,  1,  1,  1,  1,  1,  1,  1, -1,\n",
              "        1,  1,  1,  1,  1,  1,  1,  1,  1,  1,  1,  1,  1,  1,  1,  1,  1,\n",
              "        1,  1,  1,  1,  1,  1,  1,  1,  1,  1,  1,  1,  1,  1,  1,  1, -1,\n",
              "        1,  1,  1,  1,  1,  1,  1,  1,  1,  1, -1,  1,  1, -1, -1,  1,  1,\n",
              "        1,  1,  1,  1,  1,  1,  1,  1,  1,  1,  1,  1,  1,  1,  1,  1, -1,\n",
              "        1,  1, -1,  1,  1, -1,  1,  1,  1,  1,  1, -1, -1, -1,  1, -1,  1,\n",
              "        1,  1,  1, -1,  1,  1,  1,  1,  1,  1,  1,  1,  1, -1,  1,  1,  1,\n",
              "        1,  1,  1,  1,  1,  1,  1,  1,  1,  1,  1,  1,  1,  1,  1,  1,  1,\n",
              "        1,  1,  1,  1,  1,  1,  1,  1,  1,  1,  1,  1, -1,  1,  1,  1,  1,\n",
              "        1,  1,  1,  1,  1, -1,  1,  1, -1,  1,  1,  1,  1,  1,  1,  1,  1,\n",
              "        1,  1,  1,  1,  1,  1,  1,  1, -1,  1,  1,  1,  1,  1,  1,  1,  1,\n",
              "        1,  1,  1,  1,  1,  1,  1,  1,  1,  1,  1,  1,  1,  1,  1,  1,  1,\n",
              "        1,  1,  1,  1,  1,  1,  1,  1,  1,  1,  1,  1,  1,  1,  1,  1,  1,\n",
              "        1,  1,  1,  1,  1,  1,  1,  1,  1,  1, -1,  1,  1,  1,  1,  1,  1,\n",
              "        1,  1,  1,  1,  1,  1,  1,  1,  1,  1,  1, -1,  1,  1,  1,  1,  1,\n",
              "        1,  1,  1,  1,  1,  1,  1,  1,  1,  1,  1,  1,  1,  1,  1,  1,  1,\n",
              "        1,  1,  1,  1,  1,  1,  1,  1,  1,  1,  1,  1,  1,  1,  1,  1,  1,\n",
              "        1,  1, -1,  1,  1,  1,  1,  1,  1,  1,  1,  1, -1,  1, -1,  1,  1,\n",
              "        1,  1,  1,  1, -1,  1,  1,  1,  1,  1,  1,  1, -1,  1,  1,  1,  1,\n",
              "        1,  1,  1,  1,  1,  1, -1, -1,  1,  1,  1,  1,  1,  1,  1,  1,  1,\n",
              "        1, -1,  1,  1,  1,  1,  1, -1,  1,  1,  1,  1,  1,  1,  1,  1,  1,\n",
              "        1,  1,  1,  1,  1,  1,  1,  1,  1,  1,  1,  1,  1,  1,  1,  1,  1,\n",
              "        1,  1,  1,  1,  1,  1,  1,  1,  1,  1,  1,  1,  1,  1,  1,  1,  1,\n",
              "        1,  1,  1,  1,  1,  1, -1,  1,  1,  1,  1,  1,  1,  1, -1,  1,  1,\n",
              "        1,  1,  1,  1,  1,  1,  1,  1, -1,  1,  1,  1, -1,  1,  1,  1,  1,\n",
              "        1,  1,  1, -1, -1,  1,  1,  1,  1,  1,  1,  1,  1,  1,  1,  1,  1,\n",
              "        1,  1,  1,  1,  1,  1,  1,  1, -1,  1,  1,  1,  1,  1,  1,  1,  1,\n",
              "        1,  1, -1,  1,  1,  1,  1,  1,  1,  1, -1,  1,  1,  1,  1,  1,  1,\n",
              "        1,  1,  1,  1,  1,  1,  1,  1, -1, -1,  1,  1,  1,  1,  1,  1,  1,\n",
              "        1,  1,  1, -1,  1,  1,  1,  1,  1,  1,  1,  1,  1,  1,  1,  1,  1,\n",
              "       -1,  1,  1,  1, -1,  1,  1,  1,  1,  1,  1,  1,  1,  1,  1,  1,  1,\n",
              "        1,  1,  1,  1,  1,  1,  1, -1,  1,  1,  1,  1,  1,  1,  1,  1,  1,\n",
              "        1,  1,  1,  1,  1,  1,  1,  1,  1,  1,  1,  1,  1,  1,  1,  1,  1,\n",
              "        1,  1,  1,  1,  1,  1,  1,  1,  1,  1,  1,  1,  1,  1, -1,  1,  1,\n",
              "       -1,  1,  1,  1,  1,  1, -1,  1,  1, -1,  1,  1,  1, -1,  1,  1,  1,\n",
              "        1,  1,  1,  1,  1,  1,  1,  1,  1,  1, -1,  1,  1,  1, -1,  1,  1,\n",
              "        1,  1,  1,  1,  1,  1])"
            ]
          },
          "metadata": {
            "tags": []
          },
          "execution_count": 97
        }
      ]
    },
    {
      "cell_type": "code",
      "metadata": {
        "colab": {
          "base_uri": "https://localhost:8080/",
          "height": 419
        },
        "id": "iA3NU_oqwg98",
        "outputId": "7162a2aa-b74e-4718-b400-a31cb4a395ef"
      },
      "source": [
        "# filter outlier index\n",
        "outlier_index1 = where(y1_pred == -1)\n",
        "# filter outlier values\n",
        "outlier_values1 = df_vib_2016_1.iloc[outlier_index1]\n",
        "outlier_values1\n",
        "outlier_values1\n"
      ],
      "execution_count": null,
      "outputs": [
        {
          "output_type": "execute_result",
          "data": {
            "text/html": [
              "<div>\n",
              "<style scoped>\n",
              "    .dataframe tbody tr th:only-of-type {\n",
              "        vertical-align: middle;\n",
              "    }\n",
              "\n",
              "    .dataframe tbody tr th {\n",
              "        vertical-align: top;\n",
              "    }\n",
              "\n",
              "    .dataframe thead th {\n",
              "        text-align: right;\n",
              "    }\n",
              "</style>\n",
              "<table border=\"1\" class=\"dataframe\">\n",
              "  <thead>\n",
              "    <tr style=\"text-align: right;\">\n",
              "      <th></th>\n",
              "      <th>Dates</th>\n",
              "      <th>Time</th>\n",
              "      <th>A2V9005A</th>\n",
              "      <th>A2V9004A</th>\n",
              "      <th>A2V9007A</th>\n",
              "      <th>A2V9006A</th>\n",
              "      <th>A2V9015A</th>\n",
              "      <th>A2V9014A</th>\n",
              "      <th>A2V9017A</th>\n",
              "      <th>A2V9016A</th>\n",
              "      <th>A2V9021A</th>\n",
              "      <th>A2V9019A</th>\n",
              "      <th>A2V9018A</th>\n",
              "    </tr>\n",
              "  </thead>\n",
              "  <tbody>\n",
              "    <tr>\n",
              "      <th>57594</th>\n",
              "      <td>2016-02-09</td>\n",
              "      <td>23:54:00</td>\n",
              "      <td>0.3</td>\n",
              "      <td>0.4</td>\n",
              "      <td>0.3</td>\n",
              "      <td>0.2</td>\n",
              "      <td>0.3</td>\n",
              "      <td>0.2</td>\n",
              "      <td>0.7</td>\n",
              "      <td>0.4</td>\n",
              "      <td>101.4</td>\n",
              "      <td>2.2</td>\n",
              "      <td>2.3</td>\n",
              "    </tr>\n",
              "    <tr>\n",
              "      <th>73082</th>\n",
              "      <td>2016-02-20</td>\n",
              "      <td>18:02:00</td>\n",
              "      <td>0.7</td>\n",
              "      <td>0.8</td>\n",
              "      <td>0.5</td>\n",
              "      <td>0.5</td>\n",
              "      <td>0.4</td>\n",
              "      <td>0.3</td>\n",
              "      <td>1.3</td>\n",
              "      <td>1.4</td>\n",
              "      <td>3813.2</td>\n",
              "      <td>-18.2</td>\n",
              "      <td>-18.1</td>\n",
              "    </tr>\n",
              "    <tr>\n",
              "      <th>73887</th>\n",
              "      <td>2016-02-21</td>\n",
              "      <td>07:27:00</td>\n",
              "      <td>0.7</td>\n",
              "      <td>0.8</td>\n",
              "      <td>0.4</td>\n",
              "      <td>0.5</td>\n",
              "      <td>0.4</td>\n",
              "      <td>0.4</td>\n",
              "      <td>1.3</td>\n",
              "      <td>1.3</td>\n",
              "      <td>3568.1</td>\n",
              "      <td>-18.6</td>\n",
              "      <td>-18.5</td>\n",
              "    </tr>\n",
              "    <tr>\n",
              "      <th>74168</th>\n",
              "      <td>2016-02-21</td>\n",
              "      <td>12:08:00</td>\n",
              "      <td>0.6</td>\n",
              "      <td>0.6</td>\n",
              "      <td>0.4</td>\n",
              "      <td>0.4</td>\n",
              "      <td>0.3</td>\n",
              "      <td>0.3</td>\n",
              "      <td>1.0</td>\n",
              "      <td>1.1</td>\n",
              "      <td>2831.6</td>\n",
              "      <td>-22.9</td>\n",
              "      <td>-22.9</td>\n",
              "    </tr>\n",
              "    <tr>\n",
              "      <th>74243</th>\n",
              "      <td>2016-02-21</td>\n",
              "      <td>13:23:00</td>\n",
              "      <td>1.1</td>\n",
              "      <td>0.8</td>\n",
              "      <td>0.5</td>\n",
              "      <td>0.8</td>\n",
              "      <td>0.6</td>\n",
              "      <td>0.5</td>\n",
              "      <td>2.0</td>\n",
              "      <td>2.1</td>\n",
              "      <td>2198.1</td>\n",
              "      <td>-6.9</td>\n",
              "      <td>-7.9</td>\n",
              "    </tr>\n",
              "    <tr>\n",
              "      <th>...</th>\n",
              "      <td>...</td>\n",
              "      <td>...</td>\n",
              "      <td>...</td>\n",
              "      <td>...</td>\n",
              "      <td>...</td>\n",
              "      <td>...</td>\n",
              "      <td>...</td>\n",
              "      <td>...</td>\n",
              "      <td>...</td>\n",
              "      <td>...</td>\n",
              "      <td>...</td>\n",
              "      <td>...</td>\n",
              "      <td>...</td>\n",
              "    </tr>\n",
              "    <tr>\n",
              "      <th>199625</th>\n",
              "      <td>2016-05-18</td>\n",
              "      <td>15:05:00</td>\n",
              "      <td>0.7</td>\n",
              "      <td>0.7</td>\n",
              "      <td>0.4</td>\n",
              "      <td>0.5</td>\n",
              "      <td>0.4</td>\n",
              "      <td>0.3</td>\n",
              "      <td>1.2</td>\n",
              "      <td>1.3</td>\n",
              "      <td>3527.3</td>\n",
              "      <td>7.3</td>\n",
              "      <td>-19.7</td>\n",
              "    </tr>\n",
              "    <tr>\n",
              "      <th>199638</th>\n",
              "      <td>2016-05-18</td>\n",
              "      <td>15:18:00</td>\n",
              "      <td>0.5</td>\n",
              "      <td>0.5</td>\n",
              "      <td>0.3</td>\n",
              "      <td>0.3</td>\n",
              "      <td>0.3</td>\n",
              "      <td>0.2</td>\n",
              "      <td>0.9</td>\n",
              "      <td>0.9</td>\n",
              "      <td>2189.2</td>\n",
              "      <td>-25.8</td>\n",
              "      <td>-25.7</td>\n",
              "    </tr>\n",
              "    <tr>\n",
              "      <th>199656</th>\n",
              "      <td>2016-05-18</td>\n",
              "      <td>15:36:00</td>\n",
              "      <td>1.0</td>\n",
              "      <td>0.7</td>\n",
              "      <td>0.4</td>\n",
              "      <td>0.5</td>\n",
              "      <td>0.6</td>\n",
              "      <td>0.5</td>\n",
              "      <td>1.3</td>\n",
              "      <td>1.9</td>\n",
              "      <td>1980.7</td>\n",
              "      <td>-8.9</td>\n",
              "      <td>-10.7</td>\n",
              "    </tr>\n",
              "    <tr>\n",
              "      <th>199825</th>\n",
              "      <td>2016-05-18</td>\n",
              "      <td>18:25:00</td>\n",
              "      <td>0.6</td>\n",
              "      <td>0.6</td>\n",
              "      <td>0.4</td>\n",
              "      <td>0.4</td>\n",
              "      <td>0.4</td>\n",
              "      <td>0.3</td>\n",
              "      <td>1.2</td>\n",
              "      <td>1.2</td>\n",
              "      <td>1006.5</td>\n",
              "      <td>-25.1</td>\n",
              "      <td>-23.2</td>\n",
              "    </tr>\n",
              "    <tr>\n",
              "      <th>199923</th>\n",
              "      <td>2016-05-18</td>\n",
              "      <td>20:03:00</td>\n",
              "      <td>0.5</td>\n",
              "      <td>0.6</td>\n",
              "      <td>0.3</td>\n",
              "      <td>0.4</td>\n",
              "      <td>0.3</td>\n",
              "      <td>0.3</td>\n",
              "      <td>1.0</td>\n",
              "      <td>1.0</td>\n",
              "      <td>2638.4</td>\n",
              "      <td>-23.9</td>\n",
              "      <td>-23.8</td>\n",
              "    </tr>\n",
              "  </tbody>\n",
              "</table>\n",
              "<p>146 rows × 13 columns</p>\n",
              "</div>"
            ],
            "text/plain": [
              "             Dates      Time  A2V9005A  ...  A2V9021A  A2V9019A  A2V9018A\n",
              "57594   2016-02-09  23:54:00       0.3  ...     101.4       2.2       2.3\n",
              "73082   2016-02-20  18:02:00       0.7  ...    3813.2     -18.2     -18.1\n",
              "73887   2016-02-21  07:27:00       0.7  ...    3568.1     -18.6     -18.5\n",
              "74168   2016-02-21  12:08:00       0.6  ...    2831.6     -22.9     -22.9\n",
              "74243   2016-02-21  13:23:00       1.1  ...    2198.1      -6.9      -7.9\n",
              "...            ...       ...       ...  ...       ...       ...       ...\n",
              "199625  2016-05-18  15:05:00       0.7  ...    3527.3       7.3     -19.7\n",
              "199638  2016-05-18  15:18:00       0.5  ...    2189.2     -25.8     -25.7\n",
              "199656  2016-05-18  15:36:00       1.0  ...    1980.7      -8.9     -10.7\n",
              "199825  2016-05-18  18:25:00       0.6  ...    1006.5     -25.1     -23.2\n",
              "199923  2016-05-18  20:03:00       0.5  ...    2638.4     -23.9     -23.8\n",
              "\n",
              "[146 rows x 13 columns]"
            ]
          },
          "metadata": {
            "tags": []
          },
          "execution_count": 99
        }
      ]
    },
    {
      "cell_type": "code",
      "metadata": {
        "id": "bGcsAZldwhB1"
      },
      "source": [],
      "execution_count": null,
      "outputs": []
    },
    {
      "cell_type": "code",
      "metadata": {
        "id": "jDLGJCw1aKcY"
      },
      "source": [
        "# import libraries\n",
        "import pandas as pd\n",
        "from sklearn.svm import OneClassSVM\n",
        "import matplotlib.pyplot as plt\n",
        "from numpy import where"
      ],
      "execution_count": null,
      "outputs": []
    },
    {
      "cell_type": "code",
      "metadata": {
        "id": "0L2nBoM3aKrM"
      },
      "source": [
        "anomaly = pd.read_csv('anomaly.csv')\n",
        "anomaly_overall=anomaly[['param_overall_MILS',\n",
        "       'param1_MILS', 'param2_MILS', 'param3_MILS', 'param4_MILS',\n",
        "       'param5_MILS', 'param6_MILS']]\n",
        "anomaly1=anomaly['param_overall_MILS']\n",
        "anomaly2=anomaly['param1_MILS']\n",
        "anomaly3=anomaly['param2_MILS']\n",
        "anomaly4=anomaly['param3_MILS']\n",
        "anomaly5=anomaly['param4_MILS']\n",
        "anomaly6=anomaly['param5_MILS']\n",
        "anomaly7=anomaly['param6_MILS']"
      ],
      "execution_count": null,
      "outputs": []
    },
    {
      "cell_type": "code",
      "metadata": {
        "colab": {
          "base_uri": "https://localhost:8080/"
        },
        "id": "GHYRP-YZhEvA",
        "outputId": "8aecc52a-fd84-4228-ecce-a496b85cbe91"
      },
      "source": [
        "anomaly.columns"
      ],
      "execution_count": null,
      "outputs": [
        {
          "output_type": "execute_result",
          "data": {
            "text/plain": [
              "Index(['Position', 'Date and Time', 'RPM', 'APS', 'param_overall_MILS',\n",
              "       'param1_MILS', 'param2_MILS', 'param3_MILS', 'param4_MILS',\n",
              "       'param5_MILS', 'param6_MILS'],\n",
              "      dtype='object')"
            ]
          },
          "metadata": {
            "tags": []
          },
          "execution_count": 75
        }
      ]
    },
    {
      "cell_type": "code",
      "metadata": {
        "colab": {
          "base_uri": "https://localhost:8080/"
        },
        "id": "u383XCDfaK4K",
        "outputId": "49f25498-b2bd-4518-d709-b2cc0b2f599d"
      },
      "source": [
        "model = OneClassSVM(kernel = 'rbf', gamma = 0.001, nu = 0.03).fit(anomaly_overall)\n",
        "y_pred = model.predict(anomaly_overall)\n",
        "y_pred\n"
      ],
      "execution_count": null,
      "outputs": [
        {
          "output_type": "execute_result",
          "data": {
            "text/plain": [
              "array([-1,  1,  1,  1, -1,  1,  1,  1,  1,  1,  1,  1,  1,  1,  1,  1,  1,\n",
              "        1,  1,  1,  1,  1,  1,  1,  1,  1,  1,  1,  1,  1,  1,  1,  1,  1,\n",
              "       -1,  1,  1,  1,  1,  1,  1,  1,  1,  1,  1,  1,  1,  1,  1,  1,  1,\n",
              "        1,  1,  1,  1,  1,  1,  1,  1,  1,  1,  1,  1,  1,  1,  1,  1,  1,\n",
              "        1,  1,  1,  1, -1,  1,  1,  1,  1,  1,  1,  1,  1,  1,  1,  1,  1,\n",
              "        1,  1,  1,  1,  1,  1,  1,  1,  1,  1,  1,  1,  1,  1,  1,  1,  1,\n",
              "        1,  1,  1,  1,  1,  1,  1, -1,  1,  1,  1,  1,  1,  1,  1,  1,  1,\n",
              "        1,  1,  1,  1,  1,  1,  1,  1,  1,  1,  1,  1,  1,  1,  1,  1,  1,\n",
              "        1,  1,  1,  1,  1,  1,  1,  1,  1,  1,  1,  1,  1, -1,  1,  1,  1,\n",
              "       -1,  1,  1,  1,  1,  1,  1,  1,  1,  1,  1,  1,  1,  1,  1,  1,  1,\n",
              "        1,  1, -1,  1, -1, -1,  1,  1,  1,  1,  1,  1,  1,  1,  1, -1, -1,\n",
              "       -1, -1, -1, -1,  1,  1,  1,  1,  1,  1,  1,  1,  1,  1,  1,  1,  1,\n",
              "        1,  1,  1,  1,  1,  1,  1,  1,  1,  1,  1,  1,  1,  1,  1,  1,  1,\n",
              "        1,  1,  1,  1,  1,  1,  1,  1,  1,  1,  1,  1,  1,  1,  1,  1,  1,\n",
              "        1,  1,  1,  1,  1,  1,  1,  1,  1,  1,  1,  1, -1,  1,  1,  1,  1,\n",
              "        1,  1,  1,  1,  1,  1,  1,  1,  1,  1,  1,  1,  1,  1,  1,  1,  1,\n",
              "        1,  1,  1,  1,  1,  1,  1,  1,  1,  1,  1,  1,  1,  1,  1,  1,  1,\n",
              "        1,  1,  1,  1, -1,  1,  1,  1,  1,  1,  1,  1,  1,  1,  1,  1,  1,\n",
              "        1,  1,  1,  1,  1,  1,  1,  1,  1,  1,  1,  1,  1,  1,  1,  1,  1,\n",
              "        1,  1,  1,  1,  1,  1,  1,  1,  1,  1,  1,  1, -1,  1,  1,  1,  1,\n",
              "        1,  1,  1,  1,  1,  1,  1,  1,  1,  1,  1,  1,  1,  1,  1,  1,  1,\n",
              "        1,  1,  1,  1,  1,  1,  1,  1,  1,  1,  1,  1,  1,  1,  1,  1,  1,\n",
              "        1,  1,  1,  1, -1,  1,  1,  1,  1,  1,  1,  1,  1,  1,  1,  1,  1,\n",
              "        1,  1,  1,  1,  1,  1,  1,  1,  1,  1,  1,  1,  1,  1,  1,  1,  1,\n",
              "        1,  1,  1,  1,  1,  1,  1,  1,  1,  1,  1,  1,  1,  1,  1,  1,  1,\n",
              "        1,  1,  1,  1,  1,  1,  1,  1,  1,  1,  1,  1,  1,  1,  1,  1,  1,\n",
              "        1,  1,  1,  1,  1,  1,  1,  1,  1,  1,  1,  1,  1,  1,  1,  1,  1,\n",
              "        1,  1,  1,  1,  1, -1, -1, -1, -1, -1,  1,  1,  1,  1,  1,  1,  1,\n",
              "        1,  1,  1,  1,  1,  1,  1,  1,  1,  1,  1,  1,  1,  1,  1,  1,  1,\n",
              "        1,  1,  1,  1,  1,  1,  1,  1,  1,  1,  1,  1,  1,  1,  1,  1,  1,\n",
              "        1,  1,  1,  1,  1,  1,  1,  1,  1,  1,  1,  1,  1,  1,  1,  1,  1,\n",
              "        1,  1,  1,  1,  1,  1,  1,  1,  1,  1,  1,  1,  1,  1,  1,  1,  1,\n",
              "        1,  1,  1,  1,  1,  1,  1,  1,  1,  1,  1,  1,  1,  1,  1,  1,  1,\n",
              "        1,  1,  1,  1,  1,  1,  1,  1,  1,  1,  1,  1,  1,  1,  1,  1,  1,\n",
              "        1,  1,  1,  1,  1,  1,  1,  1,  1,  1,  1,  1,  1,  1,  1,  1,  1,\n",
              "        1,  1,  1,  1,  1,  1,  1,  1,  1,  1,  1,  1,  1,  1,  1,  1,  1,\n",
              "        1,  1,  1,  1,  1,  1,  1,  1,  1,  1,  1,  1,  1,  1,  1,  1,  1,\n",
              "        1,  1,  1,  1,  1,  1,  1,  1,  1,  1,  1,  1,  1,  1,  1,  1,  1,\n",
              "        1,  1,  1,  1,  1,  1,  1,  1,  1,  1,  1,  1,  1,  1,  1,  1,  1,\n",
              "        1,  1,  1,  1,  1,  1,  1,  1,  1,  1,  1,  1,  1,  1,  1,  1,  1,\n",
              "        1,  1,  1,  1,  1,  1,  1,  1,  1,  1,  1,  1,  1,  1,  1,  1,  1,\n",
              "        1,  1,  1,  1,  1,  1,  1,  1,  1,  1,  1,  1,  1,  1,  1,  1,  1,\n",
              "        1,  1,  1,  1,  1,  1,  1,  1,  1,  1,  1,  1,  1,  1,  1,  1,  1,\n",
              "        1,  1,  1,  1,  1,  1,  1,  1,  1,  1,  1,  1,  1,  1,  1,  1,  1,\n",
              "        1,  1,  1,  1,  1,  1,  1,  1,  1,  1,  1,  1,  1,  1,  1,  1,  1,\n",
              "        1,  1,  1,  1,  1,  1,  1,  1,  1,  1,  1,  1,  1,  1,  1,  1,  1,\n",
              "        1,  1,  1,  1,  1,  1,  1,  1,  1,  1,  1,  1,  1,  1,  1,  1,  1,\n",
              "        1,  1,  1,  1,  1,  1,  1,  1,  1,  1,  1,  1,  1,  1,  1,  1,  1,\n",
              "        1,  1,  1,  1,  1,  1,  1,  1,  1,  1,  1,  1,  1,  1,  1,  1,  1,\n",
              "        1,  1,  1,  1,  1,  1,  1,  1,  1,  1,  1])"
            ]
          },
          "metadata": {
            "tags": []
          },
          "execution_count": 72
        }
      ]
    },
    {
      "cell_type": "code",
      "metadata": {
        "colab": {
          "base_uri": "https://localhost:8080/",
          "height": 824
        },
        "id": "-YlxIsYdcv5E",
        "outputId": "023cdd9f-6fe9-40d6-9fb8-53a4b312af24"
      },
      "source": [
        "# filter outlier index\n",
        "outlier_index = where(y_pred == -1)\n",
        "# filter outlier values\n",
        "outlier_values = anomaly.iloc[outlier_index]\n",
        "outlier_values\n",
        "outlier_values\n"
      ],
      "execution_count": null,
      "outputs": [
        {
          "output_type": "execute_result",
          "data": {
            "text/html": [
              "<div>\n",
              "<style scoped>\n",
              "    .dataframe tbody tr th:only-of-type {\n",
              "        vertical-align: middle;\n",
              "    }\n",
              "\n",
              "    .dataframe tbody tr th {\n",
              "        vertical-align: top;\n",
              "    }\n",
              "\n",
              "    .dataframe thead th {\n",
              "        text-align: right;\n",
              "    }\n",
              "</style>\n",
              "<table border=\"1\" class=\"dataframe\">\n",
              "  <thead>\n",
              "    <tr style=\"text-align: right;\">\n",
              "      <th></th>\n",
              "      <th>Position</th>\n",
              "      <th>Date and Time</th>\n",
              "      <th>RPM</th>\n",
              "      <th>APS</th>\n",
              "      <th>param_overall_MILS</th>\n",
              "      <th>param1_MILS</th>\n",
              "      <th>param2_MILS</th>\n",
              "      <th>param3_MILS</th>\n",
              "      <th>param4_MILS</th>\n",
              "      <th>param5_MILS</th>\n",
              "      <th>param6_MILS</th>\n",
              "    </tr>\n",
              "  </thead>\n",
              "  <tbody>\n",
              "    <tr>\n",
              "      <th>0</th>\n",
              "      <td>2-PMP-3-70-1V</td>\n",
              "      <td>20-Jan-16 13:56</td>\n",
              "      <td>4950</td>\n",
              "      <td>100</td>\n",
              "      <td>0.111899</td>\n",
              "      <td>0.111899</td>\n",
              "      <td>0.006174</td>\n",
              "      <td>0.000772</td>\n",
              "      <td>0.001543</td>\n",
              "      <td>0.000424</td>\n",
              "      <td>0.002624</td>\n",
              "    </tr>\n",
              "    <tr>\n",
              "      <th>4</th>\n",
              "      <td>2-PMP-3-70-1H</td>\n",
              "      <td>07-May-20 02:52</td>\n",
              "      <td>4300</td>\n",
              "      <td>65</td>\n",
              "      <td>0.119930</td>\n",
              "      <td>0.075512</td>\n",
              "      <td>0.053302</td>\n",
              "      <td>0.053302</td>\n",
              "      <td>0.048860</td>\n",
              "      <td>0.002665</td>\n",
              "      <td>0.017323</td>\n",
              "    </tr>\n",
              "    <tr>\n",
              "      <th>34</th>\n",
              "      <td>2-PMP-3-70-2V</td>\n",
              "      <td>06-May-19 11:47</td>\n",
              "      <td>48671</td>\n",
              "      <td>100</td>\n",
              "      <td>0.027863</td>\n",
              "      <td>0.027470</td>\n",
              "      <td>0.003414</td>\n",
              "      <td>0.003571</td>\n",
              "      <td>0.001138</td>\n",
              "      <td>0.000137</td>\n",
              "      <td>0.000432</td>\n",
              "    </tr>\n",
              "    <tr>\n",
              "      <th>72</th>\n",
              "      <td>2-PMP-3-70-2H</td>\n",
              "      <td>06-May-19 11:47</td>\n",
              "      <td>48671</td>\n",
              "      <td>100</td>\n",
              "      <td>0.048661</td>\n",
              "      <td>0.041205</td>\n",
              "      <td>0.004317</td>\n",
              "      <td>0.019229</td>\n",
              "      <td>0.005494</td>\n",
              "      <td>0.000981</td>\n",
              "      <td>0.001370</td>\n",
              "    </tr>\n",
              "    <tr>\n",
              "      <th>109</th>\n",
              "      <td>2-PMP-3-70-2H</td>\n",
              "      <td>06-May-19 11:47</td>\n",
              "      <td>48671</td>\n",
              "      <td>100</td>\n",
              "      <td>0.040813</td>\n",
              "      <td>0.040028</td>\n",
              "      <td>0.003610</td>\n",
              "      <td>0.008241</td>\n",
              "      <td>0.001452</td>\n",
              "      <td>0.000188</td>\n",
              "      <td>0.000628</td>\n",
              "    </tr>\n",
              "    <tr>\n",
              "      <th>149</th>\n",
              "      <td>2-PMP-3-70-3V</td>\n",
              "      <td>09-Dec-18 16:01</td>\n",
              "      <td>3800</td>\n",
              "      <td>50</td>\n",
              "      <td>1.769263</td>\n",
              "      <td>0.266395</td>\n",
              "      <td>0.150789</td>\n",
              "      <td>0.216132</td>\n",
              "      <td>0.623263</td>\n",
              "      <td>1.040447</td>\n",
              "      <td>1.352079</td>\n",
              "    </tr>\n",
              "    <tr>\n",
              "      <th>153</th>\n",
              "      <td>2-PMP-3-70-3V</td>\n",
              "      <td>06-May-19 11:47</td>\n",
              "      <td>48671</td>\n",
              "      <td>100</td>\n",
              "      <td>0.056510</td>\n",
              "      <td>0.016482</td>\n",
              "      <td>0.040028</td>\n",
              "      <td>0.021976</td>\n",
              "      <td>0.038851</td>\n",
              "      <td>0.000078</td>\n",
              "      <td>0.000118</td>\n",
              "    </tr>\n",
              "    <tr>\n",
              "      <th>172</th>\n",
              "      <td>2-PMP-3-70-3H</td>\n",
              "      <td>07-Feb-17 09:19</td>\n",
              "      <td>4900</td>\n",
              "      <td>100</td>\n",
              "      <td>1.824245</td>\n",
              "      <td>0.210490</td>\n",
              "      <td>0.085755</td>\n",
              "      <td>0.113041</td>\n",
              "      <td>0.101347</td>\n",
              "      <td>1.777469</td>\n",
              "      <td>0.296245</td>\n",
              "    </tr>\n",
              "    <tr>\n",
              "      <th>174</th>\n",
              "      <td>2-PMP-3-70-3H</td>\n",
              "      <td>09-Feb-17 08:37</td>\n",
              "      <td>4900</td>\n",
              "      <td>100</td>\n",
              "      <td>2.011347</td>\n",
              "      <td>0.206592</td>\n",
              "      <td>0.120837</td>\n",
              "      <td>0.062367</td>\n",
              "      <td>0.085755</td>\n",
              "      <td>1.976265</td>\n",
              "      <td>0.284551</td>\n",
              "    </tr>\n",
              "    <tr>\n",
              "      <th>175</th>\n",
              "      <td>2-PMP-3-70-3H</td>\n",
              "      <td>01-Mar-17 08:41</td>\n",
              "      <td>4900</td>\n",
              "      <td>100</td>\n",
              "      <td>1.882714</td>\n",
              "      <td>0.124735</td>\n",
              "      <td>0.105245</td>\n",
              "      <td>0.077959</td>\n",
              "      <td>0.089653</td>\n",
              "      <td>1.828143</td>\n",
              "      <td>0.229980</td>\n",
              "    </tr>\n",
              "    <tr>\n",
              "      <th>185</th>\n",
              "      <td>2-PMP-3-70-3H</td>\n",
              "      <td>06-Jun-18 13:32</td>\n",
              "      <td>4905</td>\n",
              "      <td>100</td>\n",
              "      <td>1.982039</td>\n",
              "      <td>0.132396</td>\n",
              "      <td>0.050622</td>\n",
              "      <td>0.070092</td>\n",
              "      <td>0.097350</td>\n",
              "      <td>1.954781</td>\n",
              "      <td>0.272579</td>\n",
              "    </tr>\n",
              "    <tr>\n",
              "      <th>186</th>\n",
              "      <td>2-PMP-3-70-3H</td>\n",
              "      <td>06-Jun-18 13:32</td>\n",
              "      <td>4905</td>\n",
              "      <td>100</td>\n",
              "      <td>2.141692</td>\n",
              "      <td>0.101244</td>\n",
              "      <td>0.058410</td>\n",
              "      <td>0.073986</td>\n",
              "      <td>0.097350</td>\n",
              "      <td>2.056024</td>\n",
              "      <td>0.412762</td>\n",
              "    </tr>\n",
              "    <tr>\n",
              "      <th>187</th>\n",
              "      <td>2-PMP-3-70-3H</td>\n",
              "      <td>07-Jun-18 08:03</td>\n",
              "      <td>4906</td>\n",
              "      <td>100</td>\n",
              "      <td>1.876519</td>\n",
              "      <td>0.182980</td>\n",
              "      <td>0.037375</td>\n",
              "      <td>0.085650</td>\n",
              "      <td>0.109009</td>\n",
              "      <td>1.814227</td>\n",
              "      <td>0.288096</td>\n",
              "    </tr>\n",
              "    <tr>\n",
              "      <th>188</th>\n",
              "      <td>2-PMP-3-70-3H</td>\n",
              "      <td>07-Jun-18 10:24</td>\n",
              "      <td>4915</td>\n",
              "      <td>100</td>\n",
              "      <td>1.966348</td>\n",
              "      <td>0.202075</td>\n",
              "      <td>0.042747</td>\n",
              "      <td>0.085493</td>\n",
              "      <td>0.116582</td>\n",
              "      <td>1.970234</td>\n",
              "      <td>0.314771</td>\n",
              "    </tr>\n",
              "    <tr>\n",
              "      <th>189</th>\n",
              "      <td>2-PMP-3-70-3H</td>\n",
              "      <td>07-Jun-18 10:43</td>\n",
              "      <td>4905</td>\n",
              "      <td>100</td>\n",
              "      <td>1.939205</td>\n",
              "      <td>0.183017</td>\n",
              "      <td>0.038161</td>\n",
              "      <td>0.073986</td>\n",
              "      <td>0.093456</td>\n",
              "      <td>1.896371</td>\n",
              "      <td>0.260897</td>\n",
              "    </tr>\n",
              "    <tr>\n",
              "      <th>190</th>\n",
              "      <td>2-PMP-3-70-3H</td>\n",
              "      <td>07-Jun-18 10:45</td>\n",
              "      <td>4920</td>\n",
              "      <td>100</td>\n",
              "      <td>1.875061</td>\n",
              "      <td>0.147520</td>\n",
              "      <td>0.036492</td>\n",
              "      <td>0.073760</td>\n",
              "      <td>0.097053</td>\n",
              "      <td>1.836240</td>\n",
              "      <td>0.256220</td>\n",
              "    </tr>\n",
              "    <tr>\n",
              "      <th>250</th>\n",
              "      <td>2-PMP-3-70-3A</td>\n",
              "      <td>06-May-19 11:48</td>\n",
              "      <td>48671</td>\n",
              "      <td>100</td>\n",
              "      <td>0.076916</td>\n",
              "      <td>0.024723</td>\n",
              "      <td>0.071030</td>\n",
              "      <td>0.009418</td>\n",
              "      <td>0.018052</td>\n",
              "      <td>0.000275</td>\n",
              "      <td>0.000235</td>\n",
              "    </tr>\n",
              "    <tr>\n",
              "      <th>293</th>\n",
              "      <td>2-PMP-3-70-4V</td>\n",
              "      <td>06-May-19 11:48</td>\n",
              "      <td>48671</td>\n",
              "      <td>100</td>\n",
              "      <td>0.036104</td>\n",
              "      <td>0.020406</td>\n",
              "      <td>0.023546</td>\n",
              "      <td>0.012165</td>\n",
              "      <td>0.009811</td>\n",
              "      <td>0.000118</td>\n",
              "      <td>0.000157</td>\n",
              "    </tr>\n",
              "    <tr>\n",
              "      <th>335</th>\n",
              "      <td>2-PMP-3-70-4H</td>\n",
              "      <td>06-May-19 11:48</td>\n",
              "      <td>48671</td>\n",
              "      <td>100</td>\n",
              "      <td>0.044345</td>\n",
              "      <td>0.037673</td>\n",
              "      <td>0.011773</td>\n",
              "      <td>0.014520</td>\n",
              "      <td>0.010596</td>\n",
              "      <td>0.000118</td>\n",
              "      <td>0.000078</td>\n",
              "    </tr>\n",
              "    <tr>\n",
              "      <th>378</th>\n",
              "      <td>2-PMP-3-70-4A</td>\n",
              "      <td>06-May-19 11:48</td>\n",
              "      <td>48671</td>\n",
              "      <td>100</td>\n",
              "      <td>0.055333</td>\n",
              "      <td>0.030610</td>\n",
              "      <td>0.044737</td>\n",
              "      <td>0.012950</td>\n",
              "      <td>0.009026</td>\n",
              "      <td>0.000118</td>\n",
              "      <td>0.000118</td>\n",
              "    </tr>\n",
              "    <tr>\n",
              "      <th>464</th>\n",
              "      <td>2-PMP-3-84-2H</td>\n",
              "      <td>19-Jan-16 12:22</td>\n",
              "      <td>4900</td>\n",
              "      <td>100</td>\n",
              "      <td>1.364286</td>\n",
              "      <td>0.120837</td>\n",
              "      <td>1.352592</td>\n",
              "      <td>0.066265</td>\n",
              "      <td>0.089653</td>\n",
              "      <td>0.042878</td>\n",
              "      <td>0.105245</td>\n",
              "    </tr>\n",
              "    <tr>\n",
              "      <th>465</th>\n",
              "      <td>2-PMP-3-84-2H</td>\n",
              "      <td>20-Jan-16 13:18</td>\n",
              "      <td>4875</td>\n",
              "      <td>100</td>\n",
              "      <td>1.300759</td>\n",
              "      <td>0.097949</td>\n",
              "      <td>1.289005</td>\n",
              "      <td>0.058769</td>\n",
              "      <td>0.097949</td>\n",
              "      <td>0.025858</td>\n",
              "      <td>0.032127</td>\n",
              "    </tr>\n",
              "    <tr>\n",
              "      <th>466</th>\n",
              "      <td>2-PMP-3-84-2H</td>\n",
              "      <td>21-Jan-16 09:36</td>\n",
              "      <td>4869</td>\n",
              "      <td>100</td>\n",
              "      <td>1.329821</td>\n",
              "      <td>0.125529</td>\n",
              "      <td>1.318053</td>\n",
              "      <td>0.066687</td>\n",
              "      <td>0.094147</td>\n",
              "      <td>0.025498</td>\n",
              "      <td>0.031382</td>\n",
              "    </tr>\n",
              "    <tr>\n",
              "      <th>467</th>\n",
              "      <td>2-PMP-3-84-2H</td>\n",
              "      <td>21-Jan-16 09:39</td>\n",
              "      <td>4868</td>\n",
              "      <td>100</td>\n",
              "      <td>1.322247</td>\n",
              "      <td>0.098090</td>\n",
              "      <td>1.310477</td>\n",
              "      <td>0.062777</td>\n",
              "      <td>0.098090</td>\n",
              "      <td>0.031781</td>\n",
              "      <td>0.025896</td>\n",
              "    </tr>\n",
              "    <tr>\n",
              "      <th>468</th>\n",
              "      <td>2-PMP-3-84-2H</td>\n",
              "      <td>12-May-16 15:01</td>\n",
              "      <td>4850</td>\n",
              "      <td>100</td>\n",
              "      <td>1.650082</td>\n",
              "      <td>0.149649</td>\n",
              "      <td>1.638268</td>\n",
              "      <td>0.126021</td>\n",
              "      <td>0.074825</td>\n",
              "      <td>0.012208</td>\n",
              "      <td>0.037412</td>\n",
              "    </tr>\n",
              "  </tbody>\n",
              "</table>\n",
              "</div>"
            ],
            "text/plain": [
              "            Position    Date and Time  ...  param5_MILS  param6_MILS\n",
              "0    2-PMP-3-70-1V    20-Jan-16 13:56  ...     0.000424     0.002624\n",
              "4    2-PMP-3-70-1H    07-May-20 02:52  ...     0.002665     0.017323\n",
              "34   2-PMP-3-70-2V    06-May-19 11:47  ...     0.000137     0.000432\n",
              "72   2-PMP-3-70-2H    06-May-19 11:47  ...     0.000981     0.001370\n",
              "109  2-PMP-3-70-2H    06-May-19 11:47  ...     0.000188     0.000628\n",
              "149  2-PMP-3-70-3V    09-Dec-18 16:01  ...     1.040447     1.352079\n",
              "153  2-PMP-3-70-3V    06-May-19 11:47  ...     0.000078     0.000118\n",
              "172  2-PMP-3-70-3H    07-Feb-17 09:19  ...     1.777469     0.296245\n",
              "174  2-PMP-3-70-3H    09-Feb-17 08:37  ...     1.976265     0.284551\n",
              "175  2-PMP-3-70-3H    01-Mar-17 08:41  ...     1.828143     0.229980\n",
              "185  2-PMP-3-70-3H    06-Jun-18 13:32  ...     1.954781     0.272579\n",
              "186  2-PMP-3-70-3H    06-Jun-18 13:32  ...     2.056024     0.412762\n",
              "187  2-PMP-3-70-3H    07-Jun-18 08:03  ...     1.814227     0.288096\n",
              "188  2-PMP-3-70-3H    07-Jun-18 10:24  ...     1.970234     0.314771\n",
              "189  2-PMP-3-70-3H    07-Jun-18 10:43  ...     1.896371     0.260897\n",
              "190  2-PMP-3-70-3H    07-Jun-18 10:45  ...     1.836240     0.256220\n",
              "250  2-PMP-3-70-3A    06-May-19 11:48  ...     0.000275     0.000235\n",
              "293  2-PMP-3-70-4V    06-May-19 11:48  ...     0.000118     0.000157\n",
              "335  2-PMP-3-70-4H    06-May-19 11:48  ...     0.000118     0.000078\n",
              "378  2-PMP-3-70-4A    06-May-19 11:48  ...     0.000118     0.000118\n",
              "464  2-PMP-3-84-2H    19-Jan-16 12:22  ...     0.042878     0.105245\n",
              "465  2-PMP-3-84-2H    20-Jan-16 13:18  ...     0.025858     0.032127\n",
              "466  2-PMP-3-84-2H    21-Jan-16 09:36  ...     0.025498     0.031382\n",
              "467  2-PMP-3-84-2H    21-Jan-16 09:39  ...     0.031781     0.025896\n",
              "468  2-PMP-3-84-2H    12-May-16 15:01  ...     0.012208     0.037412\n",
              "\n",
              "[25 rows x 11 columns]"
            ]
          },
          "metadata": {
            "tags": []
          },
          "execution_count": 88
        }
      ]
    },
    {
      "cell_type": "code",
      "metadata": {
        "colab": {
          "base_uri": "https://localhost:8080/",
          "height": 297
        },
        "id": "sYkfdiJ5lLy-",
        "outputId": "40bd4ab3-d63d-4daf-c13c-adbe73d443f5"
      },
      "source": [
        "df_humanfilled5.describe()"
      ],
      "execution_count": null,
      "outputs": [
        {
          "output_type": "execute_result",
          "data": {
            "text/html": [
              "<div>\n",
              "<style scoped>\n",
              "    .dataframe tbody tr th:only-of-type {\n",
              "        vertical-align: middle;\n",
              "    }\n",
              "\n",
              "    .dataframe tbody tr th {\n",
              "        vertical-align: top;\n",
              "    }\n",
              "\n",
              "    .dataframe thead th {\n",
              "        text-align: right;\n",
              "    }\n",
              "</style>\n",
              "<table border=\"1\" class=\"dataframe\">\n",
              "  <thead>\n",
              "    <tr style=\"text-align: right;\">\n",
              "      <th></th>\n",
              "      <th>param_overall_MILS</th>\n",
              "      <th>param1_MILS</th>\n",
              "      <th>param2_MILS</th>\n",
              "      <th>param3_MILS</th>\n",
              "      <th>param4_MILS</th>\n",
              "      <th>param5_MILS</th>\n",
              "      <th>param6_MILS</th>\n",
              "    </tr>\n",
              "  </thead>\n",
              "  <tbody>\n",
              "    <tr>\n",
              "      <th>count</th>\n",
              "      <td>844.000000</td>\n",
              "      <td>844.000000</td>\n",
              "      <td>844.000000</td>\n",
              "      <td>844.000000</td>\n",
              "      <td>844.000000</td>\n",
              "      <td>844.000000</td>\n",
              "      <td>844.000000</td>\n",
              "    </tr>\n",
              "    <tr>\n",
              "      <th>mean</th>\n",
              "      <td>0.594946</td>\n",
              "      <td>0.127085</td>\n",
              "      <td>0.219262</td>\n",
              "      <td>0.078148</td>\n",
              "      <td>0.104166</td>\n",
              "      <td>0.360971</td>\n",
              "      <td>0.168086</td>\n",
              "    </tr>\n",
              "    <tr>\n",
              "      <th>std</th>\n",
              "      <td>0.357455</td>\n",
              "      <td>0.065140</td>\n",
              "      <td>0.177978</td>\n",
              "      <td>0.076353</td>\n",
              "      <td>0.065809</td>\n",
              "      <td>0.421983</td>\n",
              "      <td>0.131831</td>\n",
              "    </tr>\n",
              "    <tr>\n",
              "      <th>min</th>\n",
              "      <td>0.027863</td>\n",
              "      <td>0.016482</td>\n",
              "      <td>0.003414</td>\n",
              "      <td>0.000772</td>\n",
              "      <td>0.001138</td>\n",
              "      <td>0.000078</td>\n",
              "      <td>0.000078</td>\n",
              "    </tr>\n",
              "    <tr>\n",
              "      <th>25%</th>\n",
              "      <td>0.358946</td>\n",
              "      <td>0.086743</td>\n",
              "      <td>0.122161</td>\n",
              "      <td>0.034793</td>\n",
              "      <td>0.064790</td>\n",
              "      <td>0.031820</td>\n",
              "      <td>0.051729</td>\n",
              "    </tr>\n",
              "    <tr>\n",
              "      <th>50%</th>\n",
              "      <td>0.486035</td>\n",
              "      <td>0.116701</td>\n",
              "      <td>0.181545</td>\n",
              "      <td>0.050907</td>\n",
              "      <td>0.085755</td>\n",
              "      <td>0.194501</td>\n",
              "      <td>0.160542</td>\n",
              "    </tr>\n",
              "    <tr>\n",
              "      <th>75%</th>\n",
              "      <td>0.735803</td>\n",
              "      <td>0.153138</td>\n",
              "      <td>0.248997</td>\n",
              "      <td>0.085741</td>\n",
              "      <td>0.120868</td>\n",
              "      <td>0.568957</td>\n",
              "      <td>0.235800</td>\n",
              "    </tr>\n",
              "    <tr>\n",
              "      <th>max</th>\n",
              "      <td>2.141692</td>\n",
              "      <td>0.648973</td>\n",
              "      <td>1.638268</td>\n",
              "      <td>0.508067</td>\n",
              "      <td>0.623263</td>\n",
              "      <td>2.056024</td>\n",
              "      <td>1.352079</td>\n",
              "    </tr>\n",
              "  </tbody>\n",
              "</table>\n",
              "</div>"
            ],
            "text/plain": [
              "       param_overall_MILS  param1_MILS  ...  param5_MILS  param6_MILS\n",
              "count          844.000000   844.000000  ...   844.000000   844.000000\n",
              "mean             0.594946     0.127085  ...     0.360971     0.168086\n",
              "std              0.357455     0.065140  ...     0.421983     0.131831\n",
              "min              0.027863     0.016482  ...     0.000078     0.000078\n",
              "25%              0.358946     0.086743  ...     0.031820     0.051729\n",
              "50%              0.486035     0.116701  ...     0.194501     0.160542\n",
              "75%              0.735803     0.153138  ...     0.568957     0.235800\n",
              "max              2.141692     0.648973  ...     2.056024     1.352079\n",
              "\n",
              "[8 rows x 7 columns]"
            ]
          },
          "metadata": {
            "tags": []
          },
          "execution_count": 85
        }
      ]
    },
    {
      "cell_type": "code",
      "metadata": {
        "colab": {
          "base_uri": "https://localhost:8080/",
          "height": 279
        },
        "id": "Me5h8KZdgyr0",
        "outputId": "29c91d55-07ce-4d80-fc2f-8a0e18816948"
      },
      "source": [
        "plt.scatter(anomaly[\"param_overall_MILS\"], anomaly[\"RPM\"])\n",
        "plt.scatter(outlier_values[\"param_overall_MILS\"], outlier_values[\"RPM\"], c = \"r\")\n",
        "plt.xlabel(\"overall parameter\")\n",
        "plt.ylabel(\"RPM\")\n",
        "plt.show()"
      ],
      "execution_count": null,
      "outputs": [
        {
          "output_type": "display_data",
          "data": {
            "image/png": "[encoded data removed]",
            "text/plain": [
              "<Figure size 432x288 with 1 Axes>"
            ]
          },
          "metadata": {
            "tags": [],
            "needs_background": "light"
          }
        }
      ]
    },
    {
      "cell_type": "code",
      "metadata": {
        "colab": {
          "base_uri": "https://localhost:8080/",
          "height": 279
        },
        "id": "bnsRCQSYaLD6",
        "outputId": "f4afd947-32ed-41ab-f0a6-c651abb3ad86"
      },
      "source": [
        "plt.scatter(anomaly[\"param1_MILS\"], anomaly[\"RPM\"])\n",
        "plt.scatter(outlier_values[\"param1_MILS\"], outlier_values[\"RPM\"], c = \"r\")\n",
        "plt.xlabel(\"parameter 1\")\n",
        "plt.ylabel(\"RPM\")\n",
        "plt.show()"
      ],
      "execution_count": null,
      "outputs": [
        {
          "output_type": "display_data",
          "data": {
            "image/png": "[encoded data removed]",
            "text/plain": [
              "<Figure size 432x288 with 1 Axes>"
            ]
          },
          "metadata": {
            "tags": [],
            "needs_background": "light"
          }
        }
      ]
    },
    {
      "cell_type": "code",
      "metadata": {
        "colab": {
          "base_uri": "https://localhost:8080/",
          "height": 279
        },
        "id": "UyZ8NjusiR6B",
        "outputId": "5148ef2f-5095-4518-ca7a-632aceb90431"
      },
      "source": [
        "plt.scatter(anomaly[\"param2_MILS\"], anomaly[\"RPM\"])\n",
        "plt.scatter(outlier_values[\"param2_MILS\"], outlier_values[\"RPM\"], c = \"r\")\n",
        "plt.xlabel(\"parameter 2\")\n",
        "plt.ylabel(\"RPM\")\n",
        "plt.show()"
      ],
      "execution_count": null,
      "outputs": [
        {
          "output_type": "display_data",
          "data": {
            "image/png": "[encoded data removed]",
            "text/plain": [
              "<Figure size 432x288 with 1 Axes>"
            ]
          },
          "metadata": {
            "tags": [],
            "needs_background": "light"
          }
        }
      ]
    }
  ]
}